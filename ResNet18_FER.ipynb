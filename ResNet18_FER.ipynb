{
  "cells": [
    {
      "cell_type": "markdown",
      "metadata": {
        "id": "view-in-github",
        "colab_type": "text"
      },
      "source": [
        "<a href=\"https://colab.research.google.com/github/Rafi076/RTFER/blob/main/ResNet18_FER.ipynb\" target=\"_parent\"><img src=\"https://colab.research.google.com/assets/colab-badge.svg\" alt=\"Open In Colab\"/></a>"
      ]
    },
    {
      "cell_type": "code",
      "source": [
        "# Step 1: Setup\n",
        "import os\n",
        "import zipfile\n",
        "import cv2\n",
        "import numpy as np\n",
        "import matplotlib.pyplot as plt\n",
        "from PIL import Image\n",
        "from sklearn.model_selection import train_test_split\n",
        "from torchvision import transforms, models\n",
        "from torch.utils.data import Dataset, DataLoader\n",
        "import torch\n",
        "import torch.nn as nn\n",
        "import torch.optim as optim\n",
        "from torchvision.transforms import functional as TF\n",
        "from torchvision import transforms\n",
        "from torch.utils.data import Dataset\n",
        "import torch\n",
        "import random"
      ],
      "metadata": {
        "id": "jekjPsHvza7k"
      },
      "execution_count": 1,
      "outputs": []
    },
    {
      "cell_type": "code",
      "source": [
        "# Step 2: Unzip the FER-2013 dataset\n",
        "zip_path = \"/content/FER-2013.zip\"  # Update if path differs\n",
        "extract_path = \"/content/FER-2013\"\n",
        "\n",
        "with zipfile.ZipFile(zip_path, 'r') as zip_ref:\n",
        "    zip_ref.extractall(extract_path)\n",
        "\n",
        "print(\"FER-2013 dataset extracted.\")"
      ],
      "metadata": {
        "colab": {
          "base_uri": "https://localhost:8080/"
        },
        "id": "4NTWQPtq24pq",
        "outputId": "a790c775-ce2c-46d7-d349-7009ebf92fcf"
      },
      "execution_count": 7,
      "outputs": [
        {
          "output_type": "stream",
          "name": "stdout",
          "text": [
            "FER-2013 dataset extracted.\n"
          ]
        }
      ]
    },
    {
      "cell_type": "code",
      "source": [
        "# TRAINING Dataset with CLAHE + Augmentations\n",
        "class FERPreprocessTrainDataset(Dataset):\n",
        "    def __init__(self, image_dir):\n",
        "        self.image_paths = []\n",
        "        self.labels = []\n",
        "        self.class_map = sorted(os.listdir(image_dir))\n",
        "\n",
        "        for label, class_name in enumerate(self.class_map):\n",
        "            class_folder = os.path.join(image_dir, class_name)\n",
        "            for img_name in os.listdir(class_folder):\n",
        "                self.image_paths.append(os.path.join(class_folder, img_name))\n",
        "                self.labels.append(label)\n",
        "\n",
        "        # Train-time augmentations\n",
        "        self.augment = transforms.Compose([\n",
        "            transforms.RandomHorizontalFlip(p=0.5),\n",
        "            transforms.RandomRotation(10),\n",
        "            transforms.RandomResizedCrop(48, scale=(0.8, 1.2)),\n",
        "            transforms.ColorJitter(brightness=0.1, contrast=0.1),\n",
        "            transforms.ToTensor(),\n",
        "            transforms.Normalize([0.5]*3, [0.5]*3),\n",
        "            transforms.RandomErasing(p=0.5, scale=(0.02, 0.15), ratio=(0.3, 3.3))\n",
        "        ])\n",
        "\n",
        "    def __len__(self):\n",
        "        return len(self.image_paths)\n",
        "\n",
        "    def __getitem__(self, idx):\n",
        "        img_path = self.image_paths[idx]\n",
        "        label = self.labels[idx]\n",
        "\n",
        "        # Step 1: Grayscale\n",
        "        img = cv2.imread(img_path, cv2.IMREAD_GRAYSCALE)\n",
        "\n",
        "        # Step 2: CLAHE instead of basic hist equalization\n",
        "        clahe = cv2.createCLAHE(clipLimit=2.0, tileGridSize=(8, 8))\n",
        "        img = clahe.apply(img)\n",
        "\n",
        "        # Step 3: Convert to RGB\n",
        "        img = cv2.cvtColor(img, cv2.COLOR_GRAY2RGB)\n",
        "\n",
        "        # Step 4: Apply transformations\n",
        "        img = Image.fromarray(img)\n",
        "        img = self.augment(img)\n",
        "\n",
        "        return img, label\n",
        "\n",
        "\n",
        "# TESTING Dataset with TenCrop Support\n",
        "class FERPreprocessTestDataset(Dataset):\n",
        "    def __init__(self, image_dir):\n",
        "        self.image_paths = []\n",
        "        self.labels = []\n",
        "        self.class_map = sorted(os.listdir(image_dir))\n",
        "\n",
        "        for label, class_name in enumerate(self.class_map):\n",
        "            class_folder = os.path.join(image_dir, class_name)\n",
        "            for img_name in os.listdir(class_folder):\n",
        "                self.image_paths.append(os.path.join(class_folder, img_name))\n",
        "                self.labels.append(label)\n",
        "\n",
        "        # TenCrop (inference-time)\n",
        "        self.transform = transforms.Compose([\n",
        "            transforms.Resize(56),\n",
        "            transforms.TenCrop(48),  # returns 10 crops\n",
        "            transforms.Lambda(lambda crops: torch.stack([\n",
        "                transforms.Normalize([0.5]*3, [0.5]*3)(transforms.ToTensor()(crop))\n",
        "                for crop in crops\n",
        "            ]))\n",
        "        ])\n",
        "\n",
        "    def __len__(self):\n",
        "        return len(self.image_paths)\n",
        "\n",
        "    def __getitem__(self, idx):\n",
        "        img_path = self.image_paths[idx]\n",
        "        label = self.labels[idx]\n",
        "\n",
        "        # Grayscale → CLAHE → RGB\n",
        "        img = cv2.imread(img_path, cv2.IMREAD_GRAYSCALE)\n",
        "        clahe = cv2.createCLAHE(clipLimit=2.0, tileGridSize=(8, 8))\n",
        "        img = clahe.apply(img)\n",
        "        img = cv2.cvtColor(img, cv2.COLOR_GRAY2RGB)\n",
        "        img = Image.fromarray(img)\n",
        "\n",
        "        # Apply TenCrop + Normalize\n",
        "        img = self.transform(img)  # shape: [10, 3, 48, 48]\n",
        "        return img, label"
      ],
      "metadata": {
        "id": "LmLSNC6T3RZX"
      },
      "execution_count": 8,
      "outputs": []
    },
    {
      "cell_type": "code",
      "source": [
        "# Define dataset paths\n",
        "train_path = \"/content/FER-2013/FER-2013/train\"\n",
        "test_path = \"/content/FER-2013/FER-2013/test\"\n",
        "\n",
        "# Load Datasets\n",
        "train_dataset = FERPreprocessTrainDataset(train_path)\n",
        "test_dataset = FERPreprocessTestDataset(test_path)\n",
        "\n",
        "# Dataloaders\n",
        "train_loader = DataLoader(train_dataset, batch_size=64, shuffle=True)\n",
        "test_loader = DataLoader(test_dataset, batch_size=16)  # batch_size = 16 → 10 crops per image\n"
      ],
      "metadata": {
        "id": "6sCNfMAs4upI"
      },
      "execution_count": 9,
      "outputs": []
    },
    {
      "cell_type": "code",
      "source": [
        "# Step 5: Visualize a few samples\n",
        "import random\n",
        "plt.figure(figsize=(12, 3))\n",
        "for i in range(5):\n",
        "    idx = random.randint(0, len(train_dataset)-1)\n",
        "    img, label = train_dataset[idx]\n",
        "    plt.subplot(1, 5, i + 1)\n",
        "    plt.imshow(np.transpose(img.numpy(), (1, 2, 0)))\n",
        "    plt.title(f\"Label: {label}\")\n",
        "    plt.axis(\"off\")\n",
        "\n",
        "plt.suptitle(\"Sample Preprocessed FER-2013 Images\")\n",
        "plt.show()"
      ],
      "metadata": {
        "colab": {
          "base_uri": "https://localhost:8080/",
          "height": 353
        },
        "id": "PKqe2rcK5S9X",
        "outputId": "07ed28be-56ba-4272-a7c3-4c343b058603"
      },
      "execution_count": 10,
      "outputs": [
        {
          "output_type": "stream",
          "name": "stderr",
          "text": [
            "WARNING:matplotlib.image:Clipping input data to the valid range for imshow with RGB data ([0..1] for floats or [0..255] for integers). Got range [-1.0..0.90588236].\n",
            "WARNING:matplotlib.image:Clipping input data to the valid range for imshow with RGB data ([0..1] for floats or [0..255] for integers). Got range [-1.0..0.8980392].\n",
            "WARNING:matplotlib.image:Clipping input data to the valid range for imshow with RGB data ([0..1] for floats or [0..255] for integers). Got range [-0.92941177..0.7176471].\n",
            "WARNING:matplotlib.image:Clipping input data to the valid range for imshow with RGB data ([0..1] for floats or [0..255] for integers). Got range [-0.9607843..0.6784314].\n",
            "WARNING:matplotlib.image:Clipping input data to the valid range for imshow with RGB data ([0..1] for floats or [0..255] for integers). Got range [-0.9372549..0.94509804].\n"
          ]
        },
        {
          "output_type": "display_data",
          "data": {
            "text/plain": [
              "<Figure size 1200x300 with 5 Axes>"
            ],
            "image/png": "[encoded data removed]"
          },
          "metadata": {}
        }
      ]
    },
    {
      "cell_type": "code",
      "source": [
        "# Step 6: Build the most optimized ResNet18 model for FER-2013\n",
        "import torch.nn as nn\n",
        "import torchvision.models as models\n",
        "import torch.nn.init as init\n",
        "\n",
        "device = torch.device(\"cuda\" if torch.cuda.is_available() else \"cpu\")\n",
        "\n",
        "# Load pretrained ResNet18 from torchvision\n",
        "base_resnet = models.resnet18(pretrained=True)\n",
        "\n",
        "# Define custom ResNet18-based model\n",
        "class BestFERResNet18(nn.Module):\n",
        "    def __init__(self, base_model):\n",
        "        super(BestFERResNet18, self).__init__()\n",
        "        self.backbone = nn.Sequential(*list(base_model.children())[:-1])  # Remove FC layer\n",
        "        self.fc_head = nn.Sequential(\n",
        "            nn.Flatten(),\n",
        "            nn.Linear(base_model.fc.in_features, 512),\n",
        "            nn.BatchNorm1d(512),\n",
        "            nn.ReLU(),\n",
        "            nn.Dropout(0.5),\n",
        "            nn.Linear(512, 256),\n",
        "            nn.BatchNorm1d(256),\n",
        "            nn.ReLU(),\n",
        "            nn.Dropout(0.3),\n",
        "            nn.Linear(256, 7)  # FER-2013 has 7 emotion classes\n",
        "        )\n",
        "        self._init_weights()\n",
        "\n",
        "        # 🔒 Freeze backbone initially\n",
        "        for param in self.backbone.parameters():\n",
        "            param.requires_grad = False\n",
        "\n",
        "    def _init_weights(self):\n",
        "        for m in self.fc_head:\n",
        "            if isinstance(m, nn.Linear):\n",
        "                init.kaiming_normal_(m.weight)\n",
        "                if m.bias is not None:\n",
        "                    init.constant_(m.bias, 0)\n",
        "\n",
        "    def forward(self, x):\n",
        "        x = self.backbone(x)  # [B, 512, 1, 1]\n",
        "        x = self.fc_head(x)   # [B, 7]\n",
        "        return x\n",
        "\n",
        "# Initialize model\n",
        "model = BestFERResNet18(base_resnet).to(device)\n",
        "\n",
        "print(\"Best ResNet18 model is ready on\", device)\n"
      ],
      "metadata": {
        "colab": {
          "base_uri": "https://localhost:8080/"
        },
        "id": "2A-Xp7V9DO3e",
        "outputId": "ceaed0b5-0de2-4c17-9e3c-9f4e473c1a41"
      },
      "execution_count": 11,
      "outputs": [
        {
          "output_type": "stream",
          "name": "stderr",
          "text": [
            "/usr/local/lib/python3.11/dist-packages/torchvision/models/_utils.py:208: UserWarning: The parameter 'pretrained' is deprecated since 0.13 and may be removed in the future, please use 'weights' instead.\n",
            "  warnings.warn(\n",
            "/usr/local/lib/python3.11/dist-packages/torchvision/models/_utils.py:223: UserWarning: Arguments other than a weight enum or `None` for 'weights' are deprecated since 0.13 and may be removed in the future. The current behavior is equivalent to passing `weights=ResNet18_Weights.IMAGENET1K_V1`. You can also use `weights=ResNet18_Weights.DEFAULT` to get the most up-to-date weights.\n",
            "  warnings.warn(msg)\n",
            "Downloading: \"https://download.pytorch.org/models/resnet18-f37072fd.pth\" to /root/.cache/torch/hub/checkpoints/resnet18-f37072fd.pth\n",
            "100%|██████████| 44.7M/44.7M [00:00<00:00, 181MB/s]\n"
          ]
        },
        {
          "output_type": "stream",
          "name": "stdout",
          "text": [
            "Best ResNet18 model is ready on cuda\n"
          ]
        }
      ]
    },
    {
      "cell_type": "code",
      "source": [
        "# Step 7: Training Setup with all optimizations\n",
        "import torch.optim as optim\n",
        "from torch.optim.lr_scheduler import CosineAnnealingWarmRestarts\n",
        "\n",
        "# Label Smoothing Loss\n",
        "class LabelSmoothingLoss(nn.Module):\n",
        "    def __init__(self, smoothing=0.1):\n",
        "        super(LabelSmoothingLoss, self).__init__()\n",
        "        self.smoothing = smoothing\n",
        "        self.confidence = 1.0 - smoothing\n",
        "\n",
        "    def forward(self, pred, target):\n",
        "        log_probs = nn.LogSoftmax(dim=-1)(pred)\n",
        "        true_dist = torch.zeros_like(log_probs).scatter_(1, target.unsqueeze(1), self.confidence)\n",
        "        true_dist += self.smoothing / pred.size(1)\n",
        "        return torch.mean(torch.sum(-true_dist * log_probs, dim=-1))\n",
        "\n",
        "criterion = LabelSmoothingLoss(smoothing=0.1)\n",
        "optimizer = optim.AdamW(model.parameters(), lr=1e-3, weight_decay=1e-4)\n",
        "scheduler = CosineAnnealingWarmRestarts(optimizer, T_0=10, T_mult=2)\n",
        "scaler = torch.cuda.amp.GradScaler()\n"
      ],
      "metadata": {
        "colab": {
          "base_uri": "https://localhost:8080/"
        },
        "id": "Anvq-w2JD6O6",
        "outputId": "30aeda95-9208-488e-b004-aa10dde7147a"
      },
      "execution_count": 12,
      "outputs": [
        {
          "output_type": "stream",
          "name": "stderr",
          "text": [
            "/tmp/ipython-input-12-196615464.py:21: FutureWarning: `torch.cuda.amp.GradScaler(args...)` is deprecated. Please use `torch.amp.GradScaler('cuda', args...)` instead.\n",
            "  scaler = torch.cuda.amp.GradScaler()\n"
          ]
        }
      ]
    },
    {
      "cell_type": "code",
      "source": [
        "# Step 8 & 9: Advanced Training Loop with AMP, Early Stopping, and Model Checkpointing\n",
        "\n",
        "num_epochs = 40\n",
        "best_acc = 0.0\n",
        "patience = 7\n",
        "trigger = 0\n",
        "\n",
        "for epoch in range(num_epochs):\n",
        "    model.train()\n",
        "    running_loss = 0.0\n",
        "    correct = 0\n",
        "    total = 0\n",
        "\n",
        "    # Training Phase\n",
        "    for images, labels in train_loader:\n",
        "        images, labels = images.to(device), labels.to(device)\n",
        "\n",
        "        optimizer.zero_grad()\n",
        "        with torch.cuda.amp.autocast():  #  Mixed precision for speed\n",
        "            outputs = model(images)\n",
        "            loss = criterion(outputs, labels)\n",
        "\n",
        "        scaler.scale(loss).backward()\n",
        "        scaler.step(optimizer)\n",
        "        scaler.update()\n",
        "\n",
        "        running_loss += loss.item() * images.size(0)\n",
        "        preds = outputs.argmax(dim=1)\n",
        "        correct += (preds == labels).sum().item()\n",
        "        total += labels.size(0)\n",
        "\n",
        "    scheduler.step()\n",
        "    train_acc = correct / total\n",
        "    avg_loss = running_loss / total\n",
        "    print(f\"Epoch {epoch+1}/{num_epochs} | Train Loss: {avg_loss:.4f} | Train Acc: {train_acc:.4f}\")\n",
        "\n",
        "    # Evaluation Phase (with TenCrop)\n",
        "    model.eval()\n",
        "    correct = 0\n",
        "    total = 0\n",
        "\n",
        "    with torch.no_grad():\n",
        "        for images, labels in test_loader:\n",
        "            bs, ncrops, c, h, w = images.size()  # [B, 10, 3, 48, 48]\n",
        "            images = images.view(-1, c, h, w).to(device)  # → [B*10, 3, 48, 48]\n",
        "            labels = labels.to(device)\n",
        "\n",
        "            with torch.cuda.amp.autocast():\n",
        "                outputs = model(images)  # [B*10, 7]\n",
        "            outputs = outputs.view(bs, ncrops, -1).mean(1)  # → [B, 7]\n",
        "            preds = outputs.argmax(1)\n",
        "\n",
        "            correct += (preds == labels).sum().item()\n",
        "            total += labels.size(0)\n",
        "\n",
        "    val_acc = correct / total\n",
        "    print(f\"Validation Accuracy: {val_acc:.4f}\")\n",
        "\n",
        "    # Early Stopping & Checkpointing\n",
        "    if val_acc > best_acc:\n",
        "        best_acc = val_acc\n",
        "        torch.save(model.state_dict(), \"best_fer_model.pth\")\n",
        "        print(\"Best model saved with accuracy:\", round(best_acc, 4))\n",
        "        trigger = 0\n",
        "    else:\n",
        "        trigger += 1\n",
        "        print(f\" No improvement. Patience counter: {trigger}/{patience}\")\n",
        "        if trigger >= patience:\n",
        "            print(\"Early stopping triggered.\")\n",
        "            break\n",
        "\n",
        "\n",
        "\n",
        "\n",
        "\n",
        "\n",
        "#  STAGE 2: Unfreeze Backbone and Fine-Tune All Layers\n",
        "for param in model.backbone.parameters():\n",
        "    param.requires_grad = True\n",
        "\n",
        "print(\"🔓Backbone unfrozen. Starting fine-tuning phase...\")\n",
        "\n",
        "# Reset early stopping variables\n",
        "trigger = 0\n",
        "patience = 7\n",
        "num_epochs = 20  # Or more, based on resources\n",
        "\n",
        "for epoch in range(num_epochs):\n",
        "    model.train()\n",
        "    running_loss = 0\n",
        "    correct = 0\n",
        "\n",
        "    for images, labels in train_loader:\n",
        "        images, labels = images.to(device), labels.to(device)\n",
        "\n",
        "        optimizer.zero_grad()\n",
        "        with torch.amp.autocast(device_type='cuda'):  #  updated per warning\n",
        "            outputs = model(images)\n",
        "            loss = criterion(outputs, labels)\n",
        "        scaler.scale(loss).backward()\n",
        "        scaler.step(optimizer)\n",
        "        scaler.update()\n",
        "\n",
        "        running_loss += loss.item()\n",
        "        correct += (outputs.argmax(1) == labels).sum().item()\n",
        "\n",
        "    scheduler.step()\n",
        "    train_acc = correct / len(train_loader.dataset)\n",
        "    print(f\"📘 [FT] Epoch {epoch+1} | Train Loss: {running_loss:.4f} | Train Acc: {train_acc:.4f}\")\n",
        "\n",
        "    # Evaluation\n",
        "    model.eval()\n",
        "    correct = 0\n",
        "    total = 0\n",
        "\n",
        "    with torch.no_grad():\n",
        "        for images, labels in test_loader:\n",
        "            bs, ncrops, c, h, w = images.size()\n",
        "            images = images.view(-1, c, h, w).to(device)\n",
        "            labels = labels.to(device)\n",
        "\n",
        "            with torch.amp.autocast(device_type='cuda'):\n",
        "                outputs = model(images)\n",
        "            outputs = outputs.view(bs, ncrops, -1).mean(1)\n",
        "            preds = outputs.argmax(1)\n",
        "\n",
        "            correct += (preds == labels).sum().item()\n",
        "            total += labels.size(0)\n",
        "\n",
        "    val_acc = correct / total\n",
        "    print(f\"[FT] Validation Accuracy: {val_acc:.4f}\")\n",
        "\n",
        "    # Save best model\n",
        "    if val_acc > best_acc:\n",
        "        best_acc = val_acc\n",
        "        torch.save(model.state_dict(), \"best_fer_model.pth\")\n",
        "        print(\" Best model saved (fine-tuned)!\")\n",
        "        trigger = 0\n",
        "    else:\n",
        "        trigger += 1\n",
        "        print(f\" No improvement. Patience counter: {trigger}/{patience}\")\n",
        "        if trigger >= patience:\n",
        "            print(\"Early stopping triggered (fine-tuning).\")\n",
        "            break\n"
      ],
      "metadata": {
        "colab": {
          "base_uri": "https://localhost:8080/"
        },
        "id": "1XjZDOK1FCyB",
        "outputId": "0c3ac6bc-3aba-4e60-a326-e5d5ffaa1b6e"
      },
      "execution_count": 14,
      "outputs": [
        {
          "output_type": "stream",
          "name": "stderr",
          "text": [
            "/tmp/ipython-input-14-1007947154.py:19: FutureWarning: `torch.cuda.amp.autocast(args...)` is deprecated. Please use `torch.amp.autocast('cuda', args...)` instead.\n",
            "  with torch.cuda.amp.autocast():  #  Mixed precision for speed\n"
          ]
        },
        {
          "output_type": "stream",
          "name": "stdout",
          "text": [
            "Epoch 1/40 | Train Loss: 1.7379 | Train Acc: 0.3247\n"
          ]
        },
        {
          "output_type": "stream",
          "name": "stderr",
          "text": [
            "/tmp/ipython-input-14-1007947154.py:48: FutureWarning: `torch.cuda.amp.autocast(args...)` is deprecated. Please use `torch.amp.autocast('cuda', args...)` instead.\n",
            "  with torch.cuda.amp.autocast():\n"
          ]
        },
        {
          "output_type": "stream",
          "name": "stdout",
          "text": [
            "Validation Accuracy: 0.3885\n",
            "Best model saved with accuracy: 0.3885\n",
            "Epoch 2/40 | Train Loss: 1.7369 | Train Acc: 0.3270\n",
            "Validation Accuracy: 0.3945\n",
            "Best model saved with accuracy: 0.3945\n",
            "Epoch 3/40 | Train Loss: 1.7415 | Train Acc: 0.3233\n",
            "Validation Accuracy: 0.3965\n",
            "Best model saved with accuracy: 0.3965\n",
            "Epoch 4/40 | Train Loss: 1.7367 | Train Acc: 0.3314\n",
            "Validation Accuracy: 0.3963\n",
            " No improvement. Patience counter: 1/7\n",
            "Epoch 5/40 | Train Loss: 1.7435 | Train Acc: 0.3244\n",
            "Validation Accuracy: 0.3828\n",
            " No improvement. Patience counter: 2/7\n",
            "Epoch 6/40 | Train Loss: 1.7468 | Train Acc: 0.3200\n",
            "Validation Accuracy: 0.3860\n",
            " No improvement. Patience counter: 3/7\n",
            "Epoch 7/40 | Train Loss: 1.7475 | Train Acc: 0.3196\n",
            "Validation Accuracy: 0.3695\n",
            " No improvement. Patience counter: 4/7\n",
            "Epoch 8/40 | Train Loss: 1.7479 | Train Acc: 0.3220\n",
            "Validation Accuracy: 0.3991\n",
            "Best model saved with accuracy: 0.3991\n",
            "Epoch 9/40 | Train Loss: 1.7459 | Train Acc: 0.3205\n",
            "Validation Accuracy: 0.3975\n",
            " No improvement. Patience counter: 1/7\n",
            "Epoch 10/40 | Train Loss: 1.7439 | Train Acc: 0.3243\n",
            "Validation Accuracy: 0.3936\n",
            " No improvement. Patience counter: 2/7\n",
            "Epoch 11/40 | Train Loss: 1.7439 | Train Acc: 0.3201\n",
            "Validation Accuracy: 0.3906\n",
            " No improvement. Patience counter: 3/7\n",
            "Epoch 12/40 | Train Loss: 1.7416 | Train Acc: 0.3252\n",
            "Validation Accuracy: 0.3821\n",
            " No improvement. Patience counter: 4/7\n",
            "Epoch 13/40 | Train Loss: 1.7445 | Train Acc: 0.3231\n",
            "Validation Accuracy: 0.3819\n",
            " No improvement. Patience counter: 5/7\n",
            "Epoch 14/40 | Train Loss: 1.7419 | Train Acc: 0.3252\n",
            "Validation Accuracy: 0.3894\n",
            " No improvement. Patience counter: 6/7\n",
            "Epoch 15/40 | Train Loss: 1.7403 | Train Acc: 0.3268\n",
            "Validation Accuracy: 0.3827\n",
            " No improvement. Patience counter: 7/7\n",
            "Early stopping triggered.\n",
            "🔓Backbone unfrozen. Starting fine-tuning phase...\n",
            "📘 [FT] Epoch 1 | Train Loss: 688.3167 | Train Acc: 0.4566\n",
            "[FT] Validation Accuracy: 0.5152\n",
            " Best model saved (fine-tuned)!\n",
            "📘 [FT] Epoch 2 | Train Loss: 643.0697 | Train Acc: 0.5145\n",
            "[FT] Validation Accuracy: 0.5403\n",
            " Best model saved (fine-tuned)!\n",
            "📘 [FT] Epoch 3 | Train Loss: 623.2215 | Train Acc: 0.5373\n",
            "[FT] Validation Accuracy: 0.5736\n",
            " Best model saved (fine-tuned)!\n",
            "📘 [FT] Epoch 4 | Train Loss: 610.2299 | Train Acc: 0.5480\n",
            "[FT] Validation Accuracy: 0.5893\n",
            " Best model saved (fine-tuned)!\n",
            "📘 [FT] Epoch 5 | Train Loss: 599.4948 | Train Acc: 0.5630\n",
            "[FT] Validation Accuracy: 0.5975\n",
            " Best model saved (fine-tuned)!\n",
            "📘 [FT] Epoch 6 | Train Loss: 589.2846 | Train Acc: 0.5742\n",
            "[FT] Validation Accuracy: 0.6031\n",
            " Best model saved (fine-tuned)!\n",
            "📘 [FT] Epoch 7 | Train Loss: 578.7518 | Train Acc: 0.5908\n",
            "[FT] Validation Accuracy: 0.5979\n",
            " No improvement. Patience counter: 1/7\n",
            "📘 [FT] Epoch 8 | Train Loss: 573.4686 | Train Acc: 0.5942\n",
            "[FT] Validation Accuracy: 0.6173\n",
            " Best model saved (fine-tuned)!\n",
            "📘 [FT] Epoch 9 | Train Loss: 563.7594 | Train Acc: 0.6060\n",
            "[FT] Validation Accuracy: 0.6151\n",
            " No improvement. Patience counter: 1/7\n",
            "📘 [FT] Epoch 10 | Train Loss: 556.0694 | Train Acc: 0.6176\n",
            "[FT] Validation Accuracy: 0.6222\n",
            " Best model saved (fine-tuned)!\n",
            "📘 [FT] Epoch 11 | Train Loss: 547.2104 | Train Acc: 0.6264\n",
            "[FT] Validation Accuracy: 0.6393\n",
            " Best model saved (fine-tuned)!\n",
            "📘 [FT] Epoch 12 | Train Loss: 541.8992 | Train Acc: 0.6298\n",
            "[FT] Validation Accuracy: 0.6317\n",
            " No improvement. Patience counter: 1/7\n",
            "📘 [FT] Epoch 13 | Train Loss: 533.6881 | Train Acc: 0.6376\n",
            "[FT] Validation Accuracy: 0.6506\n",
            " Best model saved (fine-tuned)!\n",
            "📘 [FT] Epoch 14 | Train Loss: 526.7463 | Train Acc: 0.6487\n",
            "[FT] Validation Accuracy: 0.6498\n",
            " No improvement. Patience counter: 1/7\n",
            "📘 [FT] Epoch 15 | Train Loss: 518.3327 | Train Acc: 0.6561\n",
            "[FT] Validation Accuracy: 0.6456\n",
            " No improvement. Patience counter: 2/7\n",
            "📘 [FT] Epoch 16 | Train Loss: 511.0926 | Train Acc: 0.6655\n",
            "[FT] Validation Accuracy: 0.6598\n",
            " Best model saved (fine-tuned)!\n",
            "📘 [FT] Epoch 17 | Train Loss: 502.8377 | Train Acc: 0.6735\n",
            "[FT] Validation Accuracy: 0.6591\n",
            " No improvement. Patience counter: 1/7\n",
            "📘 [FT] Epoch 18 | Train Loss: 496.6966 | Train Acc: 0.6816\n",
            "[FT] Validation Accuracy: 0.6659\n",
            " Best model saved (fine-tuned)!\n",
            "📘 [FT] Epoch 19 | Train Loss: 488.7796 | Train Acc: 0.6930\n",
            "[FT] Validation Accuracy: 0.6700\n",
            " Best model saved (fine-tuned)!\n",
            "📘 [FT] Epoch 20 | Train Loss: 482.1945 | Train Acc: 0.7016\n",
            "[FT] Validation Accuracy: 0.6683\n",
            " No improvement. Patience counter: 1/7\n"
          ]
        }
      ]
    },
    {
      "cell_type": "markdown",
      "source": [
        "Merge Train + Val Sets (for stronger training)"
      ],
      "metadata": {
        "id": "bi2n6V0kc7Q6"
      }
    },
    {
      "cell_type": "code",
      "source": [
        "import os\n",
        "import shutil\n",
        "\n",
        "base_path = \"/content/FER-2013/FER-2013\"  # Make sure this is your actual path\n",
        "merged_train_path = os.path.join(base_path, \"train_val_merged\")\n",
        "\n",
        "# Create merged directory\n",
        "os.makedirs(merged_train_path, exist_ok=True)\n",
        "\n",
        "# Copy only from 'train' folder (since 'val' doesn't exist)\n",
        "train_path = os.path.join(base_path, \"train\")\n",
        "for emotion in os.listdir(train_path):\n",
        "    src = os.path.join(train_path, emotion)\n",
        "    dst = os.path.join(merged_train_path, emotion)\n",
        "    os.makedirs(dst, exist_ok=True)\n",
        "    for file in os.listdir(src):\n",
        "        shutil.copy(os.path.join(src, file), os.path.join(dst, file))\n",
        "\n",
        "print(\"✅ Merged available training data into:\", merged_train_path)\n"
      ],
      "metadata": {
        "colab": {
          "base_uri": "https://localhost:8080/"
        },
        "id": "Yb1pr3C0c7-M",
        "outputId": "cc1d8201-b560-4346-dd84-b9bcdf526cd0"
      },
      "execution_count": 17,
      "outputs": [
        {
          "output_type": "stream",
          "name": "stdout",
          "text": [
            "✅ Merged available training data into: /content/FER-2013/FER-2013/train_val_merged\n"
          ]
        }
      ]
    },
    {
      "cell_type": "code",
      "source": [
        "# Step 2: Define BestFERResNet34 Model\n",
        "import torchvision.models as models\n",
        "import torch.nn as nn\n",
        "import torch.nn.init as init\n",
        "\n",
        "resnet34 = models.resnet34(pretrained=True)\n",
        "\n",
        "class BestFERResNet34(nn.Module):\n",
        "    def __init__(self, base_model):\n",
        "        super(BestFERResNet34, self).__init__()\n",
        "        self.backbone = nn.Sequential(*list(base_model.children())[:-1])  # Remove last FC\n",
        "        self.fc_head = nn.Sequential(\n",
        "            nn.Flatten(),\n",
        "            nn.Linear(base_model.fc.in_features, 512),\n",
        "            nn.BatchNorm1d(512),\n",
        "            nn.ReLU(),\n",
        "            nn.Dropout(0.5),\n",
        "            nn.Linear(512, 256),\n",
        "            nn.BatchNorm1d(256),\n",
        "            nn.ReLU(),\n",
        "            nn.Dropout(0.3),\n",
        "            nn.Linear(256, 7)\n",
        "        )\n",
        "        self._init_weights()\n",
        "        for param in self.backbone.parameters():\n",
        "            param.requires_grad = False\n",
        "\n",
        "    def _init_weights(self):\n",
        "        for m in self.fc_head:\n",
        "            if isinstance(m, nn.Linear):\n",
        "                init.kaiming_normal_(m.weight)\n",
        "                if m.bias is not None:\n",
        "                    init.constant_(m.bias, 0)\n",
        "\n",
        "    def forward(self, x):\n",
        "        x = self.backbone(x)\n",
        "        x = self.fc_head(x)\n",
        "        return x\n",
        "\n",
        "model = BestFERResNet34(resnet34).to(device)\n",
        "print(\"✅ Loaded BestFERResNet34\")\n"
      ],
      "metadata": {
        "colab": {
          "base_uri": "https://localhost:8080/"
        },
        "id": "hz3cGJ54dZQM",
        "outputId": "dba248ff-82cc-4433-aad8-644f96ac3d7f"
      },
      "execution_count": 18,
      "outputs": [
        {
          "output_type": "stream",
          "name": "stderr",
          "text": [
            "/usr/local/lib/python3.11/dist-packages/torchvision/models/_utils.py:223: UserWarning: Arguments other than a weight enum or `None` for 'weights' are deprecated since 0.13 and may be removed in the future. The current behavior is equivalent to passing `weights=ResNet34_Weights.IMAGENET1K_V1`. You can also use `weights=ResNet34_Weights.DEFAULT` to get the most up-to-date weights.\n",
            "  warnings.warn(msg)\n",
            "Downloading: \"https://download.pytorch.org/models/resnet34-b627a593.pth\" to /root/.cache/torch/hub/checkpoints/resnet34-b627a593.pth\n",
            "100%|██████████| 83.3M/83.3M [00:00<00:00, 140MB/s]\n"
          ]
        },
        {
          "output_type": "stream",
          "name": "stdout",
          "text": [
            "✅ Loaded BestFERResNet34\n"
          ]
        }
      ]
    },
    {
      "cell_type": "markdown",
      "source": [
        "Replace ResNet18 with ResNet34 (stronger backbone)"
      ],
      "metadata": {
        "id": "uPi9NiMJejpf"
      }
    },
    {
      "cell_type": "markdown",
      "source": [
        " Manually Split Merged Data into Train and Val Sets\n",
        "\n",
        "We’ll split train_val_merged into 90% train and 10% val."
      ],
      "metadata": {
        "id": "zECedMZTfEQG"
      }
    },
    {
      "cell_type": "code",
      "source": [
        "import os\n",
        "import shutil\n",
        "import random\n",
        "from sklearn.model_selection import train_test_split\n",
        "\n",
        "merged_dir = \"/content/FER-2013/FER-2013/train_val_merged\"\n",
        "train_dir = \"/content/FER-2013/FER-2013/train_split\"\n",
        "val_dir = \"/content/FER-2013/FER-2013/val_split\"\n",
        "\n",
        "os.makedirs(train_dir, exist_ok=True)\n",
        "os.makedirs(val_dir, exist_ok=True)\n",
        "\n",
        "for emotion in os.listdir(merged_dir):\n",
        "    emotion_path = os.path.join(merged_dir, emotion)\n",
        "    images = os.listdir(emotion_path)\n",
        "\n",
        "    train_images, val_images = train_test_split(images, test_size=0.1, random_state=42)\n",
        "\n",
        "    # Train\n",
        "    os.makedirs(os.path.join(train_dir, emotion), exist_ok=True)\n",
        "    for img in train_images:\n",
        "        shutil.copy(os.path.join(emotion_path, img), os.path.join(train_dir, emotion, img))\n",
        "\n",
        "    # Val\n",
        "    os.makedirs(os.path.join(val_dir, emotion), exist_ok=True)\n",
        "    for img in val_images:\n",
        "        shutil.copy(os.path.join(emotion_path, img), os.path.join(val_dir, emotion, img))\n",
        "\n",
        "print(\"Data split complete: 90% train, 10% val\")\n"
      ],
      "metadata": {
        "colab": {
          "base_uri": "https://localhost:8080/"
        },
        "id": "r8c4yo2_fFUN",
        "outputId": "44f471a7-cbd2-4e1a-e1fb-ab08a3f1018d"
      },
      "execution_count": 21,
      "outputs": [
        {
          "output_type": "stream",
          "name": "stdout",
          "text": [
            "Data split complete: 90% train, 10% val\n"
          ]
        }
      ]
    },
    {
      "cell_type": "markdown",
      "source": [
        "Preprocessing + Augmentation + Dataloader Setup (Best Version)"
      ],
      "metadata": {
        "id": "dUUiXlA1fVzU"
      }
    },
    {
      "cell_type": "code",
      "source": [
        "from torchvision import transforms\n",
        "from torchvision.datasets import ImageFolder\n",
        "from torch.utils.data import DataLoader\n",
        "import torch\n",
        "\n",
        "# ImageNet normalization (for pretrained models)\n",
        "mean = [0.485, 0.456, 0.406]\n",
        "std = [0.229, 0.224, 0.225]\n",
        "\n",
        "# Training Transform: Strong augmentation\n",
        "train_transform = transforms.Compose([\n",
        "    transforms.Resize((48, 48)),                      # Resize to standard size\n",
        "    transforms.RandomCrop(44),                        # Slightly smaller crop\n",
        "    transforms.RandomHorizontalFlip(),                # Horizontal flip\n",
        "    transforms.ColorJitter(brightness=0.4, contrast=0.4), # Color jitter\n",
        "    transforms.RandomRotation(10),                    # Rotation\n",
        "    transforms.ToTensor(),                            # Convert to tensor\n",
        "    transforms.Normalize(mean, std)                   # Normalize\n",
        "])\n",
        "\n",
        "#  Test/Validation Transform: TenCrop + Normalize\n",
        "test_transform = transforms.Compose([\n",
        "    transforms.Resize(48),\n",
        "    transforms.TenCrop(44),  # 10 crops from the image\n",
        "    transforms.Lambda(lambda crops: torch.stack([\n",
        "        transforms.Normalize(mean, std)(\n",
        "            transforms.ToTensor()(crop)) for crop in crops\n",
        "    ]))\n",
        "])\n"
      ],
      "metadata": {
        "id": "EvzjLR9vfU3M"
      },
      "execution_count": 22,
      "outputs": []
    },
    {
      "cell_type": "markdown",
      "source": [
        "Dataset & DataLoader Setup"
      ],
      "metadata": {
        "id": "MhI2A3aYfrp8"
      }
    },
    {
      "cell_type": "code",
      "source": [
        "#  Dataset paths (ensure they exist)\n",
        "train_path = \"/content/FER-2013/FER-2013/train_split\"\n",
        "val_path = \"/content/FER-2013/FER-2013/val_split\"\n",
        "test_path = \"/content/FER-2013/FER-2013/test\"\n",
        "\n",
        "#  Load datasets with transformations\n",
        "train_dataset = ImageFolder(train_path, transform=train_transform)\n",
        "val_dataset = ImageFolder(val_path, transform=test_transform)\n",
        "test_dataset = ImageFolder(test_path, transform=test_transform)\n",
        "\n",
        "#  DataLoaders\n",
        "train_loader = DataLoader(train_dataset, batch_size=64, shuffle=True, num_workers=2)\n",
        "val_loader = DataLoader(val_dataset, batch_size=32, shuffle=False, num_workers=2)\n",
        "test_loader = DataLoader(test_dataset, batch_size=32, shuffle=False, num_workers=2)\n",
        "\n",
        "print(\" All dataloaders ready with strong augmentation and TenCrop.\")\n"
      ],
      "metadata": {
        "colab": {
          "base_uri": "https://localhost:8080/"
        },
        "id": "rFELFHJBfsHu",
        "outputId": "23e835f3-a99f-4ece-f647-2068faacb039"
      },
      "execution_count": 23,
      "outputs": [
        {
          "output_type": "stream",
          "name": "stdout",
          "text": [
            " All dataloaders ready with strong augmentation and TenCrop.\n"
          ]
        }
      ]
    },
    {
      "cell_type": "markdown",
      "source": [
        "Best ResNet18 Model Setup"
      ],
      "metadata": {
        "id": "pPE85IoCgEsb"
      }
    },
    {
      "cell_type": "code",
      "source": [
        "import torch.nn as nn\n",
        "import torchvision.models as models\n",
        "import torch\n",
        "\n",
        "#  Device setup\n",
        "device = torch.device(\"cuda\" if torch.cuda.is_available() else \"cpu\")\n",
        "\n",
        "#  Load pretrained ResNet18 backbone\n",
        "resnet18 = models.resnet18(pretrained=True)\n",
        "\n",
        "#  Freeze the backbone initially\n",
        "for param in resnet18.parameters():\n",
        "    param.requires_grad = False\n",
        "\n",
        "#  Define custom head (with BatchNorm + Dropout)\n",
        "class EmotionResNet18(nn.Module):\n",
        "    def __init__(self):\n",
        "        super(EmotionResNet18, self).__init__()\n",
        "        self.backbone = nn.Sequential(*list(resnet18.children())[:-1])  # remove original FC\n",
        "        self.classifier = nn.Sequential(\n",
        "            nn.Flatten(),\n",
        "            nn.Linear(512, 256),\n",
        "            nn.BatchNorm1d(256),\n",
        "            nn.ReLU(inplace=True),\n",
        "            nn.Dropout(0.5),\n",
        "            nn.Linear(256, 7)  # 7 classes in FER-2013\n",
        "        )\n",
        "        self._init_weights()\n",
        "\n",
        "    def _init_weights(self):\n",
        "        for m in self.classifier:\n",
        "            if isinstance(m, nn.Linear):\n",
        "                nn.init.kaiming_normal_(m.weight)\n",
        "                if m.bias is not None:\n",
        "                    nn.init.constant_(m.bias, 0)\n",
        "\n",
        "    def forward(self, x):\n",
        "        x = self.backbone(x)\n",
        "        x = self.classifier(x)\n",
        "        return x\n",
        "\n",
        "# Instantiate and move to device\n",
        "model = EmotionResNet18().to(device)\n",
        "\n",
        "print(\" Model loaded and ready with frozen backbone + custom head.\")\n"
      ],
      "metadata": {
        "colab": {
          "base_uri": "https://localhost:8080/"
        },
        "id": "vkW83xiXgGxV",
        "outputId": "97326e9d-ee48-417f-a842-b5fa7d243d66"
      },
      "execution_count": 24,
      "outputs": [
        {
          "output_type": "stream",
          "name": "stdout",
          "text": [
            " Model loaded and ready with frozen backbone + custom head.\n"
          ]
        }
      ]
    },
    {
      "cell_type": "markdown",
      "source": [
        "Sample Visualization"
      ],
      "metadata": {
        "id": "6Ia4lqf9gUJf"
      }
    },
    {
      "cell_type": "code",
      "source": [
        "import matplotlib.pyplot as plt\n",
        "import numpy as np\n",
        "\n",
        "# For unnormalizing images\n",
        "mean = [0.485, 0.456, 0.406]\n",
        "std = [0.229, 0.224, 0.225]\n",
        "\n",
        "def imshow(img, title=None):\n",
        "    img = img.numpy().transpose((1, 2, 0))\n",
        "    img = std * img + mean  # unnormalize\n",
        "    img = np.clip(img, 0, 1)\n",
        "    plt.imshow(img)\n",
        "    if title:\n",
        "        plt.title(title)\n",
        "    plt.axis('off')\n",
        "\n",
        "#  Visualize a few training samples\n",
        "data_iter = iter(train_loader)\n",
        "images, labels = next(data_iter)\n",
        "\n",
        "plt.figure(figsize=(12, 6))\n",
        "for idx in range(8):\n",
        "    plt.subplot(2, 4, idx + 1)\n",
        "    imshow(images[idx].cpu(), title=f\"Label: {labels[idx].item()}\")\n",
        "plt.suptitle(\"Sample Preprocessed Training Images\")\n",
        "plt.tight_layout()\n",
        "plt.show()\n"
      ],
      "metadata": {
        "colab": {
          "base_uri": "https://localhost:8080/",
          "height": 610
        },
        "id": "kT4tTifWgUjX",
        "outputId": "787c8f11-8fff-448a-a8b5-da92fa429cac"
      },
      "execution_count": 25,
      "outputs": [
        {
          "output_type": "display_data",
          "data": {
            "text/plain": [
              "<Figure size 1200x600 with 8 Axes>"
            ],
            "image/png": "[encoded data removed]"
          },
          "metadata": {}
        }
      ]
    },
    {
      "cell_type": "markdown",
      "source": [
        "Training Setup"
      ],
      "metadata": {
        "id": "5hx6-egMgjxa"
      }
    },
    {
      "cell_type": "code",
      "source": [
        "import torch.optim as optim\n",
        "from torch.optim.lr_scheduler import CosineAnnealingWarmRestarts\n",
        "import torch.nn.functional as F\n",
        "\n",
        "#  Label Smoothing Loss\n",
        "class LabelSmoothingLoss(nn.Module):\n",
        "    def __init__(self, smoothing=0.1):\n",
        "        super(LabelSmoothingLoss, self).__init__()\n",
        "        self.smoothing = smoothing\n",
        "        self.confidence = 1.0 - smoothing\n",
        "\n",
        "    def forward(self, pred, target):\n",
        "        log_probs = F.log_softmax(pred, dim=-1)\n",
        "        true_dist = torch.zeros_like(log_probs)\n",
        "        true_dist.scatter_(1, target.unsqueeze(1), self.confidence)\n",
        "        true_dist += self.smoothing / pred.size(1)\n",
        "        return torch.mean(torch.sum(-true_dist * log_probs, dim=-1))\n",
        "\n",
        "#  Instantiate Loss\n",
        "criterion = LabelSmoothingLoss(smoothing=0.1)\n",
        "\n",
        "#  Optimizer & Scheduler\n",
        "optimizer = optim.AdamW(model.parameters(), lr=1e-3, weight_decay=1e-4)\n",
        "scheduler = CosineAnnealingWarmRestarts(optimizer, T_0=10, T_mult=2)\n",
        "\n",
        "#  Mixed Precision Scaler\n",
        "scaler = torch.cuda.amp.GradScaler()\n",
        "\n",
        "print(\" Training setup complete (Label Smoothing + AdamW + Cosine Annealing + AMP)\")\n"
      ],
      "metadata": {
        "colab": {
          "base_uri": "https://localhost:8080/"
        },
        "id": "CMr2i-dTgkPU",
        "outputId": "b72c2814-40e0-42e3-8d65-ce0d237f744e"
      },
      "execution_count": 26,
      "outputs": [
        {
          "output_type": "stream",
          "name": "stdout",
          "text": [
            " Training setup complete (Label Smoothing + AdamW + Cosine Annealing + AMP)\n"
          ]
        },
        {
          "output_type": "stream",
          "name": "stderr",
          "text": [
            "/tmp/ipython-input-26-427753110.py:27: FutureWarning: `torch.cuda.amp.GradScaler(args...)` is deprecated. Please use `torch.amp.GradScaler('cuda', args...)` instead.\n",
            "  scaler = torch.cuda.amp.GradScaler()\n"
          ]
        }
      ]
    },
    {
      "cell_type": "markdown",
      "source": [
        " Training Loop with Early Stopping + TenCrop Evaluation"
      ],
      "metadata": {
        "id": "CLXPrWscgxM7"
      }
    },
    {
      "cell_type": "code",
      "source": [
        "import copy\n",
        "\n",
        "num_epochs = 40\n",
        "best_acc = 0.0\n",
        "patience = 7\n",
        "trigger = 0\n",
        "\n",
        "best_model_wts = copy.deepcopy(model.state_dict())\n",
        "\n",
        "for epoch in range(num_epochs):\n",
        "    model.train()\n",
        "    running_loss = 0.0\n",
        "    correct = 0\n",
        "    total = 0\n",
        "\n",
        "    # Training\n",
        "    for images, labels in train_loader:\n",
        "        images, labels = images.to(device), labels.to(device)\n",
        "\n",
        "        optimizer.zero_grad()\n",
        "        with torch.amp.autocast(device_type='cuda'):  # AMP\n",
        "            outputs = model(images)\n",
        "            loss = criterion(outputs, labels)\n",
        "\n",
        "        scaler.scale(loss).backward()\n",
        "        scaler.step(optimizer)\n",
        "        scaler.update()\n",
        "\n",
        "        running_loss += loss.item() * images.size(0)\n",
        "        preds = outputs.argmax(dim=1)\n",
        "        correct += (preds == labels).sum().item()\n",
        "        total += labels.size(0)\n",
        "\n",
        "    scheduler.step()\n",
        "    train_acc = correct / total\n",
        "    avg_loss = running_loss / total\n",
        "    print(f\" Epoch {epoch+1}/{num_epochs} | Train Loss: {avg_loss:.4f} | Train Acc: {train_acc:.4f}\")\n",
        "\n",
        "    # Evaluation with TenCrop\n",
        "    model.eval()\n",
        "    correct = 0\n",
        "    total = 0\n",
        "\n",
        "    with torch.no_grad():\n",
        "        for images, labels in val_loader:\n",
        "            bs, ncrops, c, h, w = images.size()\n",
        "            images = images.view(-1, c, h, w).to(device)\n",
        "            labels = labels.to(device)\n",
        "\n",
        "            with torch.amp.autocast(device_type='cuda'):\n",
        "                outputs = model(images)\n",
        "\n",
        "            outputs = outputs.view(bs, ncrops, -1).mean(1)\n",
        "            preds = outputs.argmax(1)\n",
        "            correct += (preds == labels).sum().item()\n",
        "            total += labels.size(0)\n",
        "\n",
        "    val_acc = correct / total\n",
        "    print(f\" Validation Accuracy: {val_acc:.4f}\")\n",
        "\n",
        "    # Early Stopping\n",
        "    if val_acc > best_acc:\n",
        "        best_acc = val_acc\n",
        "        best_model_wts = copy.deepcopy(model.state_dict())\n",
        "        torch.save(best_model_wts, \"best_fer_model_stage1.pth\")\n",
        "        print(\" Best model saved!\")\n",
        "        trigger = 0\n",
        "    else:\n",
        "        trigger += 1\n",
        "        print(f\" No improvement. Patience counter: {trigger}/{patience}\")\n",
        "        if trigger >= patience:\n",
        "            print(\" Early stopping triggered.\")\n",
        "            break\n"
      ],
      "metadata": {
        "colab": {
          "base_uri": "https://localhost:8080/"
        },
        "id": "RHw3roL8gxx1",
        "outputId": "212b6c0a-02cc-4fc9-bc75-82916d97a4df"
      },
      "execution_count": 27,
      "outputs": [
        {
          "output_type": "stream",
          "name": "stdout",
          "text": [
            " Epoch 1/40 | Train Loss: 1.9956 | Train Acc: 0.2502\n",
            " Validation Accuracy: 0.3636\n",
            " Best model saved!\n",
            " Epoch 2/40 | Train Loss: 1.8070 | Train Acc: 0.2913\n",
            " Validation Accuracy: 0.3751\n",
            " Best model saved!\n",
            " Epoch 3/40 | Train Loss: 1.7804 | Train Acc: 0.3014\n",
            " Validation Accuracy: 0.3664\n",
            " No improvement. Patience counter: 1/7\n",
            " Epoch 4/40 | Train Loss: 1.7684 | Train Acc: 0.3107\n",
            " Validation Accuracy: 0.3720\n",
            " No improvement. Patience counter: 2/7\n",
            " Epoch 5/40 | Train Loss: 1.7629 | Train Acc: 0.3164\n",
            " Validation Accuracy: 0.3758\n",
            " Best model saved!\n",
            " Epoch 6/40 | Train Loss: 1.7570 | Train Acc: 0.3158\n",
            " Validation Accuracy: 0.3678\n",
            " No improvement. Patience counter: 1/7\n",
            " Epoch 7/40 | Train Loss: 1.7561 | Train Acc: 0.3135\n",
            " Validation Accuracy: 0.3615\n",
            " No improvement. Patience counter: 2/7\n",
            " Epoch 8/40 | Train Loss: 1.7482 | Train Acc: 0.3205\n",
            " Validation Accuracy: 0.3803\n",
            " Best model saved!\n",
            " Epoch 9/40 | Train Loss: 1.7449 | Train Acc: 0.3210\n",
            " Validation Accuracy: 0.3786\n",
            " No improvement. Patience counter: 1/7\n",
            " Epoch 10/40 | Train Loss: 1.7451 | Train Acc: 0.3269\n",
            " Validation Accuracy: 0.3772\n",
            " No improvement. Patience counter: 2/7\n",
            " Epoch 11/40 | Train Loss: 1.7565 | Train Acc: 0.3172\n",
            " Validation Accuracy: 0.3507\n",
            " No improvement. Patience counter: 3/7\n",
            " Epoch 12/40 | Train Loss: 1.7534 | Train Acc: 0.3204\n",
            " Validation Accuracy: 0.3789\n",
            " No improvement. Patience counter: 4/7\n",
            " Epoch 13/40 | Train Loss: 1.7491 | Train Acc: 0.3222\n",
            " Validation Accuracy: 0.3918\n",
            " Best model saved!\n",
            " Epoch 14/40 | Train Loss: 1.7498 | Train Acc: 0.3233\n",
            " Validation Accuracy: 0.3751\n",
            " No improvement. Patience counter: 1/7\n",
            " Epoch 15/40 | Train Loss: 1.7461 | Train Acc: 0.3237\n",
            " Validation Accuracy: 0.3810\n",
            " No improvement. Patience counter: 2/7\n",
            " Epoch 16/40 | Train Loss: 1.7465 | Train Acc: 0.3225\n",
            " Validation Accuracy: 0.3824\n",
            " No improvement. Patience counter: 3/7\n",
            " Epoch 17/40 | Train Loss: 1.7416 | Train Acc: 0.3271\n",
            " Validation Accuracy: 0.3782\n",
            " No improvement. Patience counter: 4/7\n",
            " Epoch 18/40 | Train Loss: 1.7404 | Train Acc: 0.3249\n",
            " Validation Accuracy: 0.3963\n",
            " Best model saved!\n",
            " Epoch 19/40 | Train Loss: 1.7387 | Train Acc: 0.3253\n",
            " Validation Accuracy: 0.3866\n",
            " No improvement. Patience counter: 1/7\n",
            " Epoch 20/40 | Train Loss: 1.7362 | Train Acc: 0.3294\n",
            " Validation Accuracy: 0.3935\n",
            " No improvement. Patience counter: 2/7\n",
            " Epoch 21/40 | Train Loss: 1.7314 | Train Acc: 0.3283\n",
            " Validation Accuracy: 0.4015\n",
            " Best model saved!\n",
            " Epoch 22/40 | Train Loss: 1.7297 | Train Acc: 0.3392\n",
            " Validation Accuracy: 0.4019\n",
            " Best model saved!\n",
            " Epoch 23/40 | Train Loss: 1.7335 | Train Acc: 0.3319\n",
            " Validation Accuracy: 0.4033\n",
            " Best model saved!\n",
            " Epoch 24/40 | Train Loss: 1.7299 | Train Acc: 0.3322\n",
            " Validation Accuracy: 0.3942\n",
            " No improvement. Patience counter: 1/7\n",
            " Epoch 25/40 | Train Loss: 1.7298 | Train Acc: 0.3332\n",
            " Validation Accuracy: 0.4015\n",
            " No improvement. Patience counter: 2/7\n",
            " Epoch 26/40 | Train Loss: 1.7287 | Train Acc: 0.3347\n",
            " Validation Accuracy: 0.3963\n",
            " No improvement. Patience counter: 3/7\n",
            " Epoch 27/40 | Train Loss: 1.7268 | Train Acc: 0.3354\n",
            " Validation Accuracy: 0.3987\n",
            " No improvement. Patience counter: 4/7\n",
            " Epoch 28/40 | Train Loss: 1.7287 | Train Acc: 0.3326\n",
            " Validation Accuracy: 0.4036\n",
            " Best model saved!\n",
            " Epoch 29/40 | Train Loss: 1.7267 | Train Acc: 0.3382\n",
            " Validation Accuracy: 0.4029\n",
            " No improvement. Patience counter: 1/7\n",
            " Epoch 30/40 | Train Loss: 1.7233 | Train Acc: 0.3361\n",
            " Validation Accuracy: 0.3960\n",
            " No improvement. Patience counter: 2/7\n",
            " Epoch 31/40 | Train Loss: 1.7382 | Train Acc: 0.3309\n",
            " Validation Accuracy: 0.3845\n",
            " No improvement. Patience counter: 3/7\n",
            " Epoch 32/40 | Train Loss: 1.7321 | Train Acc: 0.3340\n",
            " Validation Accuracy: 0.3907\n",
            " No improvement. Patience counter: 4/7\n",
            " Epoch 33/40 | Train Loss: 1.7385 | Train Acc: 0.3293\n",
            " Validation Accuracy: 0.3897\n",
            " No improvement. Patience counter: 5/7\n",
            " Epoch 34/40 | Train Loss: 1.7359 | Train Acc: 0.3274\n",
            " Validation Accuracy: 0.3841\n",
            " No improvement. Patience counter: 6/7\n",
            " Epoch 35/40 | Train Loss: 1.7376 | Train Acc: 0.3274\n",
            " Validation Accuracy: 0.3873\n",
            " No improvement. Patience counter: 7/7\n",
            " Early stopping triggered.\n"
          ]
        }
      ]
    },
    {
      "cell_type": "markdown",
      "source": [
        " Fine-Tuning Code"
      ],
      "metadata": {
        "id": "TJS-HoDxqKDu"
      }
    },
    {
      "cell_type": "code",
      "source": [
        "#  Unfreeze backbone\n",
        "for param in model.backbone.parameters():\n",
        "    param.requires_grad = True\n",
        "\n",
        "print(\"Backbone unfrozen. Starting fine-tuning phase...\")\n",
        "\n",
        "# Reset early stopping variables\n",
        "trigger = 0\n",
        "patience = 7\n",
        "num_epochs = 20\n",
        "best_ft_acc = best_acc  # continue tracking from previous best\n",
        "\n",
        "for epoch in range(num_epochs):\n",
        "    model.train()\n",
        "    running_loss = 0.0\n",
        "    correct = 0\n",
        "    total = 0\n",
        "\n",
        "    for images, labels in train_loader:\n",
        "        images, labels = images.to(device), labels.to(device)\n",
        "\n",
        "        optimizer.zero_grad()\n",
        "        with torch.amp.autocast(device_type='cuda'):\n",
        "            outputs = model(images)\n",
        "            loss = criterion(outputs, labels)\n",
        "\n",
        "        scaler.scale(loss).backward()\n",
        "        scaler.step(optimizer)\n",
        "        scaler.update()\n",
        "\n",
        "        running_loss += loss.item() * images.size(0)\n",
        "        preds = outputs.argmax(dim=1)\n",
        "        correct += (preds == labels).sum().item()\n",
        "        total += labels.size(0)\n",
        "\n",
        "    scheduler.step()\n",
        "    train_acc = correct / total\n",
        "    avg_loss = running_loss / total\n",
        "    print(f\" [FT] Epoch {epoch+1}/{num_epochs} | Train Loss: {avg_loss:.4f} | Train Acc: {train_acc:.4f}\")\n",
        "\n",
        "    # Evaluation\n",
        "    model.eval()\n",
        "    correct = 0\n",
        "    total = 0\n",
        "\n",
        "    with torch.no_grad():\n",
        "        for images, labels in val_loader:\n",
        "            bs, ncrops, c, h, w = images.size()\n",
        "            images = images.view(-1, c, h, w).to(device)\n",
        "            labels = labels.to(device)\n",
        "\n",
        "            with torch.amp.autocast(device_type='cuda'):\n",
        "                outputs = model(images)\n",
        "\n",
        "            outputs = outputs.view(bs, ncrops, -1).mean(1)\n",
        "            preds = outputs.argmax(1)\n",
        "            correct += (preds == labels).sum().item()\n",
        "            total += labels.size(0)\n",
        "\n",
        "    val_acc = correct / total\n",
        "    print(f\" [FT] Validation Accuracy: {val_acc:.4f}\")\n",
        "\n",
        "    # Early Stopping & Save\n",
        "    if val_acc > best_ft_acc:\n",
        "        best_ft_acc = val_acc\n",
        "        torch.save(model.state_dict(), \"best_fer_model_finetuned.pth\")\n",
        "        print(\" Best fine-tuned model saved!\")\n",
        "        trigger = 0\n",
        "    else:\n",
        "        trigger += 1\n",
        "        print(f\" No improvement. Patience counter: {trigger}/{patience}\")\n",
        "        if trigger >= patience:\n",
        "            print(\" Early stopping triggered (fine-tune).\")\n",
        "            break\n"
      ],
      "metadata": {
        "colab": {
          "base_uri": "https://localhost:8080/"
        },
        "id": "r4JFuH7QqKjC",
        "outputId": "8891167d-dd2b-4627-909a-2fee4c4b7523"
      },
      "execution_count": 28,
      "outputs": [
        {
          "output_type": "stream",
          "name": "stdout",
          "text": [
            "Backbone unfrozen. Starting fine-tuning phase...\n",
            " [FT] Epoch 1/20 | Train Loss: 1.5406 | Train Acc: 0.4523\n",
            " [FT] Validation Accuracy: 0.5456\n",
            " Best fine-tuned model saved!\n",
            " [FT] Epoch 2/20 | Train Loss: 1.4307 | Train Acc: 0.5123\n",
            " [FT] Validation Accuracy: 0.5595\n",
            " Best fine-tuned model saved!\n",
            " [FT] Epoch 3/20 | Train Loss: 1.3833 | Train Acc: 0.5413\n",
            " [FT] Validation Accuracy: 0.5859\n",
            " Best fine-tuned model saved!\n",
            " [FT] Epoch 4/20 | Train Loss: 1.3526 | Train Acc: 0.5555\n",
            " [FT] Validation Accuracy: 0.5950\n",
            " Best fine-tuned model saved!\n",
            " [FT] Epoch 5/20 | Train Loss: 1.3255 | Train Acc: 0.5737\n",
            " [FT] Validation Accuracy: 0.5936\n",
            " No improvement. Patience counter: 1/7\n",
            " [FT] Epoch 6/20 | Train Loss: 1.3095 | Train Acc: 0.5786\n",
            " [FT] Validation Accuracy: 0.6086\n",
            " Best fine-tuned model saved!\n",
            " [FT] Epoch 7/20 | Train Loss: 1.2874 | Train Acc: 0.5915\n",
            " [FT] Validation Accuracy: 0.6319\n",
            " Best fine-tuned model saved!\n",
            " [FT] Epoch 8/20 | Train Loss: 1.2673 | Train Acc: 0.6016\n",
            " [FT] Validation Accuracy: 0.6037\n",
            " No improvement. Patience counter: 1/7\n",
            " [FT] Epoch 9/20 | Train Loss: 1.2538 | Train Acc: 0.6126\n",
            " [FT] Validation Accuracy: 0.6249\n",
            " No improvement. Patience counter: 2/7\n",
            " [FT] Epoch 10/20 | Train Loss: 1.2359 | Train Acc: 0.6163\n",
            " [FT] Validation Accuracy: 0.6447\n",
            " Best fine-tuned model saved!\n",
            " [FT] Epoch 11/20 | Train Loss: 1.2162 | Train Acc: 0.6277\n",
            " [FT] Validation Accuracy: 0.6500\n",
            " Best fine-tuned model saved!\n",
            " [FT] Epoch 12/20 | Train Loss: 1.1991 | Train Acc: 0.6367\n",
            " [FT] Validation Accuracy: 0.6430\n",
            " No improvement. Patience counter: 1/7\n",
            " [FT] Epoch 13/20 | Train Loss: 1.1788 | Train Acc: 0.6453\n",
            " [FT] Validation Accuracy: 0.6277\n",
            " No improvement. Patience counter: 2/7\n",
            " [FT] Epoch 14/20 | Train Loss: 1.1648 | Train Acc: 0.6546\n",
            " [FT] Validation Accuracy: 0.6468\n",
            " No improvement. Patience counter: 3/7\n",
            " [FT] Epoch 15/20 | Train Loss: 1.1372 | Train Acc: 0.6694\n",
            " [FT] Validation Accuracy: 0.6576\n",
            " Best fine-tuned model saved!\n",
            " [FT] Epoch 16/20 | Train Loss: 1.1216 | Train Acc: 0.6775\n",
            " [FT] Validation Accuracy: 0.6562\n",
            " No improvement. Patience counter: 1/7\n",
            " [FT] Epoch 17/20 | Train Loss: 1.1083 | Train Acc: 0.6852\n",
            " [FT] Validation Accuracy: 0.6608\n",
            " Best fine-tuned model saved!\n",
            " [FT] Epoch 18/20 | Train Loss: 1.0847 | Train Acc: 0.6970\n",
            " [FT] Validation Accuracy: 0.6635\n",
            " Best fine-tuned model saved!\n",
            " [FT] Epoch 19/20 | Train Loss: 1.0659 | Train Acc: 0.7056\n",
            " [FT] Validation Accuracy: 0.6743\n",
            " Best fine-tuned model saved!\n",
            " [FT] Epoch 20/20 | Train Loss: 1.0447 | Train Acc: 0.7217\n",
            " [FT] Validation Accuracy: 0.6677\n",
            " No improvement. Patience counter: 1/7\n"
          ]
        }
      ]
    }
  ],
  "metadata": {
    "colab": {
      "provenance": [],
      "gpuType": "T4",
      "include_colab_link": true
    },
    "kernelspec": {
      "display_name": "Python 3",
      "name": "python3"
    },
    "accelerator": "GPU"
  },
  "nbformat": 4,
  "nbformat_minor": 0
}