{
  "cells": [
    {
      "cell_type": "markdown",
      "metadata": {
        "id": "view-in-github",
        "colab_type": "text"
      },
      "source": [
        "<a href=\"https://colab.research.google.com/github/Rafi076/RTFER/blob/main/FER2013_SOTA_ResNet_Pipeline.ipynb\" target=\"_parent\"><img src=\"https://colab.research.google.com/assets/colab-badge.svg\" alt=\"Open In Colab\"/></a>"
      ]
    },
    {
      "cell_type": "markdown",
      "source": [
        "s1"
      ],
      "metadata": {
        "id": "eVeRDzkXfrJr"
      }
    },
    {
      "cell_type": "code",
      "source": [
        "# Step 1: Setup\n",
        "import os\n",
        "import zipfile\n",
        "import cv2\n",
        "import numpy as np\n",
        "import matplotlib.pyplot as plt\n",
        "from PIL import Image\n",
        "from sklearn.model_selection import train_test_split\n",
        "from torchvision import transforms, models\n",
        "from torch.utils.data import Dataset, DataLoader\n",
        "import torch\n",
        "import torch.nn as nn\n",
        "import torch.optim as optim\n",
        "from torchvision.transforms import functional as TF\n",
        "from torchvision import transforms\n",
        "from torch.utils.data import Dataset\n",
        "import torch\n",
        "import random"
      ],
      "metadata": {
        "id": "-OGECCnM8Nl7"
      },
      "execution_count": 1,
      "outputs": []
    },
    {
      "cell_type": "markdown",
      "source": [
        "s2"
      ],
      "metadata": {
        "id": "lKGKIDtOfvlf"
      }
    },
    {
      "cell_type": "code",
      "source": [
        "# Step 2: Unzip the FER-2013 dataset\n",
        "zip_path = \"/content/FER-2013.zip\"  # Update if path differs\n",
        "extract_path = \"/content/FER-2013\"\n",
        "\n",
        "with zipfile.ZipFile(zip_path, 'r') as zip_ref:\n",
        "    zip_ref.extractall(extract_path)\n",
        "\n",
        "print(\"FER-2013 dataset extracted.\")"
      ],
      "metadata": {
        "colab": {
          "base_uri": "https://localhost:8080/"
        },
        "id": "EuDHoVo58ZAa",
        "outputId": "aca23083-f217-4562-d16f-9852c4ab1afc"
      },
      "execution_count": 2,
      "outputs": [
        {
          "output_type": "stream",
          "name": "stdout",
          "text": [
            "FER-2013 dataset extracted.\n"
          ]
        }
      ]
    },
    {
      "cell_type": "markdown",
      "source": [
        "s3"
      ],
      "metadata": {
        "id": "NiVNPrT1fw_W"
      }
    },
    {
      "cell_type": "code",
      "source": [
        "# TRAINING Dataset with CLAHE + Augmentations\n",
        "class FERPreprocessTrainDataset(Dataset):\n",
        "    def __init__(self, image_dir):\n",
        "        self.image_paths = []\n",
        "        self.labels = []\n",
        "        self.class_map = sorted(os.listdir(image_dir))\n",
        "\n",
        "        for label, class_name in enumerate(self.class_map):\n",
        "            class_folder = os.path.join(image_dir, class_name)\n",
        "            for img_name in os.listdir(class_folder):\n",
        "                self.image_paths.append(os.path.join(class_folder, img_name))\n",
        "                self.labels.append(label)\n",
        "\n",
        "        # Train-time augmentations\n",
        "        self.augment = transforms.Compose([\n",
        "            transforms.RandomHorizontalFlip(p=0.5),\n",
        "            transforms.RandomRotation(10),\n",
        "            transforms.RandomResizedCrop(48, scale=(0.8, 1.2)),\n",
        "            transforms.ColorJitter(brightness=0.1, contrast=0.1),\n",
        "            transforms.ToTensor(),\n",
        "            transforms.Normalize([0.5]*3, [0.5]*3),\n",
        "            transforms.RandomErasing(p=0.5, scale=(0.02, 0.15), ratio=(0.3, 3.3))\n",
        "        ])\n",
        "\n",
        "    def __len__(self):\n",
        "        return len(self.image_paths)\n",
        "\n",
        "    def __getitem__(self, idx):\n",
        "        img_path = self.image_paths[idx]\n",
        "        label = self.labels[idx]\n",
        "\n",
        "        # Step 1: Grayscale\n",
        "        img = cv2.imread(img_path, cv2.IMREAD_GRAYSCALE)\n",
        "\n",
        "        # Step 2: CLAHE instead of basic hist equalization\n",
        "        clahe = cv2.createCLAHE(clipLimit=2.0, tileGridSize=(8, 8))\n",
        "        img = clahe.apply(img)\n",
        "\n",
        "        # Step 3: Convert to RGB\n",
        "        img = cv2.cvtColor(img, cv2.COLOR_GRAY2RGB)\n",
        "\n",
        "        # Step 4: Apply transformations\n",
        "        img = Image.fromarray(img)\n",
        "        img = self.augment(img)\n",
        "\n",
        "        return img, label\n",
        "\n",
        "\n",
        "# TESTING Dataset with TenCrop Support\n",
        "class FERPreprocessTestDataset(Dataset):\n",
        "    def __init__(self, image_dir):\n",
        "        self.image_paths = []\n",
        "        self.labels = []\n",
        "        self.class_map = sorted(os.listdir(image_dir))\n",
        "\n",
        "        for label, class_name in enumerate(self.class_map):\n",
        "            class_folder = os.path.join(image_dir, class_name)\n",
        "            for img_name in os.listdir(class_folder):\n",
        "                self.image_paths.append(os.path.join(class_folder, img_name))\n",
        "                self.labels.append(label)\n",
        "\n",
        "        # TenCrop (inference-time)\n",
        "        self.transform = transforms.Compose([\n",
        "            transforms.Resize(56),\n",
        "            transforms.TenCrop(48),  # returns 10 crops\n",
        "            transforms.Lambda(lambda crops: torch.stack([\n",
        "                transforms.Normalize([0.5]*3, [0.5]*3)(transforms.ToTensor()(crop))\n",
        "                for crop in crops\n",
        "            ]))\n",
        "        ])\n",
        "\n",
        "    def __len__(self):\n",
        "        return len(self.image_paths)\n",
        "\n",
        "    def __getitem__(self, idx):\n",
        "        img_path = self.image_paths[idx]\n",
        "        label = self.labels[idx]\n",
        "\n",
        "        # Grayscale → CLAHE → RGB\n",
        "        img = cv2.imread(img_path, cv2.IMREAD_GRAYSCALE)\n",
        "        clahe = cv2.createCLAHE(clipLimit=2.0, tileGridSize=(8, 8))\n",
        "        img = clahe.apply(img)\n",
        "        img = cv2.cvtColor(img, cv2.COLOR_GRAY2RGB)\n",
        "        img = Image.fromarray(img)\n",
        "\n",
        "        # Apply TenCrop + Normalize\n",
        "        img = self.transform(img)  # shape: [10, 3, 48, 48]\n",
        "        return img, label"
      ],
      "metadata": {
        "id": "quUtTpym8asa"
      },
      "execution_count": 3,
      "outputs": []
    },
    {
      "cell_type": "markdown",
      "source": [
        "s4"
      ],
      "metadata": {
        "id": "xqxbh62ofy4H"
      }
    },
    {
      "cell_type": "code",
      "source": [
        "# Define dataset paths\n",
        "train_path = \"/content/FER-2013/FER-2013/train\"\n",
        "test_path = \"/content/FER-2013/FER-2013/test\"\n",
        "\n",
        "# Load Datasets\n",
        "train_dataset = FERPreprocessTrainDataset(train_path)\n",
        "test_dataset = FERPreprocessTestDataset(test_path)\n",
        "\n",
        "# Dataloaders\n",
        "train_loader = DataLoader(train_dataset, batch_size=64, shuffle=True)\n",
        "test_loader = DataLoader(test_dataset, batch_size=16)  # batch_size = 16 → 10 crops per image\n"
      ],
      "metadata": {
        "id": "pdmi_7ty8dH_"
      },
      "execution_count": 4,
      "outputs": []
    },
    {
      "cell_type": "markdown",
      "source": [
        "s5"
      ],
      "metadata": {
        "id": "5KcQlBENf0Gr"
      }
    },
    {
      "cell_type": "code",
      "source": [
        "# Step 5: Visualize a few samples\n",
        "import random\n",
        "plt.figure(figsize=(12, 3))\n",
        "for i in range(5):\n",
        "    idx = random.randint(0, len(train_dataset)-1)\n",
        "    img, label = train_dataset[idx]\n",
        "    plt.subplot(1, 5, i + 1)\n",
        "    plt.imshow(np.transpose(img.numpy(), (1, 2, 0)))\n",
        "    plt.title(f\"Label: {label}\")\n",
        "    plt.axis(\"off\")\n",
        "\n",
        "plt.suptitle(\"Sample Preprocessed FER-2013 Images\")\n",
        "plt.show()"
      ],
      "metadata": {
        "colab": {
          "base_uri": "https://localhost:8080/",
          "height": 369
        },
        "id": "wRTn1dSN8frG",
        "outputId": "6e555883-b4e1-46fc-ea64-23e9200144a9"
      },
      "execution_count": 5,
      "outputs": [
        {
          "output_type": "stream",
          "name": "stderr",
          "text": [
            "WARNING:matplotlib.image:Clipping input data to the valid range for imshow with RGB data ([0..1] for floats or [0..255] for integers). Got range [-0.92941177..0.75686276].\n",
            "WARNING:matplotlib.image:Clipping input data to the valid range for imshow with RGB data ([0..1] for floats or [0..255] for integers). Got range [-0.9607843..0.92156863].\n",
            "WARNING:matplotlib.image:Clipping input data to the valid range for imshow with RGB data ([0..1] for floats or [0..255] for integers). Got range [-1.0..1.0].\n",
            "WARNING:matplotlib.image:Clipping input data to the valid range for imshow with RGB data ([0..1] for floats or [0..255] for integers). Got range [-1.0..1.0].\n",
            "WARNING:matplotlib.image:Clipping input data to the valid range for imshow with RGB data ([0..1] for floats or [0..255] for integers). Got range [-0.9529412..0.77254903].\n"
          ]
        },
        {
          "output_type": "display_data",
          "data": {
            "text/plain": [
              "<Figure size 1200x300 with 5 Axes>"
            ],
            "image/png": "[encoded data removed]"
          },
          "metadata": {}
        }
      ]
    },
    {
      "cell_type": "markdown",
      "source": [
        "s6"
      ],
      "metadata": {
        "id": "CWMnIwbrf19A"
      }
    },
    {
      "cell_type": "code",
      "source": [
        "# Step 6: Build the most optimized ResNet18 model for FER-2013\n",
        "import torch.nn as nn\n",
        "import torchvision.models as models\n",
        "import torch.nn.init as init\n",
        "\n",
        "device = torch.device(\"cuda\" if torch.cuda.is_available() else \"cpu\")\n",
        "\n",
        "# Load pretrained ResNet18 from torchvision\n",
        "base_resnet = models.resnet18(pretrained=True)\n",
        "\n",
        "# Define custom ResNet18-based model\n",
        "class BestFERResNet18(nn.Module):\n",
        "    def __init__(self, base_model):\n",
        "        super(BestFERResNet18, self).__init__()\n",
        "        self.backbone = nn.Sequential(*list(base_model.children())[:-1])  # Remove FC layer\n",
        "        self.fc_head = nn.Sequential(\n",
        "            nn.Flatten(),\n",
        "            nn.Linear(base_model.fc.in_features, 512),\n",
        "            nn.BatchNorm1d(512),\n",
        "            nn.ReLU(),\n",
        "            nn.Dropout(0.5),\n",
        "            nn.Linear(512, 256),\n",
        "            nn.BatchNorm1d(256),\n",
        "            nn.ReLU(),\n",
        "            nn.Dropout(0.3),\n",
        "            nn.Linear(256, 7)  # FER-2013 has 7 emotion classes\n",
        "        )\n",
        "        self._init_weights()\n",
        "\n",
        "        #  Freeze backbone initially\n",
        "        for param in self.backbone.parameters():\n",
        "            param.requires_grad = False\n",
        "\n",
        "    def _init_weights(self):\n",
        "        for m in self.fc_head:\n",
        "            if isinstance(m, nn.Linear):\n",
        "                init.kaiming_normal_(m.weight)\n",
        "                if m.bias is not None:\n",
        "                    init.constant_(m.bias, 0)\n",
        "\n",
        "    def forward(self, x):\n",
        "        x = self.backbone(x)  # [B, 512, 1, 1]\n",
        "        x = self.fc_head(x)   # [B, 7]\n",
        "        return x\n",
        "\n",
        "# Initialize model\n",
        "model = BestFERResNet18(base_resnet).to(device)\n",
        "\n",
        "print(\"Best ResNet18 model is ready on\", device)\n"
      ],
      "metadata": {
        "colab": {
          "base_uri": "https://localhost:8080/"
        },
        "id": "JcIF9k2p8hr7",
        "outputId": "0b248e7a-92d6-4eff-8cd2-e7df9684f339"
      },
      "execution_count": 6,
      "outputs": [
        {
          "output_type": "stream",
          "name": "stderr",
          "text": [
            "/usr/local/lib/python3.11/dist-packages/torchvision/models/_utils.py:208: UserWarning: The parameter 'pretrained' is deprecated since 0.13 and may be removed in the future, please use 'weights' instead.\n",
            "  warnings.warn(\n",
            "/usr/local/lib/python3.11/dist-packages/torchvision/models/_utils.py:223: UserWarning: Arguments other than a weight enum or `None` for 'weights' are deprecated since 0.13 and may be removed in the future. The current behavior is equivalent to passing `weights=ResNet18_Weights.IMAGENET1K_V1`. You can also use `weights=ResNet18_Weights.DEFAULT` to get the most up-to-date weights.\n",
            "  warnings.warn(msg)\n",
            "Downloading: \"https://download.pytorch.org/models/resnet18-f37072fd.pth\" to /root/.cache/torch/hub/checkpoints/resnet18-f37072fd.pth\n",
            "100%|██████████| 44.7M/44.7M [00:00<00:00, 209MB/s]\n"
          ]
        },
        {
          "output_type": "stream",
          "name": "stdout",
          "text": [
            "Best ResNet18 model is ready on cuda\n"
          ]
        }
      ]
    },
    {
      "cell_type": "markdown",
      "source": [
        "s7"
      ],
      "metadata": {
        "id": "nz0df0rtf3g3"
      }
    },
    {
      "cell_type": "code",
      "source": [
        "# Step 7: Training Setup with all optimizations\n",
        "import torch.optim as optim\n",
        "from torch.optim.lr_scheduler import CosineAnnealingWarmRestarts\n",
        "\n",
        "# Label Smoothing Loss\n",
        "class LabelSmoothingLoss(nn.Module):\n",
        "    def __init__(self, smoothing=0.1):\n",
        "        super(LabelSmoothingLoss, self).__init__()\n",
        "        self.smoothing = smoothing\n",
        "        self.confidence = 1.0 - smoothing\n",
        "\n",
        "    def forward(self, pred, target):\n",
        "        log_probs = nn.LogSoftmax(dim=-1)(pred)\n",
        "        true_dist = torch.zeros_like(log_probs).scatter_(1, target.unsqueeze(1), self.confidence)\n",
        "        true_dist += self.smoothing / pred.size(1)\n",
        "        return torch.mean(torch.sum(-true_dist * log_probs, dim=-1))\n",
        "\n",
        "criterion = LabelSmoothingLoss(smoothing=0.1)\n",
        "optimizer = optim.AdamW(model.parameters(), lr=1e-3, weight_decay=1e-4)\n",
        "scheduler = CosineAnnealingWarmRestarts(optimizer, T_0=10, T_mult=2)\n",
        "scaler = torch.cuda.amp.GradScaler()\n"
      ],
      "metadata": {
        "colab": {
          "base_uri": "https://localhost:8080/"
        },
        "id": "O4ihkOEZ8jRa",
        "outputId": "6c434ea5-2cbb-4d4c-feb2-94d92d9b5eff"
      },
      "execution_count": 7,
      "outputs": [
        {
          "output_type": "stream",
          "name": "stderr",
          "text": [
            "/tmp/ipython-input-7-196615464.py:21: FutureWarning: `torch.cuda.amp.GradScaler(args...)` is deprecated. Please use `torch.amp.GradScaler('cuda', args...)` instead.\n",
            "  scaler = torch.cuda.amp.GradScaler()\n"
          ]
        }
      ]
    },
    {
      "cell_type": "markdown",
      "source": [
        "s8"
      ],
      "metadata": {
        "id": "vSFPKgJwf48k"
      }
    },
    {
      "cell_type": "code",
      "source": [
        "# Step 8 & 9: Advanced Training Loop with AMP, Early Stopping, and Model Checkpointing\n",
        "\n",
        "num_epochs = 40\n",
        "best_acc = 0.0\n",
        "patience = 7\n",
        "trigger = 0\n",
        "\n",
        "for epoch in range(num_epochs):\n",
        "    model.train()\n",
        "    running_loss = 0.0\n",
        "    correct = 0\n",
        "    total = 0\n",
        "\n",
        "    # Training Phase\n",
        "    for images, labels in train_loader:\n",
        "        images, labels = images.to(device), labels.to(device)\n",
        "\n",
        "        optimizer.zero_grad()\n",
        "        with torch.cuda.amp.autocast():  #  Mixed precision for speed\n",
        "            outputs = model(images)\n",
        "            loss = criterion(outputs, labels)\n",
        "\n",
        "        scaler.scale(loss).backward()\n",
        "        scaler.step(optimizer)\n",
        "        scaler.update()\n",
        "\n",
        "        running_loss += loss.item() * images.size(0)\n",
        "        preds = outputs.argmax(dim=1)\n",
        "        correct += (preds == labels).sum().item()\n",
        "        total += labels.size(0)\n",
        "\n",
        "    scheduler.step()\n",
        "    train_acc = correct / total\n",
        "    avg_loss = running_loss / total\n",
        "    print(f\"Epoch {epoch+1}/{num_epochs} | Train Loss: {avg_loss:.4f} | Train Acc: {train_acc:.4f}\")\n",
        "\n",
        "    # Evaluation Phase (with TenCrop)\n",
        "    model.eval()\n",
        "    correct = 0\n",
        "    total = 0\n",
        "\n",
        "    with torch.no_grad():\n",
        "        for images, labels in test_loader:\n",
        "            bs, ncrops, c, h, w = images.size()  # [B, 10, 3, 48, 48]\n",
        "            images = images.view(-1, c, h, w).to(device)  # → [B*10, 3, 48, 48]\n",
        "            labels = labels.to(device)\n",
        "\n",
        "            with torch.cuda.amp.autocast():\n",
        "                outputs = model(images)  # [B*10, 7]\n",
        "            outputs = outputs.view(bs, ncrops, -1).mean(1)  # → [B, 7]\n",
        "            preds = outputs.argmax(1)\n",
        "\n",
        "            correct += (preds == labels).sum().item()\n",
        "            total += labels.size(0)\n",
        "\n",
        "    val_acc = correct / total\n",
        "    print(f\"Validation Accuracy: {val_acc:.4f}\")\n",
        "\n",
        "    # Early Stopping & Checkpointing\n",
        "    if val_acc > best_acc:\n",
        "        best_acc = val_acc\n",
        "        torch.save(model.state_dict(), \"best_fer_model.pth\")\n",
        "        print(\"Best model saved with accuracy:\", round(best_acc, 4))\n",
        "        trigger = 0\n",
        "    else:\n",
        "        trigger += 1\n",
        "        print(f\" No improvement. Patience counter: {trigger}/{patience}\")\n",
        "        if trigger >= patience:\n",
        "            print(\"Early stopping triggered.\")\n",
        "            break\n",
        "\n",
        "\n",
        "\n",
        "\n",
        "\n",
        "\n",
        "#  STAGE 2: Unfreeze Backbone and Fine-Tune All Layers\n",
        "for param in model.backbone.parameters():\n",
        "    param.requires_grad = True\n",
        "\n",
        "print(\"Backbone unfrozen. Starting fine-tuning phase...\")\n",
        "\n",
        "# Reset early stopping variables\n",
        "trigger = 0\n",
        "patience = 7\n",
        "num_epochs = 20  # Or more, based on resources\n",
        "\n",
        "for epoch in range(num_epochs):\n",
        "    model.train()\n",
        "    running_loss = 0\n",
        "    correct = 0\n",
        "\n",
        "    for images, labels in train_loader:\n",
        "        images, labels = images.to(device), labels.to(device)\n",
        "\n",
        "        optimizer.zero_grad()\n",
        "        with torch.amp.autocast(device_type='cuda'):  #  updated per warning\n",
        "            outputs = model(images)\n",
        "            loss = criterion(outputs, labels)\n",
        "        scaler.scale(loss).backward()\n",
        "        scaler.step(optimizer)\n",
        "        scaler.update()\n",
        "\n",
        "        running_loss += loss.item()\n",
        "        correct += (outputs.argmax(1) == labels).sum().item()\n",
        "\n",
        "    scheduler.step()\n",
        "    train_acc = correct / len(train_loader.dataset)\n",
        "    print(f\" [FT] Epoch {epoch+1} | Train Loss: {running_loss:.4f} | Train Acc: {train_acc:.4f}\")\n",
        "\n",
        "    # Evaluation\n",
        "    model.eval()\n",
        "    correct = 0\n",
        "    total = 0\n",
        "\n",
        "    with torch.no_grad():\n",
        "        for images, labels in test_loader:\n",
        "            bs, ncrops, c, h, w = images.size()\n",
        "            images = images.view(-1, c, h, w).to(device)\n",
        "            labels = labels.to(device)\n",
        "\n",
        "            with torch.amp.autocast(device_type='cuda'):\n",
        "                outputs = model(images)\n",
        "            outputs = outputs.view(bs, ncrops, -1).mean(1)\n",
        "            preds = outputs.argmax(1)\n",
        "\n",
        "            correct += (preds == labels).sum().item()\n",
        "            total += labels.size(0)\n",
        "\n",
        "    val_acc = correct / total\n",
        "    print(f\"[FT] Validation Accuracy: {val_acc:.4f}\")\n",
        "\n",
        "    # Save best model\n",
        "    if val_acc > best_acc:\n",
        "        best_acc = val_acc\n",
        "        torch.save(model.state_dict(), \"best_fer_model.pth\")\n",
        "        print(\" Best model saved (fine-tuned)!\")\n",
        "        trigger = 0\n",
        "    else:\n",
        "        trigger += 1\n",
        "        print(f\" No improvement. Patience counter: {trigger}/{patience}\")\n",
        "        if trigger >= patience:\n",
        "            print(\"Early stopping triggered (fine-tuning).\")\n",
        "            break\n"
      ],
      "metadata": {
        "colab": {
          "base_uri": "https://localhost:8080/"
        },
        "id": "u15jT6KZ8lFy",
        "outputId": "75effc16-1a4a-4585-ee35-11d48e50520a"
      },
      "execution_count": null,
      "outputs": [
        {
          "output_type": "stream",
          "name": "stderr",
          "text": [
            "/tmp/ipython-input-71-3457817268.py:19: FutureWarning: `torch.cuda.amp.autocast(args...)` is deprecated. Please use `torch.amp.autocast('cuda', args...)` instead.\n",
            "  with torch.cuda.amp.autocast():  #  Mixed precision for speed\n"
          ]
        },
        {
          "output_type": "stream",
          "name": "stdout",
          "text": [
            "Epoch 1/40 | Train Loss: 1.9536 | Train Acc: 0.2416\n"
          ]
        },
        {
          "output_type": "stream",
          "name": "stderr",
          "text": [
            "/tmp/ipython-input-71-3457817268.py:48: FutureWarning: `torch.cuda.amp.autocast(args...)` is deprecated. Please use `torch.amp.autocast('cuda', args...)` instead.\n",
            "  with torch.cuda.amp.autocast():\n"
          ]
        },
        {
          "output_type": "stream",
          "name": "stdout",
          "text": [
            "Validation Accuracy: 0.3274\n",
            "Best model saved with accuracy: 0.3274\n",
            "Epoch 2/40 | Train Loss: 1.8170 | Train Acc: 0.2762\n",
            "Validation Accuracy: 0.3678\n",
            "Best model saved with accuracy: 0.3678\n",
            "Epoch 3/40 | Train Loss: 1.7912 | Train Acc: 0.2917\n",
            "Validation Accuracy: 0.3558\n",
            " No improvement. Patience counter: 1/7\n",
            "Epoch 4/40 | Train Loss: 1.7801 | Train Acc: 0.2973\n",
            "Validation Accuracy: 0.3656\n",
            " No improvement. Patience counter: 2/7\n",
            "Epoch 5/40 | Train Loss: 1.7705 | Train Acc: 0.3027\n",
            "Validation Accuracy: 0.3532\n",
            " No improvement. Patience counter: 3/7\n",
            "Epoch 6/40 | Train Loss: 1.7661 | Train Acc: 0.3073\n",
            "Validation Accuracy: 0.3696\n",
            "Best model saved with accuracy: 0.3696\n",
            "Epoch 7/40 | Train Loss: 1.7637 | Train Acc: 0.3099\n",
            "Validation Accuracy: 0.3830\n",
            "Best model saved with accuracy: 0.383\n",
            "Epoch 8/40 | Train Loss: 1.7612 | Train Acc: 0.3098\n",
            "Validation Accuracy: 0.3732\n",
            " No improvement. Patience counter: 1/7\n",
            "Epoch 9/40 | Train Loss: 1.7587 | Train Acc: 0.3113\n",
            "Validation Accuracy: 0.3792\n",
            " No improvement. Patience counter: 2/7\n",
            "Epoch 10/40 | Train Loss: 1.7534 | Train Acc: 0.3171\n",
            "Validation Accuracy: 0.3782\n",
            " No improvement. Patience counter: 3/7\n",
            "Epoch 11/40 | Train Loss: 1.7666 | Train Acc: 0.3076\n",
            "Validation Accuracy: 0.3736\n",
            " No improvement. Patience counter: 4/7\n",
            "Epoch 12/40 | Train Loss: 1.7666 | Train Acc: 0.3050\n",
            "Validation Accuracy: 0.3487\n",
            " No improvement. Patience counter: 5/7\n",
            "Epoch 13/40 | Train Loss: 1.7617 | Train Acc: 0.3155\n",
            "Validation Accuracy: 0.3625\n",
            " No improvement. Patience counter: 6/7\n",
            "Epoch 14/40 | Train Loss: 1.7593 | Train Acc: 0.3120\n",
            "Validation Accuracy: 0.3877\n",
            "Best model saved with accuracy: 0.3877\n",
            "Epoch 15/40 | Train Loss: 1.7580 | Train Acc: 0.3143\n",
            "Validation Accuracy: 0.3812\n",
            " No improvement. Patience counter: 1/7\n",
            "Epoch 16/40 | Train Loss: 1.7589 | Train Acc: 0.3120\n",
            "Validation Accuracy: 0.3795\n",
            " No improvement. Patience counter: 2/7\n",
            "Epoch 17/40 | Train Loss: 1.7506 | Train Acc: 0.3180\n",
            "Validation Accuracy: 0.3938\n",
            "Best model saved with accuracy: 0.3938\n",
            "Epoch 18/40 | Train Loss: 1.7539 | Train Acc: 0.3171\n",
            "Validation Accuracy: 0.3768\n",
            " No improvement. Patience counter: 1/7\n",
            "Epoch 19/40 | Train Loss: 1.7491 | Train Acc: 0.3199\n",
            "Validation Accuracy: 0.3835\n",
            " No improvement. Patience counter: 2/7\n",
            "Epoch 20/40 | Train Loss: 1.7455 | Train Acc: 0.3224\n",
            "Validation Accuracy: 0.3831\n",
            " No improvement. Patience counter: 3/7\n",
            "Epoch 21/40 | Train Loss: 1.7488 | Train Acc: 0.3191\n",
            "Validation Accuracy: 0.3799\n",
            " No improvement. Patience counter: 4/7\n",
            "Epoch 22/40 | Train Loss: 1.7451 | Train Acc: 0.3232\n",
            "Validation Accuracy: 0.3892\n",
            " No improvement. Patience counter: 5/7\n",
            "Epoch 23/40 | Train Loss: 1.7449 | Train Acc: 0.3244\n",
            "Validation Accuracy: 0.3963\n",
            "Best model saved with accuracy: 0.3963\n",
            "Epoch 24/40 | Train Loss: 1.7416 | Train Acc: 0.3278\n",
            "Validation Accuracy: 0.3799\n",
            " No improvement. Patience counter: 1/7\n",
            "Epoch 25/40 | Train Loss: 1.7434 | Train Acc: 0.3219\n",
            "Validation Accuracy: 0.3918\n",
            " No improvement. Patience counter: 2/7\n",
            "Epoch 26/40 | Train Loss: 1.7390 | Train Acc: 0.3262\n",
            "Validation Accuracy: 0.3943\n",
            " No improvement. Patience counter: 3/7\n",
            "Epoch 27/40 | Train Loss: 1.7383 | Train Acc: 0.3264\n",
            "Validation Accuracy: 0.3919\n",
            " No improvement. Patience counter: 4/7\n",
            "Epoch 28/40 | Train Loss: 1.7379 | Train Acc: 0.3294\n",
            "Validation Accuracy: 0.3874\n",
            " No improvement. Patience counter: 5/7\n",
            "Epoch 29/40 | Train Loss: 1.7394 | Train Acc: 0.3245\n",
            "Validation Accuracy: 0.3930\n",
            " No improvement. Patience counter: 6/7\n",
            "Epoch 30/40 | Train Loss: 1.7379 | Train Acc: 0.3275\n",
            "Validation Accuracy: 0.3899\n",
            " No improvement. Patience counter: 7/7\n",
            "Early stopping triggered.\n",
            "Backbone unfrozen. Starting fine-tuning phase...\n",
            " [FT] Epoch 1 | Train Loss: 692.3662 | Train Acc: 0.4477\n",
            "[FT] Validation Accuracy: 0.5096\n",
            " Best model saved (fine-tuned)!\n",
            " [FT] Epoch 2 | Train Loss: 647.6668 | Train Acc: 0.5078\n",
            "[FT] Validation Accuracy: 0.5369\n",
            " Best model saved (fine-tuned)!\n",
            " [FT] Epoch 3 | Train Loss: 629.1732 | Train Acc: 0.5313\n",
            "[FT] Validation Accuracy: 0.5623\n",
            " Best model saved (fine-tuned)!\n",
            " [FT] Epoch 4 | Train Loss: 613.6572 | Train Acc: 0.5479\n",
            "[FT] Validation Accuracy: 0.5474\n",
            " No improvement. Patience counter: 1/7\n",
            " [FT] Epoch 5 | Train Loss: 603.9669 | Train Acc: 0.5601\n",
            "[FT] Validation Accuracy: 0.5585\n",
            " No improvement. Patience counter: 2/7\n",
            " [FT] Epoch 6 | Train Loss: 597.4148 | Train Acc: 0.5686\n",
            "[FT] Validation Accuracy: 0.5843\n",
            " Best model saved (fine-tuned)!\n",
            " [FT] Epoch 7 | Train Loss: 587.9650 | Train Acc: 0.5785\n",
            "[FT] Validation Accuracy: 0.6018\n",
            " Best model saved (fine-tuned)!\n",
            " [FT] Epoch 8 | Train Loss: 582.5811 | Train Acc: 0.5878\n",
            "[FT] Validation Accuracy: 0.5882\n",
            " No improvement. Patience counter: 1/7\n",
            " [FT] Epoch 9 | Train Loss: 574.4596 | Train Acc: 0.5948\n",
            "[FT] Validation Accuracy: 0.6023\n",
            " Best model saved (fine-tuned)!\n",
            " [FT] Epoch 10 | Train Loss: 569.7558 | Train Acc: 0.5997\n",
            "[FT] Validation Accuracy: 0.6265\n",
            " Best model saved (fine-tuned)!\n",
            " [FT] Epoch 11 | Train Loss: 563.7052 | Train Acc: 0.6060\n",
            "[FT] Validation Accuracy: 0.6266\n",
            " Best model saved (fine-tuned)!\n",
            " [FT] Epoch 12 | Train Loss: 554.9724 | Train Acc: 0.6152\n",
            "[FT] Validation Accuracy: 0.6296\n",
            " Best model saved (fine-tuned)!\n",
            " [FT] Epoch 13 | Train Loss: 549.4483 | Train Acc: 0.6229\n",
            "[FT] Validation Accuracy: 0.6252\n",
            " No improvement. Patience counter: 1/7\n",
            " [FT] Epoch 14 | Train Loss: 543.3024 | Train Acc: 0.6314\n",
            "[FT] Validation Accuracy: 0.6350\n",
            " Best model saved (fine-tuned)!\n",
            " [FT] Epoch 15 | Train Loss: 536.7773 | Train Acc: 0.6391\n",
            "[FT] Validation Accuracy: 0.6375\n",
            " Best model saved (fine-tuned)!\n",
            " [FT] Epoch 16 | Train Loss: 532.8526 | Train Acc: 0.6437\n",
            "[FT] Validation Accuracy: 0.6390\n",
            " Best model saved (fine-tuned)!\n",
            " [FT] Epoch 17 | Train Loss: 525.0371 | Train Acc: 0.6511\n",
            "[FT] Validation Accuracy: 0.6461\n",
            " Best model saved (fine-tuned)!\n",
            " [FT] Epoch 18 | Train Loss: 519.5462 | Train Acc: 0.6584\n",
            "[FT] Validation Accuracy: 0.6453\n",
            " No improvement. Patience counter: 1/7\n",
            " [FT] Epoch 19 | Train Loss: 512.7295 | Train Acc: 0.6663\n",
            "[FT] Validation Accuracy: 0.6549\n",
            " Best model saved (fine-tuned)!\n",
            " [FT] Epoch 20 | Train Loss: 505.0713 | Train Acc: 0.6728\n",
            "[FT] Validation Accuracy: 0.6559\n",
            " Best model saved (fine-tuned)!\n"
          ]
        }
      ]
    },
    {
      "cell_type": "markdown",
      "source": [
        "s9"
      ],
      "metadata": {
        "id": "ivQinebwf7iX"
      }
    },
    {
      "cell_type": "code",
      "source": [
        "import os\n",
        "import shutil\n",
        "\n",
        "base_path = \"/content/FER-2013/FER-2013\"  # Make sure this is your actual path\n",
        "merged_train_path = os.path.join(base_path, \"train_val_merged\")\n",
        "\n",
        "# Create merged directory\n",
        "os.makedirs(merged_train_path, exist_ok=True)\n",
        "\n",
        "# Copy only from 'train' folder (since 'val' doesn't exist)\n",
        "train_path = os.path.join(base_path, \"train\")\n",
        "for emotion in os.listdir(train_path):\n",
        "    src = os.path.join(train_path, emotion)\n",
        "    dst = os.path.join(merged_train_path, emotion)\n",
        "    os.makedirs(dst, exist_ok=True)\n",
        "    for file in os.listdir(src):\n",
        "        shutil.copy(os.path.join(src, file), os.path.join(dst, file))\n",
        "\n",
        "print(\" Merged available training data into:\", merged_train_path)\n"
      ],
      "metadata": {
        "colab": {
          "base_uri": "https://localhost:8080/"
        },
        "id": "7LCNGCy_8nRq",
        "outputId": "f81a4216-f529-40e1-887f-5040677077e2"
      },
      "execution_count": 8,
      "outputs": [
        {
          "output_type": "stream",
          "name": "stdout",
          "text": [
            " Merged available training data into: /content/FER-2013/FER-2013/train_val_merged\n"
          ]
        }
      ]
    },
    {
      "cell_type": "markdown",
      "source": [
        "s10"
      ],
      "metadata": {
        "id": "8kxhnB5gf_F_"
      }
    },
    {
      "cell_type": "code",
      "source": [
        "# Step 2: Define BestFERResNet34 Model\n",
        "import torchvision.models as models\n",
        "import torch.nn as nn\n",
        "import torch.nn.init as init\n",
        "\n",
        "resnet34 = models.resnet34(pretrained=True)\n",
        "\n",
        "class BestFERResNet34(nn.Module):\n",
        "    def __init__(self, base_model):\n",
        "        super(BestFERResNet34, self).__init__()\n",
        "        self.backbone = nn.Sequential(*list(base_model.children())[:-1])  # Remove last FC\n",
        "        self.fc_head = nn.Sequential(\n",
        "            nn.Flatten(),\n",
        "            nn.Linear(base_model.fc.in_features, 512),\n",
        "            nn.BatchNorm1d(512),\n",
        "            nn.ReLU(),\n",
        "            nn.Dropout(0.5),\n",
        "            nn.Linear(512, 256),\n",
        "            nn.BatchNorm1d(256),\n",
        "            nn.ReLU(),\n",
        "            nn.Dropout(0.3),\n",
        "            nn.Linear(256, 7)\n",
        "        )\n",
        "        self._init_weights()\n",
        "        for param in self.backbone.parameters():\n",
        "            param.requires_grad = False\n",
        "\n",
        "    def _init_weights(self):\n",
        "        for m in self.fc_head:\n",
        "            if isinstance(m, nn.Linear):\n",
        "                init.kaiming_normal_(m.weight)\n",
        "                if m.bias is not None:\n",
        "                    init.constant_(m.bias, 0)\n",
        "\n",
        "    def forward(self, x):\n",
        "        x = self.backbone(x)\n",
        "        x = self.fc_head(x)\n",
        "        return x\n",
        "\n",
        "model = BestFERResNet34(resnet34).to(device)\n",
        "print(\" Loaded BestFERResNet34\")\n"
      ],
      "metadata": {
        "colab": {
          "base_uri": "https://localhost:8080/"
        },
        "id": "xMFj-JKv8oyW",
        "outputId": "0c80243f-d2b4-4666-ed8d-3966d6331fa5"
      },
      "execution_count": 9,
      "outputs": [
        {
          "output_type": "stream",
          "name": "stderr",
          "text": [
            "/usr/local/lib/python3.11/dist-packages/torchvision/models/_utils.py:223: UserWarning: Arguments other than a weight enum or `None` for 'weights' are deprecated since 0.13 and may be removed in the future. The current behavior is equivalent to passing `weights=ResNet34_Weights.IMAGENET1K_V1`. You can also use `weights=ResNet34_Weights.DEFAULT` to get the most up-to-date weights.\n",
            "  warnings.warn(msg)\n",
            "Downloading: \"https://download.pytorch.org/models/resnet34-b627a593.pth\" to /root/.cache/torch/hub/checkpoints/resnet34-b627a593.pth\n",
            "100%|██████████| 83.3M/83.3M [00:00<00:00, 211MB/s]\n"
          ]
        },
        {
          "output_type": "stream",
          "name": "stdout",
          "text": [
            " Loaded BestFERResNet34\n"
          ]
        }
      ]
    },
    {
      "cell_type": "markdown",
      "source": [
        "s11"
      ],
      "metadata": {
        "id": "AJlDJMdLgB6b"
      }
    },
    {
      "cell_type": "markdown",
      "source": [
        "Replace ResNet18 with ResNet34 (stronger backbone)\n",
        "\n",
        "Manually Split Merged Data into Train and Val Sets\n",
        "\n",
        "We’ll split train_val_merged into 90% train and 10% val."
      ],
      "metadata": {
        "id": "PVa86MyD8tH4"
      }
    },
    {
      "cell_type": "code",
      "source": [
        "import os\n",
        "import shutil\n",
        "import random\n",
        "from sklearn.model_selection import train_test_split\n",
        "\n",
        "merged_dir = \"/content/FER-2013/FER-2013/train_val_merged\"\n",
        "train_dir = \"/content/FER-2013/FER-2013/train_split\"\n",
        "val_dir = \"/content/FER-2013/FER-2013/val_split\"\n",
        "\n",
        "os.makedirs(train_dir, exist_ok=True)\n",
        "os.makedirs(val_dir, exist_ok=True)\n",
        "\n",
        "for emotion in os.listdir(merged_dir):\n",
        "    emotion_path = os.path.join(merged_dir, emotion)\n",
        "    images = os.listdir(emotion_path)\n",
        "\n",
        "    train_images, val_images = train_test_split(images, test_size=0.1, random_state=42)\n",
        "\n",
        "    # Train\n",
        "    os.makedirs(os.path.join(train_dir, emotion), exist_ok=True)\n",
        "    for img in train_images:\n",
        "        shutil.copy(os.path.join(emotion_path, img), os.path.join(train_dir, emotion, img))\n",
        "\n",
        "    # Val\n",
        "    os.makedirs(os.path.join(val_dir, emotion), exist_ok=True)\n",
        "    for img in val_images:\n",
        "        shutil.copy(os.path.join(emotion_path, img), os.path.join(val_dir, emotion, img))\n",
        "\n",
        "print(\"Data split complete: 90% train, 10% val\")\n"
      ],
      "metadata": {
        "colab": {
          "base_uri": "https://localhost:8080/"
        },
        "id": "-Mk6WNpT8tfy",
        "outputId": "a0441678-d711-43a2-c8b9-7934573b5e21"
      },
      "execution_count": 10,
      "outputs": [
        {
          "output_type": "stream",
          "name": "stdout",
          "text": [
            "Data split complete: 90% train, 10% val\n"
          ]
        }
      ]
    },
    {
      "cell_type": "markdown",
      "source": [
        "s12"
      ],
      "metadata": {
        "id": "A8J4p_YbgEz7"
      }
    },
    {
      "cell_type": "markdown",
      "source": [
        "Preprocessing + Augmentation + Dataloader Setup (Best Version)"
      ],
      "metadata": {
        "id": "6Zalogjd8yzO"
      }
    },
    {
      "cell_type": "code",
      "source": [
        "from torchvision import transforms\n",
        "from torchvision.datasets import ImageFolder\n",
        "from torch.utils.data import DataLoader\n",
        "import torch\n",
        "\n",
        "# ImageNet normalization (for pretrained models)\n",
        "mean = [0.485, 0.456, 0.406]\n",
        "std = [0.229, 0.224, 0.225]\n",
        "\n",
        "# Training Transform: Strong augmentation\n",
        "train_transform = transforms.Compose([\n",
        "    transforms.Resize((48, 48)),                      # Resize to standard size\n",
        "    transforms.RandomCrop(44),                        # Slightly smaller crop\n",
        "    transforms.RandomHorizontalFlip(),                # Horizontal flip\n",
        "    transforms.ColorJitter(brightness=0.4, contrast=0.4), # Color jitter\n",
        "    transforms.RandomRotation(10),                    # Rotation\n",
        "    transforms.ToTensor(),                            # Convert to tensor\n",
        "    transforms.Normalize(mean, std)                   # Normalize\n",
        "])\n",
        "\n",
        "#  Test/Validation Transform: TenCrop + Normalize\n",
        "test_transform = transforms.Compose([\n",
        "    transforms.Resize(48),\n",
        "    transforms.TenCrop(44),  # 10 crops from the image\n",
        "    transforms.Lambda(lambda crops: torch.stack([\n",
        "        transforms.Normalize(mean, std)(\n",
        "            transforms.ToTensor()(crop)) for crop in crops\n",
        "    ]))\n",
        "])\n"
      ],
      "metadata": {
        "id": "2AGi1tDU8zLc"
      },
      "execution_count": 11,
      "outputs": []
    },
    {
      "cell_type": "markdown",
      "source": [
        "s13"
      ],
      "metadata": {
        "id": "9a_8v25UgGJv"
      }
    },
    {
      "cell_type": "code",
      "source": [
        "#  Dataset paths (ensure they exist)\n",
        "train_path = \"/content/FER-2013/FER-2013/train_split\"\n",
        "val_path = \"/content/FER-2013/FER-2013/val_split\"\n",
        "test_path = \"/content/FER-2013/FER-2013/test\"\n",
        "\n",
        "#  Load datasets with transformations\n",
        "train_dataset = ImageFolder(train_path, transform=train_transform)\n",
        "val_dataset = ImageFolder(val_path, transform=test_transform)\n",
        "test_dataset = ImageFolder(test_path, transform=test_transform)\n",
        "\n",
        "#  DataLoaders\n",
        "train_loader = DataLoader(train_dataset, batch_size=64, shuffle=True, num_workers=2)\n",
        "val_loader = DataLoader(val_dataset, batch_size=32, shuffle=False, num_workers=2)\n",
        "test_loader = DataLoader(test_dataset, batch_size=32, shuffle=False, num_workers=2)\n",
        "\n",
        "print(\" All dataloaders ready with strong augmentation and TenCrop.\")\n"
      ],
      "metadata": {
        "colab": {
          "base_uri": "https://localhost:8080/"
        },
        "id": "Dtwo0gc082i-",
        "outputId": "9cada452-23ba-4753-c96b-bbb0800434e7"
      },
      "execution_count": 12,
      "outputs": [
        {
          "output_type": "stream",
          "name": "stdout",
          "text": [
            " All dataloaders ready with strong augmentation and TenCrop.\n"
          ]
        }
      ]
    },
    {
      "cell_type": "markdown",
      "source": [
        "s14"
      ],
      "metadata": {
        "id": "SGpz129kgHlz"
      }
    },
    {
      "cell_type": "code",
      "source": [
        "import torch.nn as nn\n",
        "import torchvision.models as models\n",
        "import torch\n",
        "\n",
        "#  Device setup\n",
        "device = torch.device(\"cuda\" if torch.cuda.is_available() else \"cpu\")\n",
        "\n",
        "#  Load pretrained ResNet18 backbone\n",
        "resnet18 = models.resnet18(pretrained=True)\n",
        "\n",
        "#  Freeze the backbone initially\n",
        "for param in resnet18.parameters():\n",
        "    param.requires_grad = False\n",
        "\n",
        "#  Define custom head (with BatchNorm + Dropout)\n",
        "class EmotionResNet18(nn.Module):\n",
        "    def __init__(self):\n",
        "        super(EmotionResNet18, self).__init__()\n",
        "        self.backbone = nn.Sequential(*list(resnet18.children())[:-1])  # remove original FC\n",
        "        self.classifier = nn.Sequential(\n",
        "            nn.Flatten(),\n",
        "            nn.Linear(512, 256),\n",
        "            nn.BatchNorm1d(256),\n",
        "            nn.ReLU(inplace=True),\n",
        "            nn.Dropout(0.5),\n",
        "            nn.Linear(256, 7)  # 7 classes in FER-2013\n",
        "        )\n",
        "        self._init_weights()\n",
        "\n",
        "    def _init_weights(self):\n",
        "        for m in self.classifier:\n",
        "            if isinstance(m, nn.Linear):\n",
        "                nn.init.kaiming_normal_(m.weight)\n",
        "                if m.bias is not None:\n",
        "                    nn.init.constant_(m.bias, 0)\n",
        "\n",
        "    def forward(self, x):\n",
        "        x = self.backbone(x)\n",
        "        x = self.classifier(x)\n",
        "        return x\n",
        "\n",
        "# Instantiate and move to device\n",
        "model = EmotionResNet18().to(device)\n",
        "\n",
        "print(\" Model loaded and ready with frozen backbone + custom head.\")\n"
      ],
      "metadata": {
        "colab": {
          "base_uri": "https://localhost:8080/"
        },
        "id": "4zabhZkZ84Ba",
        "outputId": "2f465ec5-1de6-4d6c-c963-d273d95d998b"
      },
      "execution_count": 13,
      "outputs": [
        {
          "output_type": "stream",
          "name": "stdout",
          "text": [
            " Model loaded and ready with frozen backbone + custom head.\n"
          ]
        }
      ]
    },
    {
      "cell_type": "markdown",
      "source": [
        "s15"
      ],
      "metadata": {
        "id": "u0nlRxsegJ9C"
      }
    },
    {
      "cell_type": "code",
      "source": [
        "import matplotlib.pyplot as plt\n",
        "import numpy as np\n",
        "\n",
        "# For unnormalizing images\n",
        "mean = [0.485, 0.456, 0.406]\n",
        "std = [0.229, 0.224, 0.225]\n",
        "\n",
        "def imshow(img, title=None):\n",
        "    img = img.numpy().transpose((1, 2, 0))\n",
        "    img = std * img + mean  # unnormalize\n",
        "    img = np.clip(img, 0, 1)\n",
        "    plt.imshow(img)\n",
        "    if title:\n",
        "        plt.title(title)\n",
        "    plt.axis('off')\n",
        "\n",
        "#  Visualize a few training samples\n",
        "data_iter = iter(train_loader)\n",
        "images, labels = next(data_iter)\n",
        "\n",
        "plt.figure(figsize=(12, 6))\n",
        "for idx in range(8):\n",
        "    plt.subplot(2, 4, idx + 1)\n",
        "    imshow(images[idx].cpu(), title=f\"Label: {labels[idx].item()}\")\n",
        "plt.suptitle(\"Sample Preprocessed Training Images\")\n",
        "plt.tight_layout()\n",
        "plt.show()\n"
      ],
      "metadata": {
        "colab": {
          "base_uri": "https://localhost:8080/",
          "height": 610
        },
        "id": "GpJU-lxc85ca",
        "outputId": "82227778-dff7-40bb-a58b-505f579ecd2b"
      },
      "execution_count": 14,
      "outputs": [
        {
          "output_type": "display_data",
          "data": {
            "text/plain": [
              "<Figure size 1200x600 with 8 Axes>"
            ],
            "image/png": "[encoded data removed]"
          },
          "metadata": {}
        }
      ]
    },
    {
      "cell_type": "markdown",
      "source": [
        "s16"
      ],
      "metadata": {
        "id": "NL_R9ZMfgLqG"
      }
    },
    {
      "cell_type": "code",
      "source": [
        "import torch.optim as optim\n",
        "from torch.optim.lr_scheduler import CosineAnnealingWarmRestarts\n",
        "import torch.nn.functional as F\n",
        "\n",
        "#  Label Smoothing Loss\n",
        "class LabelSmoothingLoss(nn.Module):\n",
        "    def __init__(self, smoothing=0.1):\n",
        "        super(LabelSmoothingLoss, self).__init__()\n",
        "        self.smoothing = smoothing\n",
        "        self.confidence = 1.0 - smoothing\n",
        "\n",
        "    def forward(self, pred, target):\n",
        "        log_probs = F.log_softmax(pred, dim=-1)\n",
        "        true_dist = torch.zeros_like(log_probs)\n",
        "        true_dist.scatter_(1, target.unsqueeze(1), self.confidence)\n",
        "        true_dist += self.smoothing / pred.size(1)\n",
        "        return torch.mean(torch.sum(-true_dist * log_probs, dim=-1))\n",
        "\n",
        "#  Instantiate Loss\n",
        "criterion = LabelSmoothingLoss(smoothing=0.1)\n",
        "\n",
        "#  Optimizer & Scheduler\n",
        "optimizer = optim.AdamW(model.parameters(), lr=1e-3, weight_decay=1e-4)\n",
        "scheduler = CosineAnnealingWarmRestarts(optimizer, T_0=10, T_mult=2)\n",
        "\n",
        "#  Mixed Precision Scaler\n",
        "scaler = torch.cuda.amp.GradScaler()\n",
        "\n",
        "print(\" Training setup complete (Label Smoothing + AdamW + Cosine Annealing + AMP)\")\n"
      ],
      "metadata": {
        "colab": {
          "base_uri": "https://localhost:8080/"
        },
        "id": "uFETVD25860A",
        "outputId": "fa66ab93-835f-4796-f2c4-99ec10a44b50"
      },
      "execution_count": 15,
      "outputs": [
        {
          "output_type": "stream",
          "name": "stdout",
          "text": [
            " Training setup complete (Label Smoothing + AdamW + Cosine Annealing + AMP)\n"
          ]
        },
        {
          "output_type": "stream",
          "name": "stderr",
          "text": [
            "/tmp/ipython-input-15-427753110.py:27: FutureWarning: `torch.cuda.amp.GradScaler(args...)` is deprecated. Please use `torch.amp.GradScaler('cuda', args...)` instead.\n",
            "  scaler = torch.cuda.amp.GradScaler()\n"
          ]
        }
      ]
    },
    {
      "cell_type": "markdown",
      "source": [
        "s17"
      ],
      "metadata": {
        "id": "Fr8szbsZgNIQ"
      }
    },
    {
      "cell_type": "code",
      "source": [
        "import copy\n",
        "\n",
        "num_epochs = 40\n",
        "best_acc = 0.0\n",
        "patience = 7\n",
        "trigger = 0\n",
        "\n",
        "best_model_wts = copy.deepcopy(model.state_dict())\n",
        "\n",
        "for epoch in range(num_epochs):\n",
        "    model.train()\n",
        "    running_loss = 0.0\n",
        "    correct = 0\n",
        "    total = 0\n",
        "\n",
        "    # Training\n",
        "    for images, labels in train_loader:\n",
        "        images, labels = images.to(device), labels.to(device)\n",
        "\n",
        "        optimizer.zero_grad()\n",
        "        with torch.amp.autocast(device_type='cuda'):  # AMP\n",
        "            outputs = model(images)\n",
        "            loss = criterion(outputs, labels)\n",
        "\n",
        "        scaler.scale(loss).backward()\n",
        "        scaler.step(optimizer)\n",
        "        scaler.update()\n",
        "\n",
        "        running_loss += loss.item() * images.size(0)\n",
        "        preds = outputs.argmax(dim=1)\n",
        "        correct += (preds == labels).sum().item()\n",
        "        total += labels.size(0)\n",
        "\n",
        "    scheduler.step()\n",
        "    train_acc = correct / total\n",
        "    avg_loss = running_loss / total\n",
        "    print(f\" Epoch {epoch+1}/{num_epochs} | Train Loss: {avg_loss:.4f} | Train Acc: {train_acc:.4f}\")\n",
        "\n",
        "    # Evaluation with TenCrop\n",
        "    model.eval()\n",
        "    correct = 0\n",
        "    total = 0\n",
        "\n",
        "    with torch.no_grad():\n",
        "        for images, labels in val_loader:\n",
        "            bs, ncrops, c, h, w = images.size()\n",
        "            images = images.view(-1, c, h, w).to(device)\n",
        "            labels = labels.to(device)\n",
        "\n",
        "            with torch.amp.autocast(device_type='cuda'):\n",
        "                outputs = model(images)\n",
        "\n",
        "            outputs = outputs.view(bs, ncrops, -1).mean(1)\n",
        "            preds = outputs.argmax(1)\n",
        "            correct += (preds == labels).sum().item()\n",
        "            total += labels.size(0)\n",
        "\n",
        "    val_acc = correct / total\n",
        "    print(f\" Validation Accuracy: {val_acc:.4f}\")\n",
        "\n",
        "    # Early Stopping\n",
        "    if val_acc > best_acc:\n",
        "        best_acc = val_acc\n",
        "        best_model_wts = copy.deepcopy(model.state_dict())\n",
        "        torch.save(best_model_wts, \"best_fer_model_stage1.pth\")\n",
        "        print(\" Best model saved!\")\n",
        "        trigger = 0\n",
        "    else:\n",
        "        trigger += 1\n",
        "        print(f\" No improvement. Patience counter: {trigger}/{patience}\")\n",
        "        if trigger >= patience:\n",
        "            print(\" Early stopping triggered.\")\n",
        "            break\n"
      ],
      "metadata": {
        "colab": {
          "base_uri": "https://localhost:8080/"
        },
        "id": "tGjLEWPf88bX",
        "outputId": "d930c4d0-4ee2-42cb-a910-687b922eea66"
      },
      "execution_count": 16,
      "outputs": [
        {
          "output_type": "stream",
          "name": "stdout",
          "text": [
            " Epoch 1/40 | Train Loss: 2.0285 | Train Acc: 0.2420\n",
            " Validation Accuracy: 0.3636\n",
            " Best model saved!\n",
            " Epoch 2/40 | Train Loss: 1.8148 | Train Acc: 0.2855\n",
            " Validation Accuracy: 0.3518\n",
            " No improvement. Patience counter: 1/7\n",
            " Epoch 3/40 | Train Loss: 1.7840 | Train Acc: 0.2956\n",
            " Validation Accuracy: 0.3399\n",
            " No improvement. Patience counter: 2/7\n",
            " Epoch 4/40 | Train Loss: 1.7704 | Train Acc: 0.3060\n",
            " Validation Accuracy: 0.3493\n",
            " No improvement. Patience counter: 3/7\n",
            " Epoch 5/40 | Train Loss: 1.7624 | Train Acc: 0.3127\n",
            " Validation Accuracy: 0.3455\n",
            " No improvement. Patience counter: 4/7\n",
            " Epoch 6/40 | Train Loss: 1.7562 | Train Acc: 0.3141\n",
            " Validation Accuracy: 0.3525\n",
            " No improvement. Patience counter: 5/7\n",
            " Epoch 7/40 | Train Loss: 1.7527 | Train Acc: 0.3180\n",
            " Validation Accuracy: 0.3486\n",
            " No improvement. Patience counter: 6/7\n",
            " Epoch 8/40 | Train Loss: 1.7486 | Train Acc: 0.3187\n",
            " Validation Accuracy: 0.3657\n",
            " Best model saved!\n",
            " Epoch 9/40 | Train Loss: 1.7461 | Train Acc: 0.3239\n",
            " Validation Accuracy: 0.3553\n",
            " No improvement. Patience counter: 1/7\n",
            " Epoch 10/40 | Train Loss: 1.7463 | Train Acc: 0.3218\n",
            " Validation Accuracy: 0.3591\n",
            " No improvement. Patience counter: 2/7\n",
            " Epoch 11/40 | Train Loss: 1.7598 | Train Acc: 0.3107\n",
            " Validation Accuracy: 0.3706\n",
            " Best model saved!\n",
            " Epoch 12/40 | Train Loss: 1.7536 | Train Acc: 0.3151\n",
            " Validation Accuracy: 0.3591\n",
            " No improvement. Patience counter: 1/7\n",
            " Epoch 13/40 | Train Loss: 1.7502 | Train Acc: 0.3207\n",
            " Validation Accuracy: 0.3653\n",
            " No improvement. Patience counter: 2/7\n",
            " Epoch 14/40 | Train Loss: 1.7508 | Train Acc: 0.3225\n",
            " Validation Accuracy: 0.3605\n",
            " No improvement. Patience counter: 3/7\n",
            " Epoch 15/40 | Train Loss: 1.7451 | Train Acc: 0.3227\n",
            " Validation Accuracy: 0.3772\n",
            " Best model saved!\n",
            " Epoch 16/40 | Train Loss: 1.7455 | Train Acc: 0.3226\n",
            " Validation Accuracy: 0.3709\n",
            " No improvement. Patience counter: 1/7\n",
            " Epoch 17/40 | Train Loss: 1.7406 | Train Acc: 0.3268\n",
            " Validation Accuracy: 0.3831\n",
            " Best model saved!\n",
            " Epoch 18/40 | Train Loss: 1.7374 | Train Acc: 0.3277\n",
            " Validation Accuracy: 0.3716\n",
            " No improvement. Patience counter: 1/7\n",
            " Epoch 19/40 | Train Loss: 1.7384 | Train Acc: 0.3289\n",
            " Validation Accuracy: 0.3716\n",
            " No improvement. Patience counter: 2/7\n",
            " Epoch 20/40 | Train Loss: 1.7368 | Train Acc: 0.3290\n",
            " Validation Accuracy: 0.3720\n",
            " No improvement. Patience counter: 3/7\n",
            " Epoch 21/40 | Train Loss: 1.7304 | Train Acc: 0.3336\n",
            " Validation Accuracy: 0.3827\n",
            " No improvement. Patience counter: 4/7\n",
            " Epoch 22/40 | Train Loss: 1.7318 | Train Acc: 0.3339\n",
            " Validation Accuracy: 0.3740\n",
            " No improvement. Patience counter: 5/7\n",
            " Epoch 23/40 | Train Loss: 1.7314 | Train Acc: 0.3351\n",
            " Validation Accuracy: 0.3852\n",
            " Best model saved!\n",
            " Epoch 24/40 | Train Loss: 1.7286 | Train Acc: 0.3342\n",
            " Validation Accuracy: 0.3754\n",
            " No improvement. Patience counter: 1/7\n",
            " Epoch 25/40 | Train Loss: 1.7307 | Train Acc: 0.3322\n",
            " Validation Accuracy: 0.3793\n",
            " No improvement. Patience counter: 2/7\n",
            " Epoch 26/40 | Train Loss: 1.7313 | Train Acc: 0.3337\n",
            " Validation Accuracy: 0.3848\n",
            " No improvement. Patience counter: 3/7\n",
            " Epoch 27/40 | Train Loss: 1.7288 | Train Acc: 0.3357\n",
            " Validation Accuracy: 0.3824\n",
            " No improvement. Patience counter: 4/7\n",
            " Epoch 28/40 | Train Loss: 1.7237 | Train Acc: 0.3379\n",
            " Validation Accuracy: 0.3779\n",
            " No improvement. Patience counter: 5/7\n",
            " Epoch 29/40 | Train Loss: 1.7275 | Train Acc: 0.3375\n",
            " Validation Accuracy: 0.3779\n",
            " No improvement. Patience counter: 6/7\n",
            " Epoch 30/40 | Train Loss: 1.7271 | Train Acc: 0.3356\n",
            " Validation Accuracy: 0.3834\n",
            " No improvement. Patience counter: 7/7\n",
            " Early stopping triggered.\n"
          ]
        }
      ]
    },
    {
      "cell_type": "markdown",
      "source": [
        "s18"
      ],
      "metadata": {
        "id": "MiCMIrzSgP8r"
      }
    },
    {
      "cell_type": "code",
      "source": [
        "#  Unfreeze backbone\n",
        "for param in model.backbone.parameters():\n",
        "    param.requires_grad = True\n",
        "\n",
        "print(\"Backbone unfrozen. Starting fine-tuning phase...\")\n",
        "\n",
        "# Reset early stopping variables\n",
        "trigger = 0\n",
        "patience = 7\n",
        "num_epochs = 30\n",
        "best_ft_acc = best_acc  # continue tracking from previous best\n",
        "\n",
        "for epoch in range(num_epochs):\n",
        "    model.train()\n",
        "    running_loss = 0.0\n",
        "    correct = 0\n",
        "    total = 0\n",
        "\n",
        "    for images, labels in train_loader:\n",
        "        images, labels = images.to(device), labels.to(device)\n",
        "\n",
        "        optimizer.zero_grad()\n",
        "        with torch.amp.autocast(device_type='cuda'):\n",
        "            outputs = model(images)\n",
        "            loss = criterion(outputs, labels)\n",
        "\n",
        "        scaler.scale(loss).backward()\n",
        "        scaler.step(optimizer)\n",
        "        scaler.update()\n",
        "\n",
        "        running_loss += loss.item() * images.size(0)\n",
        "        preds = outputs.argmax(dim=1)\n",
        "        correct += (preds == labels).sum().item()\n",
        "        total += labels.size(0)\n",
        "\n",
        "    scheduler.step()\n",
        "    train_acc = correct / total\n",
        "    avg_loss = running_loss / total\n",
        "    print(f\" [FT] Epoch {epoch+1}/{num_epochs} | Train Loss: {avg_loss:.4f} | Train Acc: {train_acc:.4f}\")\n",
        "\n",
        "    # Evaluation\n",
        "    model.eval()\n",
        "    correct = 0\n",
        "    total = 0\n",
        "\n",
        "    with torch.no_grad():\n",
        "        for images, labels in val_loader:\n",
        "            bs, ncrops, c, h, w = images.size()\n",
        "            images = images.view(-1, c, h, w).to(device)\n",
        "            labels = labels.to(device)\n",
        "\n",
        "            with torch.amp.autocast(device_type='cuda'):\n",
        "                outputs = model(images)\n",
        "\n",
        "            outputs = outputs.view(bs, ncrops, -1).mean(1)\n",
        "            preds = outputs.argmax(1)\n",
        "            correct += (preds == labels).sum().item()\n",
        "            total += labels.size(0)\n",
        "\n",
        "    val_acc = correct / total\n",
        "    print(f\" [FT] Validation Accuracy: {val_acc:.4f}\")\n",
        "\n",
        "    # Early Stopping & Save\n",
        "    if val_acc > best_ft_acc:\n",
        "        best_ft_acc = val_acc\n",
        "        torch.save(model.state_dict(), \"best_fer_model_finetuned.pth\")\n",
        "        print(\" Best fine-tuned model saved!\")\n",
        "        trigger = 0\n",
        "    else:\n",
        "        trigger += 1\n",
        "        print(f\" No improvement. Patience counter: {trigger}/{patience}\")\n",
        "        if trigger >= patience:\n",
        "            print(\" Early stopping triggered (fine-tune).\")\n",
        "            break\n"
      ],
      "metadata": {
        "id": "Hl-npoem8-Jg",
        "colab": {
          "base_uri": "https://localhost:8080/"
        },
        "outputId": "1b78dbcb-ae63-4bc7-e699-813d9ffb7533"
      },
      "execution_count": 17,
      "outputs": [
        {
          "output_type": "stream",
          "name": "stdout",
          "text": [
            "Backbone unfrozen. Starting fine-tuning phase...\n",
            " [FT] Epoch 1/30 | Train Loss: 1.5289 | Train Acc: 0.4596\n",
            " [FT] Validation Accuracy: 0.4809\n",
            " Best fine-tuned model saved!\n",
            " [FT] Epoch 2/30 | Train Loss: 1.4272 | Train Acc: 0.5168\n",
            " [FT] Validation Accuracy: 0.5692\n",
            " Best fine-tuned model saved!\n",
            " [FT] Epoch 3/30 | Train Loss: 1.3853 | Train Acc: 0.5409\n",
            " [FT] Validation Accuracy: 0.5797\n",
            " Best fine-tuned model saved!\n",
            " [FT] Epoch 4/30 | Train Loss: 1.3567 | Train Acc: 0.5538\n",
            " [FT] Validation Accuracy: 0.5912\n",
            " Best fine-tuned model saved!\n",
            " [FT] Epoch 5/30 | Train Loss: 1.3295 | Train Acc: 0.5713\n",
            " [FT] Validation Accuracy: 0.5901\n",
            " No improvement. Patience counter: 1/7\n",
            " [FT] Epoch 6/30 | Train Loss: 1.3081 | Train Acc: 0.5786\n",
            " [FT] Validation Accuracy: 0.5953\n",
            " Best fine-tuned model saved!\n",
            " [FT] Epoch 7/30 | Train Loss: 1.2903 | Train Acc: 0.5905\n",
            " [FT] Validation Accuracy: 0.6162\n",
            " Best fine-tuned model saved!\n",
            " [FT] Epoch 8/30 | Train Loss: 1.2756 | Train Acc: 0.5981\n",
            " [FT] Validation Accuracy: 0.5985\n",
            " No improvement. Patience counter: 1/7\n",
            " [FT] Epoch 9/30 | Train Loss: 1.2547 | Train Acc: 0.6108\n",
            " [FT] Validation Accuracy: 0.6319\n",
            " Best fine-tuned model saved!\n",
            " [FT] Epoch 10/30 | Train Loss: 1.2394 | Train Acc: 0.6120\n",
            " [FT] Validation Accuracy: 0.6155\n",
            " No improvement. Patience counter: 1/7\n",
            " [FT] Epoch 11/30 | Train Loss: 1.2284 | Train Acc: 0.6221\n",
            " [FT] Validation Accuracy: 0.6193\n",
            " No improvement. Patience counter: 2/7\n",
            " [FT] Epoch 12/30 | Train Loss: 1.2056 | Train Acc: 0.6302\n",
            " [FT] Validation Accuracy: 0.6308\n",
            " No improvement. Patience counter: 3/7\n",
            " [FT] Epoch 13/30 | Train Loss: 1.1939 | Train Acc: 0.6402\n",
            " [FT] Validation Accuracy: 0.6392\n",
            " Best fine-tuned model saved!\n",
            " [FT] Epoch 14/30 | Train Loss: 1.1741 | Train Acc: 0.6508\n",
            " [FT] Validation Accuracy: 0.6378\n",
            " No improvement. Patience counter: 1/7\n",
            " [FT] Epoch 15/30 | Train Loss: 1.1528 | Train Acc: 0.6605\n",
            " [FT] Validation Accuracy: 0.6465\n",
            " Best fine-tuned model saved!\n",
            " [FT] Epoch 16/30 | Train Loss: 1.1425 | Train Acc: 0.6667\n",
            " [FT] Validation Accuracy: 0.6500\n",
            " Best fine-tuned model saved!\n",
            " [FT] Epoch 17/30 | Train Loss: 1.1237 | Train Acc: 0.6790\n",
            " [FT] Validation Accuracy: 0.6583\n",
            " Best fine-tuned model saved!\n",
            " [FT] Epoch 18/30 | Train Loss: 1.1047 | Train Acc: 0.6863\n",
            " [FT] Validation Accuracy: 0.6604\n",
            " Best fine-tuned model saved!\n",
            " [FT] Epoch 19/30 | Train Loss: 1.0848 | Train Acc: 0.6979\n",
            " [FT] Validation Accuracy: 0.6642\n",
            " Best fine-tuned model saved!\n",
            " [FT] Epoch 20/30 | Train Loss: 1.0722 | Train Acc: 0.7073\n",
            " [FT] Validation Accuracy: 0.6698\n",
            " Best fine-tuned model saved!\n",
            " [FT] Epoch 21/30 | Train Loss: 1.0495 | Train Acc: 0.7159\n",
            " [FT] Validation Accuracy: 0.6642\n",
            " No improvement. Patience counter: 1/7\n",
            " [FT] Epoch 22/30 | Train Loss: 1.0277 | Train Acc: 0.7262\n",
            " [FT] Validation Accuracy: 0.6649\n",
            " No improvement. Patience counter: 2/7\n",
            " [FT] Epoch 23/30 | Train Loss: 1.0120 | Train Acc: 0.7354\n",
            " [FT] Validation Accuracy: 0.6740\n",
            " Best fine-tuned model saved!\n",
            " [FT] Epoch 24/30 | Train Loss: 0.9909 | Train Acc: 0.7449\n",
            " [FT] Validation Accuracy: 0.6691\n",
            " No improvement. Patience counter: 1/7\n",
            " [FT] Epoch 25/30 | Train Loss: 0.9718 | Train Acc: 0.7573\n",
            " [FT] Validation Accuracy: 0.6757\n",
            " Best fine-tuned model saved!\n",
            " [FT] Epoch 26/30 | Train Loss: 0.9497 | Train Acc: 0.7683\n",
            " [FT] Validation Accuracy: 0.6792\n",
            " Best fine-tuned model saved!\n",
            " [FT] Epoch 27/30 | Train Loss: 0.9358 | Train Acc: 0.7762\n",
            " [FT] Validation Accuracy: 0.6722\n",
            " No improvement. Patience counter: 1/7\n",
            " [FT] Epoch 28/30 | Train Loss: 0.9178 | Train Acc: 0.7844\n",
            " [FT] Validation Accuracy: 0.6781\n",
            " No improvement. Patience counter: 2/7\n",
            " [FT] Epoch 29/30 | Train Loss: 0.8980 | Train Acc: 0.7919\n",
            " [FT] Validation Accuracy: 0.6830\n",
            " Best fine-tuned model saved!\n",
            " [FT] Epoch 30/30 | Train Loss: 0.8844 | Train Acc: 0.8011\n",
            " [FT] Validation Accuracy: 0.6820\n",
            " No improvement. Patience counter: 1/7\n"
          ]
        }
      ]
    },
    {
      "cell_type": "markdown",
      "source": [
        "s19"
      ],
      "metadata": {
        "id": "fgCqqGwkgRs3"
      }
    },
    {
      "cell_type": "code",
      "source": [
        "import torch\n",
        "import torch.nn as nn\n",
        "import torchvision.models as models\n",
        "\n",
        "class EmotionResNet34(nn.Module):\n",
        "    def __init__(self, num_classes=7, dropout=0.5):\n",
        "        super(EmotionResNet34, self).__init__()\n",
        "\n",
        "        # Load pretrained ResNet34 backbone\n",
        "        self.backbone = models.resnet34(weights=models.ResNet34_Weights.DEFAULT)\n",
        "        in_features = self.backbone.fc.in_features\n",
        "\n",
        "        # Remove the original fully connected head\n",
        "        self.backbone.fc = nn.Identity()\n",
        "\n",
        "        # Custom classification head\n",
        "        self.classifier = nn.Sequential(\n",
        "            nn.BatchNorm1d(in_features),\n",
        "            nn.Dropout(dropout),\n",
        "            nn.Linear(in_features, 256),\n",
        "            nn.ReLU(inplace=True),\n",
        "            nn.BatchNorm1d(256),\n",
        "            nn.Dropout(dropout),\n",
        "            nn.Linear(256, num_classes)\n",
        "        )\n",
        "\n",
        "        self._initialize_weights()\n",
        "\n",
        "    def forward(self, x):\n",
        "        features = self.backbone(x)       # Extracted features from ResNet34\n",
        "        output = self.classifier(features)\n",
        "        return output\n",
        "\n",
        "    def _initialize_weights(self):\n",
        "        for m in self.classifier:\n",
        "            if isinstance(m, nn.Linear):\n",
        "                nn.init.kaiming_normal_(m.weight)\n",
        "                nn.init.constant_(m.bias, 0)"
      ],
      "metadata": {
        "id": "AE9P-Dsu9AFe"
      },
      "execution_count": 18,
      "outputs": []
    },
    {
      "cell_type": "markdown",
      "source": [
        "s20"
      ],
      "metadata": {
        "id": "M39_HBGWgUCy"
      }
    },
    {
      "cell_type": "markdown",
      "source": [
        "Test-Time Augmentation (TTA) Evaluation"
      ],
      "metadata": {
        "id": "kxGRijY6XfD5"
      }
    },
    {
      "cell_type": "code",
      "source": [
        "# Load best model\n",
        "model.load_state_dict(torch.load(\"best_fer_model_finetuned.pth\"))\n",
        "model.eval()\n",
        "\n",
        "correct = 0\n",
        "total = 0\n",
        "\n",
        "with torch.no_grad():\n",
        "    for images, labels in test_loader:\n",
        "        bs, ncrops, c, h, w = images.size()\n",
        "        images = images.view(-1, c, h, w).to(device)\n",
        "        labels = labels.to(device)\n",
        "\n",
        "        with torch.amp.autocast(device_type='cuda'):\n",
        "            outputs = model(images)\n",
        "        outputs = outputs.view(bs, ncrops, -1).mean(1)\n",
        "        preds = outputs.argmax(1)\n",
        "\n",
        "        correct += (preds == labels).sum().item()\n",
        "        total += labels.size(0)\n",
        "\n",
        "test_acc = correct / total\n",
        "print(f\"Final Test Accuracy with TTA: {test_acc:.4f}\")"
      ],
      "metadata": {
        "id": "IYaCrhpoXfha",
        "colab": {
          "base_uri": "https://localhost:8080/"
        },
        "outputId": "858e1b56-613f-4dd8-95d3-e9efbad5f7b9"
      },
      "execution_count": 19,
      "outputs": [
        {
          "output_type": "stream",
          "name": "stdout",
          "text": [
            "Final Test Accuracy with TTA: 0.6839\n"
          ]
        }
      ]
    },
    {
      "cell_type": "markdown",
      "source": [
        "**Achieved  68.39% Final Test Accuracy with TTA on FER-2013 — that's higher than the baseline paper (~66%) and a very strong result on this challenging dataset.**\n",
        "\n",
        "\n",
        "successfully built a:\n",
        "\n",
        " 1. Modern, robust facial expression recognition pipeline\n",
        "\n",
        " 2. ResNet34 + label smoothing + AMP + cosine LR + CLAHE + TenCrop + TTA"
      ],
      "metadata": {
        "id": "0TPOuaK7Yak8"
      }
    },
    {
      "cell_type": "markdown",
      "source": [
        "Enhanced TTA + Softmax Averaging"
      ],
      "metadata": {
        "id": "FwWkko1rnaG_"
      }
    },
    {
      "cell_type": "code",
      "source": [
        "import torch.nn.functional as F\n",
        "\n",
        "# Load best model\n",
        "model.load_state_dict(torch.load(\"best_fer_model_finetuned.pth\"))\n",
        "model.eval()\n",
        "\n",
        "correct = 0\n",
        "total = 0\n",
        "\n",
        "all_preds = []\n",
        "all_labels = []\n",
        "\n",
        "with torch.no_grad():\n",
        "    for images, labels in test_loader:\n",
        "        bs, ncrops, c, h, w = images.size()\n",
        "        images = images.view(-1, c, h, w).to(device)\n",
        "        labels = labels.to(device)\n",
        "\n",
        "        with torch.amp.autocast(device_type='cuda'):\n",
        "            outputs = model(images)\n",
        "\n",
        "        # Average predictions from 10 crops\n",
        "        outputs = outputs.view(bs, ncrops, -1).mean(1)\n",
        "\n",
        "        # Use softmax for stable probability outputs\n",
        "        probs = F.softmax(outputs, dim=1)\n",
        "        preds = probs.argmax(1)\n",
        "\n",
        "        correct += (preds == labels).sum().item()\n",
        "        total += labels.size(0)\n",
        "\n",
        "test_acc = correct / total\n",
        "print(f\"Final Test Accuracy with Enhanced TTA: {test_acc:.4f}\")\n"
      ],
      "metadata": {
        "colab": {
          "base_uri": "https://localhost:8080/"
        },
        "id": "uk5gy8ejm0V_",
        "outputId": "f2f77613-242f-4bca-de8a-dac43a969dfc"
      },
      "execution_count": 20,
      "outputs": [
        {
          "output_type": "stream",
          "name": "stdout",
          "text": [
            "Final Test Accuracy with Enhanced TTA: 0.6839\n"
          ]
        }
      ]
    },
    {
      "cell_type": "markdown",
      "source": [
        "TenCrop + Horizontal Flip TTA"
      ],
      "metadata": {
        "id": "4R-OwsyYmz3T"
      }
    },
    {
      "cell_type": "markdown",
      "source": [
        "MC Dropout TTA"
      ],
      "metadata": {
        "id": "VRMDH3Snnm4q"
      }
    },
    {
      "cell_type": "markdown",
      "source": [
        " ResNet18 + ResNet34 Soft Voting Ensemble"
      ],
      "metadata": {
        "id": "YToB7KHWny4m"
      }
    },
    {
      "cell_type": "code",
      "source": [
        "import torch.nn as nn\n",
        "import torchvision.models as models\n",
        "\n",
        "class EmotionResNet34(nn.Module):\n",
        "    def __init__(self):\n",
        "        super(EmotionResNet34, self).__init__()\n",
        "        base_model = models.resnet34(pretrained=False)\n",
        "\n",
        "        self.backbone = nn.Sequential(*list(base_model.children())[:-2])  # until last conv block\n",
        "        self.pool = nn.AdaptiveAvgPool2d((1, 1))\n",
        "\n",
        "        self.classifier = nn.Sequential(\n",
        "            nn.Flatten(),\n",
        "            nn.Linear(512, 256),\n",
        "            nn.ReLU(),\n",
        "            nn.BatchNorm1d(256),\n",
        "            nn.Dropout(0.5),\n",
        "            nn.Linear(256, 128),\n",
        "            nn.ReLU(),\n",
        "            nn.BatchNorm1d(128),\n",
        "            nn.Dropout(0.5),\n",
        "            nn.Linear(128, 7)  # FER-2013 has 7 emotion classes\n",
        "        )\n",
        "\n",
        "    def forward(self, x):\n",
        "        x = self.backbone(x)\n",
        "        x = self.pool(x)\n",
        "        x = self.classifier(x)\n",
        "        return x\n"
      ],
      "metadata": {
        "id": "80iIeQzDo4Ui"
      },
      "execution_count": 23,
      "outputs": []
    },
    {
      "cell_type": "code",
      "source": [
        "# Load models\n",
        "model18 = EmotionResNet18().to(device)\n",
        "model34 = EmotionResNet34().to(device)\n",
        "\n",
        "# Load best weights\n",
        "model18.load_state_dict(torch.load(\"best_fer_model_stage1.pth\", map_location=device))\n",
        "\n",
        "model18.eval()\n",
        "model34.eval()\n"
      ],
      "metadata": {
        "colab": {
          "base_uri": "https://localhost:8080/"
        },
        "id": "XO6AuLBAp35b",
        "outputId": "2e0fc71d-ed5e-4eaa-86f7-c4d87e196560"
      },
      "execution_count": 24,
      "outputs": [
        {
          "output_type": "stream",
          "name": "stderr",
          "text": [
            "/usr/local/lib/python3.11/dist-packages/torchvision/models/_utils.py:223: UserWarning: Arguments other than a weight enum or `None` for 'weights' are deprecated since 0.13 and may be removed in the future. The current behavior is equivalent to passing `weights=None`.\n",
            "  warnings.warn(msg)\n"
          ]
        },
        {
          "output_type": "execute_result",
          "data": {
            "text/plain": [
              "EmotionResNet34(\n",
              "  (backbone): Sequential(\n",
              "    (0): Conv2d(3, 64, kernel_size=(7, 7), stride=(2, 2), padding=(3, 3), bias=False)\n",
              "    (1): BatchNorm2d(64, eps=1e-05, momentum=0.1, affine=True, track_running_stats=True)\n",
              "    (2): ReLU(inplace=True)\n",
              "    (3): MaxPool2d(kernel_size=3, stride=2, padding=1, dilation=1, ceil_mode=False)\n",
              "    (4): Sequential(\n",
              "      (0): BasicBlock(\n",
              "        (conv1): Conv2d(64, 64, kernel_size=(3, 3), stride=(1, 1), padding=(1, 1), bias=False)\n",
              "        (bn1): BatchNorm2d(64, eps=1e-05, momentum=0.1, affine=True, track_running_stats=True)\n",
              "        (relu): ReLU(inplace=True)\n",
              "        (conv2): Conv2d(64, 64, kernel_size=(3, 3), stride=(1, 1), padding=(1, 1), bias=False)\n",
              "        (bn2): BatchNorm2d(64, eps=1e-05, momentum=0.1, affine=True, track_running_stats=True)\n",
              "      )\n",
              "      (1): BasicBlock(\n",
              "        (conv1): Conv2d(64, 64, kernel_size=(3, 3), stride=(1, 1), padding=(1, 1), bias=False)\n",
              "        (bn1): BatchNorm2d(64, eps=1e-05, momentum=0.1, affine=True, track_running_stats=True)\n",
              "        (relu): ReLU(inplace=True)\n",
              "        (conv2): Conv2d(64, 64, kernel_size=(3, 3), stride=(1, 1), padding=(1, 1), bias=False)\n",
              "        (bn2): BatchNorm2d(64, eps=1e-05, momentum=0.1, affine=True, track_running_stats=True)\n",
              "      )\n",
              "      (2): BasicBlock(\n",
              "        (conv1): Conv2d(64, 64, kernel_size=(3, 3), stride=(1, 1), padding=(1, 1), bias=False)\n",
              "        (bn1): BatchNorm2d(64, eps=1e-05, momentum=0.1, affine=True, track_running_stats=True)\n",
              "        (relu): ReLU(inplace=True)\n",
              "        (conv2): Conv2d(64, 64, kernel_size=(3, 3), stride=(1, 1), padding=(1, 1), bias=False)\n",
              "        (bn2): BatchNorm2d(64, eps=1e-05, momentum=0.1, affine=True, track_running_stats=True)\n",
              "      )\n",
              "    )\n",
              "    (5): Sequential(\n",
              "      (0): BasicBlock(\n",
              "        (conv1): Conv2d(64, 128, kernel_size=(3, 3), stride=(2, 2), padding=(1, 1), bias=False)\n",
              "        (bn1): BatchNorm2d(128, eps=1e-05, momentum=0.1, affine=True, track_running_stats=True)\n",
              "        (relu): ReLU(inplace=True)\n",
              "        (conv2): Conv2d(128, 128, kernel_size=(3, 3), stride=(1, 1), padding=(1, 1), bias=False)\n",
              "        (bn2): BatchNorm2d(128, eps=1e-05, momentum=0.1, affine=True, track_running_stats=True)\n",
              "        (downsample): Sequential(\n",
              "          (0): Conv2d(64, 128, kernel_size=(1, 1), stride=(2, 2), bias=False)\n",
              "          (1): BatchNorm2d(128, eps=1e-05, momentum=0.1, affine=True, track_running_stats=True)\n",
              "        )\n",
              "      )\n",
              "      (1): BasicBlock(\n",
              "        (conv1): Conv2d(128, 128, kernel_size=(3, 3), stride=(1, 1), padding=(1, 1), bias=False)\n",
              "        (bn1): BatchNorm2d(128, eps=1e-05, momentum=0.1, affine=True, track_running_stats=True)\n",
              "        (relu): ReLU(inplace=True)\n",
              "        (conv2): Conv2d(128, 128, kernel_size=(3, 3), stride=(1, 1), padding=(1, 1), bias=False)\n",
              "        (bn2): BatchNorm2d(128, eps=1e-05, momentum=0.1, affine=True, track_running_stats=True)\n",
              "      )\n",
              "      (2): BasicBlock(\n",
              "        (conv1): Conv2d(128, 128, kernel_size=(3, 3), stride=(1, 1), padding=(1, 1), bias=False)\n",
              "        (bn1): BatchNorm2d(128, eps=1e-05, momentum=0.1, affine=True, track_running_stats=True)\n",
              "        (relu): ReLU(inplace=True)\n",
              "        (conv2): Conv2d(128, 128, kernel_size=(3, 3), stride=(1, 1), padding=(1, 1), bias=False)\n",
              "        (bn2): BatchNorm2d(128, eps=1e-05, momentum=0.1, affine=True, track_running_stats=True)\n",
              "      )\n",
              "      (3): BasicBlock(\n",
              "        (conv1): Conv2d(128, 128, kernel_size=(3, 3), stride=(1, 1), padding=(1, 1), bias=False)\n",
              "        (bn1): BatchNorm2d(128, eps=1e-05, momentum=0.1, affine=True, track_running_stats=True)\n",
              "        (relu): ReLU(inplace=True)\n",
              "        (conv2): Conv2d(128, 128, kernel_size=(3, 3), stride=(1, 1), padding=(1, 1), bias=False)\n",
              "        (bn2): BatchNorm2d(128, eps=1e-05, momentum=0.1, affine=True, track_running_stats=True)\n",
              "      )\n",
              "    )\n",
              "    (6): Sequential(\n",
              "      (0): BasicBlock(\n",
              "        (conv1): Conv2d(128, 256, kernel_size=(3, 3), stride=(2, 2), padding=(1, 1), bias=False)\n",
              "        (bn1): BatchNorm2d(256, eps=1e-05, momentum=0.1, affine=True, track_running_stats=True)\n",
              "        (relu): ReLU(inplace=True)\n",
              "        (conv2): Conv2d(256, 256, kernel_size=(3, 3), stride=(1, 1), padding=(1, 1), bias=False)\n",
              "        (bn2): BatchNorm2d(256, eps=1e-05, momentum=0.1, affine=True, track_running_stats=True)\n",
              "        (downsample): Sequential(\n",
              "          (0): Conv2d(128, 256, kernel_size=(1, 1), stride=(2, 2), bias=False)\n",
              "          (1): BatchNorm2d(256, eps=1e-05, momentum=0.1, affine=True, track_running_stats=True)\n",
              "        )\n",
              "      )\n",
              "      (1): BasicBlock(\n",
              "        (conv1): Conv2d(256, 256, kernel_size=(3, 3), stride=(1, 1), padding=(1, 1), bias=False)\n",
              "        (bn1): BatchNorm2d(256, eps=1e-05, momentum=0.1, affine=True, track_running_stats=True)\n",
              "        (relu): ReLU(inplace=True)\n",
              "        (conv2): Conv2d(256, 256, kernel_size=(3, 3), stride=(1, 1), padding=(1, 1), bias=False)\n",
              "        (bn2): BatchNorm2d(256, eps=1e-05, momentum=0.1, affine=True, track_running_stats=True)\n",
              "      )\n",
              "      (2): BasicBlock(\n",
              "        (conv1): Conv2d(256, 256, kernel_size=(3, 3), stride=(1, 1), padding=(1, 1), bias=False)\n",
              "        (bn1): BatchNorm2d(256, eps=1e-05, momentum=0.1, affine=True, track_running_stats=True)\n",
              "        (relu): ReLU(inplace=True)\n",
              "        (conv2): Conv2d(256, 256, kernel_size=(3, 3), stride=(1, 1), padding=(1, 1), bias=False)\n",
              "        (bn2): BatchNorm2d(256, eps=1e-05, momentum=0.1, affine=True, track_running_stats=True)\n",
              "      )\n",
              "      (3): BasicBlock(\n",
              "        (conv1): Conv2d(256, 256, kernel_size=(3, 3), stride=(1, 1), padding=(1, 1), bias=False)\n",
              "        (bn1): BatchNorm2d(256, eps=1e-05, momentum=0.1, affine=True, track_running_stats=True)\n",
              "        (relu): ReLU(inplace=True)\n",
              "        (conv2): Conv2d(256, 256, kernel_size=(3, 3), stride=(1, 1), padding=(1, 1), bias=False)\n",
              "        (bn2): BatchNorm2d(256, eps=1e-05, momentum=0.1, affine=True, track_running_stats=True)\n",
              "      )\n",
              "      (4): BasicBlock(\n",
              "        (conv1): Conv2d(256, 256, kernel_size=(3, 3), stride=(1, 1), padding=(1, 1), bias=False)\n",
              "        (bn1): BatchNorm2d(256, eps=1e-05, momentum=0.1, affine=True, track_running_stats=True)\n",
              "        (relu): ReLU(inplace=True)\n",
              "        (conv2): Conv2d(256, 256, kernel_size=(3, 3), stride=(1, 1), padding=(1, 1), bias=False)\n",
              "        (bn2): BatchNorm2d(256, eps=1e-05, momentum=0.1, affine=True, track_running_stats=True)\n",
              "      )\n",
              "      (5): BasicBlock(\n",
              "        (conv1): Conv2d(256, 256, kernel_size=(3, 3), stride=(1, 1), padding=(1, 1), bias=False)\n",
              "        (bn1): BatchNorm2d(256, eps=1e-05, momentum=0.1, affine=True, track_running_stats=True)\n",
              "        (relu): ReLU(inplace=True)\n",
              "        (conv2): Conv2d(256, 256, kernel_size=(3, 3), stride=(1, 1), padding=(1, 1), bias=False)\n",
              "        (bn2): BatchNorm2d(256, eps=1e-05, momentum=0.1, affine=True, track_running_stats=True)\n",
              "      )\n",
              "    )\n",
              "    (7): Sequential(\n",
              "      (0): BasicBlock(\n",
              "        (conv1): Conv2d(256, 512, kernel_size=(3, 3), stride=(2, 2), padding=(1, 1), bias=False)\n",
              "        (bn1): BatchNorm2d(512, eps=1e-05, momentum=0.1, affine=True, track_running_stats=True)\n",
              "        (relu): ReLU(inplace=True)\n",
              "        (conv2): Conv2d(512, 512, kernel_size=(3, 3), stride=(1, 1), padding=(1, 1), bias=False)\n",
              "        (bn2): BatchNorm2d(512, eps=1e-05, momentum=0.1, affine=True, track_running_stats=True)\n",
              "        (downsample): Sequential(\n",
              "          (0): Conv2d(256, 512, kernel_size=(1, 1), stride=(2, 2), bias=False)\n",
              "          (1): BatchNorm2d(512, eps=1e-05, momentum=0.1, affine=True, track_running_stats=True)\n",
              "        )\n",
              "      )\n",
              "      (1): BasicBlock(\n",
              "        (conv1): Conv2d(512, 512, kernel_size=(3, 3), stride=(1, 1), padding=(1, 1), bias=False)\n",
              "        (bn1): BatchNorm2d(512, eps=1e-05, momentum=0.1, affine=True, track_running_stats=True)\n",
              "        (relu): ReLU(inplace=True)\n",
              "        (conv2): Conv2d(512, 512, kernel_size=(3, 3), stride=(1, 1), padding=(1, 1), bias=False)\n",
              "        (bn2): BatchNorm2d(512, eps=1e-05, momentum=0.1, affine=True, track_running_stats=True)\n",
              "      )\n",
              "      (2): BasicBlock(\n",
              "        (conv1): Conv2d(512, 512, kernel_size=(3, 3), stride=(1, 1), padding=(1, 1), bias=False)\n",
              "        (bn1): BatchNorm2d(512, eps=1e-05, momentum=0.1, affine=True, track_running_stats=True)\n",
              "        (relu): ReLU(inplace=True)\n",
              "        (conv2): Conv2d(512, 512, kernel_size=(3, 3), stride=(1, 1), padding=(1, 1), bias=False)\n",
              "        (bn2): BatchNorm2d(512, eps=1e-05, momentum=0.1, affine=True, track_running_stats=True)\n",
              "      )\n",
              "    )\n",
              "  )\n",
              "  (pool): AdaptiveAvgPool2d(output_size=(1, 1))\n",
              "  (classifier): Sequential(\n",
              "    (0): Flatten(start_dim=1, end_dim=-1)\n",
              "    (1): Linear(in_features=512, out_features=256, bias=True)\n",
              "    (2): ReLU()\n",
              "    (3): BatchNorm1d(256, eps=1e-05, momentum=0.1, affine=True, track_running_stats=True)\n",
              "    (4): Dropout(p=0.5, inplace=False)\n",
              "    (5): Linear(in_features=256, out_features=128, bias=True)\n",
              "    (6): ReLU()\n",
              "    (7): BatchNorm1d(128, eps=1e-05, momentum=0.1, affine=True, track_running_stats=True)\n",
              "    (8): Dropout(p=0.5, inplace=False)\n",
              "    (9): Linear(in_features=128, out_features=7, bias=True)\n",
              "  )\n",
              ")"
            ]
          },
          "metadata": {},
          "execution_count": 24
        }
      ]
    },
    {
      "cell_type": "code",
      "source": [
        "import torch.nn.functional as F\n",
        "import torchvision.transforms.functional as TF\n",
        "\n",
        "correct = 0\n",
        "total = 0\n",
        "\n",
        "model18.eval()\n",
        "model34.eval()\n",
        "\n",
        "with torch.no_grad():\n",
        "    for images, labels in test_loader:\n",
        "        bs, ncrops, c, h, w = images.size()\n",
        "        images = images.view(-1, c, h, w).to(device)\n",
        "        labels = labels.to(device)\n",
        "\n",
        "        with torch.amp.autocast(device_type='cuda'):\n",
        "            outputs18 = model18(images)\n",
        "            outputs34 = model34(images)\n",
        "\n",
        "        outputs18 = outputs18.view(bs, ncrops, -1).mean(1)\n",
        "        outputs34 = outputs34.view(bs, ncrops, -1).mean(1)\n",
        "\n",
        "        probs18 = F.softmax(outputs18, dim=1)\n",
        "        probs34 = F.softmax(outputs34, dim=1)\n",
        "\n",
        "        ensemble_probs = (probs18 + probs34) / 2\n",
        "        preds = ensemble_probs.argmax(1)\n",
        "\n",
        "        correct += (preds == labels).sum().item()\n",
        "        total += labels.size(0)\n",
        "\n",
        "print(f\"Final Test Accuracy with ResNet18 + ResNet34 Ensemble TTA: {correct/total:.4f}\")\n"
      ],
      "metadata": {
        "colab": {
          "base_uri": "https://localhost:8080/"
        },
        "id": "YYK8FrJOn0T1",
        "outputId": "180fa596-9533-4ef0-92b6-1b20ce4166ee"
      },
      "execution_count": 25,
      "outputs": [
        {
          "output_type": "stream",
          "name": "stdout",
          "text": [
            "Final Test Accuracy with ResNet18 + ResNet34 Ensemble TTA: 0.2083\n"
          ]
        }
      ]
    },
    {
      "cell_type": "markdown",
      "source": [
        "s21"
      ],
      "metadata": {
        "id": "vm0275FygW93"
      }
    },
    {
      "cell_type": "markdown",
      "source": [
        "Confusion Matrix & Classification Report"
      ],
      "metadata": {
        "id": "OeLlljeDXrNA"
      }
    },
    {
      "cell_type": "code",
      "source": [
        "from sklearn.metrics import confusion_matrix, classification_report\n",
        "import seaborn as sns\n",
        "import matplotlib.pyplot as plt\n",
        "\n",
        "all_preds = []\n",
        "all_labels = []\n",
        "\n",
        "model.eval()\n",
        "with torch.no_grad():\n",
        "    for images, labels in test_loader:\n",
        "        bs, ncrops, c, h, w = images.size()\n",
        "        images = images.view(-1, c, h, w).to(device)\n",
        "        labels = labels.to(device)\n",
        "\n",
        "        with torch.amp.autocast(device_type='cuda'):\n",
        "            outputs = model(images)\n",
        "\n",
        "        outputs = outputs.view(bs, ncrops, -1).mean(1)\n",
        "        preds = outputs.argmax(1)\n",
        "\n",
        "        all_preds.extend(preds.cpu().numpy())\n",
        "        all_labels.extend(labels.cpu().numpy())\n",
        "\n",
        "# Report\n",
        "print(classification_report(all_labels, all_preds, target_names=[\n",
        "    \"Angry\", \"Disgust\", \"Fear\", \"Happy\", \"Sad\", \"Surprise\", \"Neutral\"\n",
        "]))\n",
        "\n",
        "# Confusion Matrix\n",
        "cm = confusion_matrix(all_labels, all_preds)\n",
        "plt.figure(figsize=(8, 6))\n",
        "sns.heatmap(cm, annot=True, fmt=\"d\", cmap=\"Blues\", xticklabels=[\n",
        "    \"Angry\", \"Disgust\", \"Fear\", \"Happy\", \"Sad\", \"Surprise\", \"Neutral\"\n",
        "], yticklabels=[\n",
        "    \"Angry\", \"Disgust\", \"Fear\", \"Happy\", \"Sad\", \"Surprise\", \"Neutral\"\n",
        "])\n",
        "plt.title(\"Confusion Matrix\")\n",
        "plt.ylabel(\"True Label\")\n",
        "plt.xlabel(\"Predicted Label\")\n",
        "plt.show()\n"
      ],
      "metadata": {
        "id": "11TLB5_OXrsV",
        "colab": {
          "base_uri": "https://localhost:8080/",
          "height": 931
        },
        "outputId": "095ab1b3-0c35-4383-c88f-4ee1ec04220e"
      },
      "execution_count": 26,
      "outputs": [
        {
          "output_type": "stream",
          "name": "stderr",
          "text": [
            "/usr/local/lib/python3.11/dist-packages/sklearn/metrics/_classification.py:1565: UndefinedMetricWarning: Precision is ill-defined and being set to 0.0 in labels with no predicted samples. Use `zero_division` parameter to control this behavior.\n",
            "  _warn_prf(average, modifier, f\"{metric.capitalize()} is\", len(result))\n",
            "/usr/local/lib/python3.11/dist-packages/sklearn/metrics/_classification.py:1565: UndefinedMetricWarning: Precision is ill-defined and being set to 0.0 in labels with no predicted samples. Use `zero_division` parameter to control this behavior.\n",
            "  _warn_prf(average, modifier, f\"{metric.capitalize()} is\", len(result))\n",
            "/usr/local/lib/python3.11/dist-packages/sklearn/metrics/_classification.py:1565: UndefinedMetricWarning: Precision is ill-defined and being set to 0.0 in labels with no predicted samples. Use `zero_division` parameter to control this behavior.\n",
            "  _warn_prf(average, modifier, f\"{metric.capitalize()} is\", len(result))\n"
          ]
        },
        {
          "output_type": "stream",
          "name": "stdout",
          "text": [
            "              precision    recall  f1-score   support\n",
            "\n",
            "       Angry       0.28      0.03      0.05       958\n",
            "     Disgust       0.00      0.00      0.00       111\n",
            "        Fear       0.23      0.05      0.08      1024\n",
            "       Happy       0.33      0.89      0.48      1774\n",
            "         Sad       0.34      0.26      0.29      1233\n",
            "    Surprise       0.34      0.28      0.30      1247\n",
            "     Neutral       0.89      0.08      0.15       831\n",
            "\n",
            "    accuracy                           0.33      7178\n",
            "   macro avg       0.34      0.23      0.19      7178\n",
            "weighted avg       0.37      0.33      0.26      7178\n",
            "\n"
          ]
        },
        {
          "output_type": "display_data",
          "data": {
            "text/plain": [
              "<Figure size 800x600 with 2 Axes>"
            ],
            "image/png": "[encoded data removed]"
          },
          "metadata": {}
        }
      ]
    }
  ],
  "metadata": {
    "colab": {
      "provenance": [],
      "gpuType": "T4",
      "include_colab_link": true
    },
    "kernelspec": {
      "display_name": "Python 3",
      "name": "python3"
    },
    "accelerator": "GPU"
  },
  "nbformat": 4,
  "nbformat_minor": 0
}