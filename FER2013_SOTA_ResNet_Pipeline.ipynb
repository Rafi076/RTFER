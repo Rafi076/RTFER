{
  "cells": [
    {
      "cell_type": "markdown",
      "metadata": {
        "id": "view-in-github",
        "colab_type": "text"
      },
      "source": [
        "<a href=\"https://colab.research.google.com/github/Rafi076/RTFER/blob/main/FER2013_SOTA_ResNet_Pipeline.ipynb\" target=\"_parent\"><img src=\"https://colab.research.google.com/assets/colab-badge.svg\" alt=\"Open In Colab\"/></a>"
      ]
    },
    {
      "cell_type": "markdown",
      "source": [
        "s1"
      ],
      "metadata": {
        "id": "eVeRDzkXfrJr"
      }
    },
    {
      "cell_type": "code",
      "source": [
        "# Step 1: Setup\n",
        "import os\n",
        "import zipfile\n",
        "import cv2\n",
        "import numpy as np\n",
        "import matplotlib.pyplot as plt\n",
        "from PIL import Image\n",
        "from sklearn.model_selection import train_test_split\n",
        "from torchvision import transforms, models\n",
        "from torch.utils.data import Dataset, DataLoader\n",
        "import torch\n",
        "import torch.nn as nn\n",
        "import torch.optim as optim\n",
        "from torchvision.transforms import functional as TF\n",
        "from torchvision import transforms\n",
        "from torch.utils.data import Dataset\n",
        "import torch\n",
        "import random"
      ],
      "metadata": {
        "id": "-OGECCnM8Nl7"
      },
      "execution_count": 1,
      "outputs": []
    },
    {
      "cell_type": "markdown",
      "source": [
        "s2"
      ],
      "metadata": {
        "id": "lKGKIDtOfvlf"
      }
    },
    {
      "cell_type": "code",
      "source": [
        "# Step 2: Unzip the FER-2013 dataset\n",
        "zip_path = \"/content/FER-2013.zip\"  # Update if path differs\n",
        "extract_path = \"/content/FER-2013\"\n",
        "\n",
        "with zipfile.ZipFile(zip_path, 'r') as zip_ref:\n",
        "    zip_ref.extractall(extract_path)\n",
        "\n",
        "print(\"FER-2013 dataset extracted.\")"
      ],
      "metadata": {
        "colab": {
          "base_uri": "https://localhost:8080/"
        },
        "id": "EuDHoVo58ZAa",
        "outputId": "9ad0068d-f186-470f-a244-50660e1a117f"
      },
      "execution_count": 2,
      "outputs": [
        {
          "output_type": "stream",
          "name": "stdout",
          "text": [
            "FER-2013 dataset extracted.\n"
          ]
        }
      ]
    },
    {
      "cell_type": "markdown",
      "source": [
        "s3"
      ],
      "metadata": {
        "id": "NiVNPrT1fw_W"
      }
    },
    {
      "cell_type": "code",
      "source": [
        "# TRAINING Dataset with CLAHE + Augmentations\n",
        "class FERPreprocessTrainDataset(Dataset):\n",
        "    def __init__(self, image_dir):\n",
        "        self.image_paths = []\n",
        "        self.labels = []\n",
        "        self.class_map = sorted(os.listdir(image_dir))\n",
        "\n",
        "        for label, class_name in enumerate(self.class_map):\n",
        "            class_folder = os.path.join(image_dir, class_name)\n",
        "            for img_name in os.listdir(class_folder):\n",
        "                self.image_paths.append(os.path.join(class_folder, img_name))\n",
        "                self.labels.append(label)\n",
        "\n",
        "        # Train-time augmentations\n",
        "        self.augment = transforms.Compose([\n",
        "            transforms.RandomHorizontalFlip(p=0.5),\n",
        "            transforms.RandomRotation(10),\n",
        "            transforms.RandomResizedCrop(48, scale=(0.8, 1.2)),\n",
        "            transforms.ColorJitter(brightness=0.1, contrast=0.1),\n",
        "            transforms.ToTensor(),\n",
        "            transforms.Normalize([0.5]*3, [0.5]*3),\n",
        "            transforms.RandomErasing(p=0.5, scale=(0.02, 0.15), ratio=(0.3, 3.3))\n",
        "        ])\n",
        "\n",
        "    def __len__(self):\n",
        "        return len(self.image_paths)\n",
        "\n",
        "    def __getitem__(self, idx):\n",
        "        img_path = self.image_paths[idx]\n",
        "        label = self.labels[idx]\n",
        "\n",
        "        # Step 1: Grayscale\n",
        "        img = cv2.imread(img_path, cv2.IMREAD_GRAYSCALE)\n",
        "\n",
        "        # Step 2: CLAHE instead of basic hist equalization\n",
        "        clahe = cv2.createCLAHE(clipLimit=2.0, tileGridSize=(8, 8))\n",
        "        img = clahe.apply(img)\n",
        "\n",
        "        # Step 3: Convert to RGB\n",
        "        img = cv2.cvtColor(img, cv2.COLOR_GRAY2RGB)\n",
        "\n",
        "        # Step 4: Apply transformations\n",
        "        img = Image.fromarray(img)\n",
        "        img = self.augment(img)\n",
        "\n",
        "        return img, label\n",
        "\n",
        "\n",
        "# TESTING Dataset with TenCrop Support\n",
        "class FERPreprocessTestDataset(Dataset):\n",
        "    def __init__(self, image_dir):\n",
        "        self.image_paths = []\n",
        "        self.labels = []\n",
        "        self.class_map = sorted(os.listdir(image_dir))\n",
        "\n",
        "        for label, class_name in enumerate(self.class_map):\n",
        "            class_folder = os.path.join(image_dir, class_name)\n",
        "            for img_name in os.listdir(class_folder):\n",
        "                self.image_paths.append(os.path.join(class_folder, img_name))\n",
        "                self.labels.append(label)\n",
        "\n",
        "        # TenCrop (inference-time)\n",
        "        self.transform = transforms.Compose([\n",
        "            transforms.Resize(56),\n",
        "            transforms.TenCrop(48),  # returns 10 crops\n",
        "            transforms.Lambda(lambda crops: torch.stack([\n",
        "                transforms.Normalize([0.5]*3, [0.5]*3)(transforms.ToTensor()(crop))\n",
        "                for crop in crops\n",
        "            ]))\n",
        "        ])\n",
        "\n",
        "    def __len__(self):\n",
        "        return len(self.image_paths)\n",
        "\n",
        "    def __getitem__(self, idx):\n",
        "        img_path = self.image_paths[idx]\n",
        "        label = self.labels[idx]\n",
        "\n",
        "        # Grayscale → CLAHE → RGB\n",
        "        img = cv2.imread(img_path, cv2.IMREAD_GRAYSCALE)\n",
        "        clahe = cv2.createCLAHE(clipLimit=2.0, tileGridSize=(8, 8))\n",
        "        img = clahe.apply(img)\n",
        "        img = cv2.cvtColor(img, cv2.COLOR_GRAY2RGB)\n",
        "        img = Image.fromarray(img)\n",
        "\n",
        "        # Apply TenCrop + Normalize\n",
        "        img = self.transform(img)  # shape: [10, 3, 48, 48]\n",
        "        return img, label"
      ],
      "metadata": {
        "id": "quUtTpym8asa"
      },
      "execution_count": 3,
      "outputs": []
    },
    {
      "cell_type": "markdown",
      "source": [
        "s4"
      ],
      "metadata": {
        "id": "xqxbh62ofy4H"
      }
    },
    {
      "cell_type": "code",
      "source": [
        "# Define dataset paths\n",
        "train_path = \"/content/FER-2013/FER-2013/train\"\n",
        "test_path = \"/content/FER-2013/FER-2013/test\"\n",
        "\n",
        "# Load Datasets\n",
        "train_dataset = FERPreprocessTrainDataset(train_path)\n",
        "test_dataset = FERPreprocessTestDataset(test_path)\n",
        "\n",
        "# Dataloaders\n",
        "train_loader = DataLoader(train_dataset, batch_size=64, shuffle=True)\n",
        "test_loader = DataLoader(test_dataset, batch_size=16)  # batch_size = 16 → 10 crops per image\n"
      ],
      "metadata": {
        "id": "pdmi_7ty8dH_"
      },
      "execution_count": 4,
      "outputs": []
    },
    {
      "cell_type": "markdown",
      "source": [
        "s5"
      ],
      "metadata": {
        "id": "5KcQlBENf0Gr"
      }
    },
    {
      "cell_type": "code",
      "source": [
        "# Step 5: Visualize a few samples\n",
        "import random\n",
        "plt.figure(figsize=(12, 3))\n",
        "for i in range(5):\n",
        "    idx = random.randint(0, len(train_dataset)-1)\n",
        "    img, label = train_dataset[idx]\n",
        "    plt.subplot(1, 5, i + 1)\n",
        "    plt.imshow(np.transpose(img.numpy(), (1, 2, 0)))\n",
        "    plt.title(f\"Label: {label}\")\n",
        "    plt.axis(\"off\")\n",
        "\n",
        "plt.suptitle(\"Sample Preprocessed FER-2013 Images\")\n",
        "plt.show()"
      ],
      "metadata": {
        "colab": {
          "base_uri": "https://localhost:8080/",
          "height": 369
        },
        "id": "wRTn1dSN8frG",
        "outputId": "2e18984e-cd0e-447e-c676-445baecdf64d"
      },
      "execution_count": 5,
      "outputs": [
        {
          "output_type": "stream",
          "name": "stderr",
          "text": [
            "WARNING:matplotlib.image:Clipping input data to the valid range for imshow with RGB data ([0..1] for floats or [0..255] for integers). Got range [-0.9372549..1.0].\n",
            "WARNING:matplotlib.image:Clipping input data to the valid range for imshow with RGB data ([0..1] for floats or [0..255] for integers). Got range [-0.96862745..1.0].\n",
            "WARNING:matplotlib.image:Clipping input data to the valid range for imshow with RGB data ([0..1] for floats or [0..255] for integers). Got range [-1.0..1.0].\n",
            "WARNING:matplotlib.image:Clipping input data to the valid range for imshow with RGB data ([0..1] for floats or [0..255] for integers). Got range [-0.9843137..0.92941177].\n",
            "WARNING:matplotlib.image:Clipping input data to the valid range for imshow with RGB data ([0..1] for floats or [0..255] for integers). Got range [-0.92941177..0.8745098].\n"
          ]
        },
        {
          "output_type": "display_data",
          "data": {
            "text/plain": [
              "<Figure size 1200x300 with 5 Axes>"
            ],
            "image/png": "[encoded data removed]"
          },
          "metadata": {}
        }
      ]
    },
    {
      "cell_type": "markdown",
      "source": [
        "s6"
      ],
      "metadata": {
        "id": "CWMnIwbrf19A"
      }
    },
    {
      "cell_type": "code",
      "source": [
        "# Step 6: Build the most optimized ResNet18 model for FER-2013\n",
        "import torch.nn as nn\n",
        "import torchvision.models as models\n",
        "import torch.nn.init as init\n",
        "\n",
        "device = torch.device(\"cuda\" if torch.cuda.is_available() else \"cpu\")\n",
        "\n",
        "# Load pretrained ResNet18 from torchvision\n",
        "base_resnet = models.resnet18(pretrained=True)\n",
        "\n",
        "# Define custom ResNet18-based model\n",
        "class BestFERResNet18(nn.Module):\n",
        "    def __init__(self, base_model):\n",
        "        super(BestFERResNet18, self).__init__()\n",
        "        self.backbone = nn.Sequential(*list(base_model.children())[:-1])  # Remove FC layer\n",
        "        self.fc_head = nn.Sequential(\n",
        "            nn.Flatten(),\n",
        "            nn.Linear(base_model.fc.in_features, 512),\n",
        "            nn.BatchNorm1d(512),\n",
        "            nn.ReLU(),\n",
        "            nn.Dropout(0.5),\n",
        "            nn.Linear(512, 256),\n",
        "            nn.BatchNorm1d(256),\n",
        "            nn.ReLU(),\n",
        "            nn.Dropout(0.3),\n",
        "            nn.Linear(256, 7)  # FER-2013 has 7 emotion classes\n",
        "        )\n",
        "        self._init_weights()\n",
        "\n",
        "        #  Freeze backbone initially\n",
        "        for param in self.backbone.parameters():\n",
        "            param.requires_grad = False\n",
        "\n",
        "    def _init_weights(self):\n",
        "        for m in self.fc_head:\n",
        "            if isinstance(m, nn.Linear):\n",
        "                init.kaiming_normal_(m.weight)\n",
        "                if m.bias is not None:\n",
        "                    init.constant_(m.bias, 0)\n",
        "\n",
        "    def forward(self, x):\n",
        "        x = self.backbone(x)  # [B, 512, 1, 1]\n",
        "        x = self.fc_head(x)   # [B, 7]\n",
        "        return x\n",
        "\n",
        "# Initialize model\n",
        "model = BestFERResNet18(base_resnet).to(device)\n",
        "\n",
        "print(\"Best ResNet18 model is ready on\", device)\n"
      ],
      "metadata": {
        "colab": {
          "base_uri": "https://localhost:8080/"
        },
        "id": "JcIF9k2p8hr7",
        "outputId": "a8b75e7a-3c57-4205-b76b-e9eb22cf8dde"
      },
      "execution_count": 7,
      "outputs": [
        {
          "output_type": "stream",
          "name": "stderr",
          "text": [
            "/usr/local/lib/python3.11/dist-packages/torchvision/models/_utils.py:208: UserWarning: The parameter 'pretrained' is deprecated since 0.13 and may be removed in the future, please use 'weights' instead.\n",
            "  warnings.warn(\n",
            "/usr/local/lib/python3.11/dist-packages/torchvision/models/_utils.py:223: UserWarning: Arguments other than a weight enum or `None` for 'weights' are deprecated since 0.13 and may be removed in the future. The current behavior is equivalent to passing `weights=ResNet18_Weights.IMAGENET1K_V1`. You can also use `weights=ResNet18_Weights.DEFAULT` to get the most up-to-date weights.\n",
            "  warnings.warn(msg)\n",
            "Downloading: \"https://download.pytorch.org/models/resnet18-f37072fd.pth\" to /root/.cache/torch/hub/checkpoints/resnet18-f37072fd.pth\n",
            "100%|██████████| 44.7M/44.7M [00:00<00:00, 180MB/s]\n"
          ]
        },
        {
          "output_type": "stream",
          "name": "stdout",
          "text": [
            "Best ResNet18 model is ready on cuda\n"
          ]
        }
      ]
    },
    {
      "cell_type": "markdown",
      "source": [
        "s7"
      ],
      "metadata": {
        "id": "nz0df0rtf3g3"
      }
    },
    {
      "cell_type": "code",
      "source": [
        "# Step 7: Training Setup with all optimizations\n",
        "import torch.optim as optim\n",
        "from torch.optim.lr_scheduler import CosineAnnealingWarmRestarts\n",
        "\n",
        "# Label Smoothing Loss\n",
        "class LabelSmoothingLoss(nn.Module):\n",
        "    def __init__(self, smoothing=0.1):\n",
        "        super(LabelSmoothingLoss, self).__init__()\n",
        "        self.smoothing = smoothing\n",
        "        self.confidence = 1.0 - smoothing\n",
        "\n",
        "    def forward(self, pred, target):\n",
        "        log_probs = nn.LogSoftmax(dim=-1)(pred)\n",
        "        true_dist = torch.zeros_like(log_probs).scatter_(1, target.unsqueeze(1), self.confidence)\n",
        "        true_dist += self.smoothing / pred.size(1)\n",
        "        return torch.mean(torch.sum(-true_dist * log_probs, dim=-1))\n",
        "\n",
        "criterion = LabelSmoothingLoss(smoothing=0.1)\n",
        "optimizer = optim.AdamW(model.parameters(), lr=1e-3, weight_decay=1e-4)\n",
        "scheduler = CosineAnnealingWarmRestarts(optimizer, T_0=10, T_mult=2)\n",
        "scaler = torch.cuda.amp.GradScaler()\n"
      ],
      "metadata": {
        "colab": {
          "base_uri": "https://localhost:8080/"
        },
        "id": "O4ihkOEZ8jRa",
        "outputId": "51f39f0b-45ec-4af9-c309-ce9cd53ebd7e"
      },
      "execution_count": 8,
      "outputs": [
        {
          "output_type": "stream",
          "name": "stderr",
          "text": [
            "/tmp/ipython-input-196615464.py:21: FutureWarning: `torch.cuda.amp.GradScaler(args...)` is deprecated. Please use `torch.amp.GradScaler('cuda', args...)` instead.\n",
            "  scaler = torch.cuda.amp.GradScaler()\n"
          ]
        }
      ]
    },
    {
      "cell_type": "markdown",
      "source": [
        "s8"
      ],
      "metadata": {
        "id": "vSFPKgJwf48k"
      }
    },
    {
      "cell_type": "code",
      "source": [
        "# Step 8 & 9: Advanced Training Loop with AMP, Early Stopping, and Model Checkpointing\n",
        "\n",
        "num_epochs = 40\n",
        "best_acc = 0.0\n",
        "patience = 7\n",
        "trigger = 0\n",
        "\n",
        "for epoch in range(num_epochs):\n",
        "    model.train()\n",
        "    running_loss = 0.0\n",
        "    correct = 0\n",
        "    total = 0\n",
        "\n",
        "    # Training Phase\n",
        "    for images, labels in train_loader:\n",
        "        images, labels = images.to(device), labels.to(device)\n",
        "\n",
        "        optimizer.zero_grad()\n",
        "        with torch.cuda.amp.autocast():  #  Mixed precision for speed\n",
        "            outputs = model(images)\n",
        "            loss = criterion(outputs, labels)\n",
        "\n",
        "        scaler.scale(loss).backward()\n",
        "        scaler.step(optimizer)\n",
        "        scaler.update()\n",
        "\n",
        "        running_loss += loss.item() * images.size(0)\n",
        "        preds = outputs.argmax(dim=1)\n",
        "        correct += (preds == labels).sum().item()\n",
        "        total += labels.size(0)\n",
        "\n",
        "    scheduler.step()\n",
        "    train_acc = correct / total\n",
        "    avg_loss = running_loss / total\n",
        "    print(f\"Epoch {epoch+1}/{num_epochs} | Train Loss: {avg_loss:.4f} | Train Acc: {train_acc:.4f}\")\n",
        "\n",
        "    # Evaluation Phase (with TenCrop)\n",
        "    model.eval()\n",
        "    correct = 0\n",
        "    total = 0\n",
        "\n",
        "    with torch.no_grad():\n",
        "        for images, labels in test_loader:\n",
        "            bs, ncrops, c, h, w = images.size()  # [B, 10, 3, 48, 48]\n",
        "            images = images.view(-1, c, h, w).to(device)  # → [B*10, 3, 48, 48]\n",
        "            labels = labels.to(device)\n",
        "\n",
        "            with torch.cuda.amp.autocast():\n",
        "                outputs = model(images)  # [B*10, 7]\n",
        "            outputs = outputs.view(bs, ncrops, -1).mean(1)  # → [B, 7]\n",
        "            preds = outputs.argmax(1)\n",
        "\n",
        "            correct += (preds == labels).sum().item()\n",
        "            total += labels.size(0)\n",
        "\n",
        "    val_acc = correct / total\n",
        "    print(f\"Validation Accuracy: {val_acc:.4f}\")\n",
        "\n",
        "    # Early Stopping & Checkpointing\n",
        "    if val_acc > best_acc:\n",
        "        best_acc = val_acc\n",
        "        torch.save(model.state_dict(), \"best_fer_model.pth\")\n",
        "        print(\"Best model saved with accuracy:\", round(best_acc, 4))\n",
        "        trigger = 0\n",
        "    else:\n",
        "        trigger += 1\n",
        "        print(f\" No improvement. Patience counter: {trigger}/{patience}\")\n",
        "        if trigger >= patience:\n",
        "            print(\"Early stopping triggered.\")\n",
        "            break\n",
        "\n",
        "\n",
        "\n",
        "\n",
        "\n",
        "\n"
      ],
      "metadata": {
        "colab": {
          "base_uri": "https://localhost:8080/"
        },
        "id": "u15jT6KZ8lFy",
        "outputId": "79e2e77a-b1ef-487b-a830-64765ea32d78"
      },
      "execution_count": null,
      "outputs": [
        {
          "output_type": "stream",
          "name": "stderr",
          "text": [
            "/tmp/ipython-input-3929041651.py:19: FutureWarning: `torch.cuda.amp.autocast(args...)` is deprecated. Please use `torch.amp.autocast('cuda', args...)` instead.\n",
            "  with torch.cuda.amp.autocast():  #  Mixed precision for speed\n"
          ]
        },
        {
          "output_type": "stream",
          "name": "stdout",
          "text": [
            "Epoch 1/40 | Train Loss: 1.5020 | Train Acc: 0.4804\n"
          ]
        },
        {
          "output_type": "stream",
          "name": "stderr",
          "text": [
            "/tmp/ipython-input-3929041651.py:48: FutureWarning: `torch.cuda.amp.autocast(args...)` is deprecated. Please use `torch.amp.autocast('cuda', args...)` instead.\n",
            "  with torch.cuda.amp.autocast():\n"
          ]
        },
        {
          "output_type": "stream",
          "name": "stdout",
          "text": [
            "Validation Accuracy: 0.5456\n",
            "Best model saved with accuracy: 0.5456\n",
            "Epoch 2/40 | Train Loss: 1.4513 | Train Acc: 0.5146\n",
            "Validation Accuracy: 0.5623\n",
            "Best model saved with accuracy: 0.5623\n",
            "Epoch 3/40 | Train Loss: 1.4039 | Train Acc: 0.5340\n",
            "Validation Accuracy: 0.5660\n",
            "Best model saved with accuracy: 0.566\n",
            "Epoch 4/40 | Train Loss: 1.3709 | Train Acc: 0.5508\n",
            "Validation Accuracy: 0.5758\n",
            "Best model saved with accuracy: 0.5758\n",
            "Epoch 5/40 | Train Loss: 1.3358 | Train Acc: 0.5668\n",
            "Validation Accuracy: 0.5949\n",
            "Best model saved with accuracy: 0.5949\n",
            "Epoch 6/40 | Train Loss: 1.3033 | Train Acc: 0.5832\n",
            "Validation Accuracy: 0.6030\n",
            "Best model saved with accuracy: 0.603\n",
            "Epoch 7/40 | Train Loss: 1.2695 | Train Acc: 0.6002\n",
            "Validation Accuracy: 0.6206\n",
            "Best model saved with accuracy: 0.6206\n",
            "Epoch 8/40 | Train Loss: 1.2418 | Train Acc: 0.6145\n",
            "Validation Accuracy: 0.6198\n",
            " No improvement. Patience counter: 1/7\n",
            "Epoch 9/40 | Train Loss: 1.2220 | Train Acc: 0.6254\n",
            "Validation Accuracy: 0.6243\n",
            "Best model saved with accuracy: 0.6243\n",
            "Epoch 10/40 | Train Loss: 1.3480 | Train Acc: 0.5621\n",
            "Validation Accuracy: 0.5938\n",
            " No improvement. Patience counter: 1/7\n",
            "Epoch 11/40 | Train Loss: 1.3332 | Train Acc: 0.5705\n",
            "Validation Accuracy: 0.5875\n",
            " No improvement. Patience counter: 2/7\n",
            "Epoch 12/40 | Train Loss: 1.3170 | Train Acc: 0.5777\n",
            "Validation Accuracy: 0.6010\n",
            " No improvement. Patience counter: 3/7\n",
            "Epoch 13/40 | Train Loss: 1.2936 | Train Acc: 0.5910\n",
            "Validation Accuracy: 0.5924\n",
            " No improvement. Patience counter: 4/7\n",
            "Epoch 14/40 | Train Loss: 1.2852 | Train Acc: 0.5929\n",
            "Validation Accuracy: 0.6162\n",
            " No improvement. Patience counter: 5/7\n",
            "Epoch 15/40 | Train Loss: 1.2641 | Train Acc: 0.6031\n",
            "Validation Accuracy: 0.6230\n",
            " No improvement. Patience counter: 6/7\n",
            "Epoch 16/40 | Train Loss: 1.2505 | Train Acc: 0.6094\n",
            "Validation Accuracy: 0.6172\n",
            " No improvement. Patience counter: 7/7\n",
            "Early stopping triggered.\n"
          ]
        }
      ]
    },
    {
      "cell_type": "code",
      "source": [
        "\n",
        "#  STAGE 2: Unfreeze Backbone and Fine-Tune All Layers\n",
        "for param in model.backbone.parameters():\n",
        "    param.requires_grad = True\n",
        "\n",
        "print(\"Backbone unfrozen. Starting fine-tuning phase...\")\n",
        "\n",
        "# Reset early stopping variables\n",
        "trigger = 0\n",
        "patience = 7\n",
        "num_epochs = 20  # Or more, based on resources\n",
        "\n",
        "for epoch in range(num_epochs):\n",
        "    model.train()\n",
        "    running_loss = 0\n",
        "    correct = 0\n",
        "\n",
        "    for images, labels in train_loader:\n",
        "        images, labels = images.to(device), labels.to(device)\n",
        "\n",
        "        optimizer.zero_grad()\n",
        "        with torch.amp.autocast(device_type='cuda'):  #  updated per warning\n",
        "            outputs = model(images)\n",
        "            loss = criterion(outputs, labels)\n",
        "        scaler.scale(loss).backward()\n",
        "        scaler.step(optimizer)\n",
        "        scaler.update()\n",
        "\n",
        "        running_loss += loss.item()\n",
        "        correct += (outputs.argmax(1) == labels).sum().item()\n",
        "\n",
        "    scheduler.step()\n",
        "    train_acc = correct / len(train_loader.dataset)\n",
        "    print(f\" [FT] Epoch {epoch+1} | Train Loss: {running_loss:.4f} | Train Acc: {train_acc:.4f}\")\n",
        "\n",
        "    # Evaluation\n",
        "    model.eval()\n",
        "    correct = 0\n",
        "    total = 0\n",
        "\n",
        "    with torch.no_grad():\n",
        "        for images, labels in test_loader:\n",
        "            bs, ncrops, c, h, w = images.size()\n",
        "            images = images.view(-1, c, h, w).to(device)\n",
        "            labels = labels.to(device)\n",
        "\n",
        "            with torch.amp.autocast(device_type='cuda'):\n",
        "                outputs = model(images)\n",
        "            outputs = outputs.view(bs, ncrops, -1).mean(1)\n",
        "            preds = outputs.argmax(1)\n",
        "\n",
        "            correct += (preds == labels).sum().item()\n",
        "            total += labels.size(0)\n",
        "\n",
        "    val_acc = correct / total\n",
        "    print(f\"[FT] Validation Accuracy: {val_acc:.4f}\")\n",
        "\n",
        "    # Save best model\n",
        "    if val_acc > best_acc:\n",
        "        best_acc = val_acc\n",
        "        torch.save(model.state_dict(), \"best_fer_model.pth\")\n",
        "        print(\" Best model saved (fine-tuned)!\")\n",
        "        trigger = 0\n",
        "    else:\n",
        "        trigger += 1\n",
        "        print(f\" No improvement. Patience counter: {trigger}/{patience}\")\n",
        "        if trigger >= patience:\n",
        "            print(\"Early stopping triggered (fine-tuning).\")\n",
        "            break"
      ],
      "metadata": {
        "colab": {
          "base_uri": "https://localhost:8080/"
        },
        "id": "3Wia8MiYAKuu",
        "outputId": "8fd824cb-568e-4d9c-83cc-a82a778c97e8"
      },
      "execution_count": null,
      "outputs": [
        {
          "output_type": "stream",
          "name": "stdout",
          "text": [
            "Backbone unfrozen. Starting fine-tuning phase...\n",
            " [FT] Epoch 1 | Train Loss: 553.6982 | Train Acc: 0.6213\n",
            "[FT] Validation Accuracy: 0.6297\n",
            " Best model saved (fine-tuned)!\n",
            " [FT] Epoch 2 | Train Loss: 545.4386 | Train Acc: 0.6279\n",
            "[FT] Validation Accuracy: 0.6364\n",
            " Best model saved (fine-tuned)!\n",
            " [FT] Epoch 3 | Train Loss: 537.6983 | Train Acc: 0.6370\n",
            "[FT] Validation Accuracy: 0.6385\n",
            " Best model saved (fine-tuned)!\n",
            " [FT] Epoch 4 | Train Loss: 527.8653 | Train Acc: 0.6482\n",
            "[FT] Validation Accuracy: 0.6415\n",
            " Best model saved (fine-tuned)!\n",
            " [FT] Epoch 5 | Train Loss: 518.0730 | Train Acc: 0.6612\n",
            "[FT] Validation Accuracy: 0.6443\n",
            " Best model saved (fine-tuned)!\n",
            " [FT] Epoch 6 | Train Loss: 510.3987 | Train Acc: 0.6688\n",
            "[FT] Validation Accuracy: 0.6556\n",
            " Best model saved (fine-tuned)!\n",
            " [FT] Epoch 7 | Train Loss: 501.8780 | Train Acc: 0.6765\n",
            "[FT] Validation Accuracy: 0.6577\n",
            " Best model saved (fine-tuned)!\n",
            " [FT] Epoch 8 | Train Loss: 491.4972 | Train Acc: 0.6921\n",
            "[FT] Validation Accuracy: 0.6624\n",
            " Best model saved (fine-tuned)!\n",
            " [FT] Epoch 9 | Train Loss: 485.0161 | Train Acc: 0.6979\n",
            "[FT] Validation Accuracy: 0.6668\n",
            " Best model saved (fine-tuned)!\n",
            " [FT] Epoch 10 | Train Loss: 476.4568 | Train Acc: 0.7066\n",
            "[FT] Validation Accuracy: 0.6654\n",
            " No improvement. Patience counter: 1/7\n",
            " [FT] Epoch 11 | Train Loss: 472.8162 | Train Acc: 0.7111\n",
            "[FT] Validation Accuracy: 0.6665\n",
            " No improvement. Patience counter: 2/7\n",
            " [FT] Epoch 12 | Train Loss: 467.8189 | Train Acc: 0.7194\n",
            "[FT] Validation Accuracy: 0.6687\n",
            " Best model saved (fine-tuned)!\n",
            " [FT] Epoch 13 | Train Loss: 467.5440 | Train Acc: 0.7189\n",
            "[FT] Validation Accuracy: 0.6700\n",
            " Best model saved (fine-tuned)!\n",
            " [FT] Epoch 14 | Train Loss: 526.2170 | Train Acc: 0.6533\n",
            "[FT] Validation Accuracy: 0.6408\n",
            " No improvement. Patience counter: 1/7\n",
            " [FT] Epoch 15 | Train Loss: 525.9461 | Train Acc: 0.6523\n",
            "[FT] Validation Accuracy: 0.6332\n",
            " No improvement. Patience counter: 2/7\n",
            " [FT] Epoch 16 | Train Loss: 528.4782 | Train Acc: 0.6513\n",
            "[FT] Validation Accuracy: 0.6230\n",
            " No improvement. Patience counter: 3/7\n",
            " [FT] Epoch 17 | Train Loss: 522.3728 | Train Acc: 0.6566\n",
            "[FT] Validation Accuracy: 0.6441\n",
            " No improvement. Patience counter: 4/7\n",
            " [FT] Epoch 18 | Train Loss: 520.0552 | Train Acc: 0.6598\n",
            "[FT] Validation Accuracy: 0.6428\n",
            " No improvement. Patience counter: 5/7\n",
            " [FT] Epoch 19 | Train Loss: 514.7713 | Train Acc: 0.6650\n",
            "[FT] Validation Accuracy: 0.6517\n",
            " No improvement. Patience counter: 6/7\n",
            " [FT] Epoch 20 | Train Loss: 511.1615 | Train Acc: 0.6707\n",
            "[FT] Validation Accuracy: 0.6565\n",
            " No improvement. Patience counter: 7/7\n",
            "Early stopping triggered (fine-tuning).\n"
          ]
        }
      ]
    },
    {
      "cell_type": "markdown",
      "source": [
        "s9"
      ],
      "metadata": {
        "id": "ivQinebwf7iX"
      }
    },
    {
      "cell_type": "code",
      "source": [
        "import os\n",
        "import shutil\n",
        "\n",
        "base_path = \"/content/FER-2013/FER-2013\"  # Make sure this is your actual path\n",
        "merged_train_path = os.path.join(base_path, \"train_val_merged\")\n",
        "\n",
        "# Create merged directory\n",
        "os.makedirs(merged_train_path, exist_ok=True)\n",
        "\n",
        "# Copy only from 'train' folder (since 'val' doesn't exist)\n",
        "train_path = os.path.join(base_path, \"train\")\n",
        "for emotion in os.listdir(train_path):\n",
        "    src = os.path.join(train_path, emotion)\n",
        "    dst = os.path.join(merged_train_path, emotion)\n",
        "    os.makedirs(dst, exist_ok=True)\n",
        "    for file in os.listdir(src):\n",
        "        shutil.copy(os.path.join(src, file), os.path.join(dst, file))\n",
        "\n",
        "print(\" Merged available training data into:\", merged_train_path)\n"
      ],
      "metadata": {
        "colab": {
          "base_uri": "https://localhost:8080/"
        },
        "id": "7LCNGCy_8nRq",
        "outputId": "15f9ed2b-8acd-4771-e3a7-79613e5d0a0c"
      },
      "execution_count": 9,
      "outputs": [
        {
          "output_type": "stream",
          "name": "stdout",
          "text": [
            " Merged available training data into: /content/FER-2013/FER-2013/train_val_merged\n"
          ]
        }
      ]
    },
    {
      "cell_type": "markdown",
      "source": [
        "s10"
      ],
      "metadata": {
        "id": "8kxhnB5gf_F_"
      }
    },
    {
      "cell_type": "code",
      "source": [
        "# Step 2: Define BestFERResNet34 Model\n",
        "import torchvision.models as models\n",
        "import torch.nn as nn\n",
        "import torch.nn.init as init\n",
        "\n",
        "resnet34 = models.resnet34(pretrained=True)\n",
        "\n",
        "class BestFERResNet34(nn.Module):\n",
        "    def __init__(self, base_model):\n",
        "        super(BestFERResNet34, self).__init__()\n",
        "        self.backbone = nn.Sequential(*list(base_model.children())[:-1])  # Remove last FC\n",
        "        self.fc_head = nn.Sequential(\n",
        "            nn.Flatten(),\n",
        "            nn.Linear(base_model.fc.in_features, 512),\n",
        "            nn.BatchNorm1d(512),\n",
        "            nn.ReLU(),\n",
        "            nn.Dropout(0.5),\n",
        "            nn.Linear(512, 256),\n",
        "            nn.BatchNorm1d(256),\n",
        "            nn.ReLU(),\n",
        "            nn.Dropout(0.3),\n",
        "            nn.Linear(256, 7)\n",
        "        )\n",
        "        self._init_weights()\n",
        "        for param in self.backbone.parameters():\n",
        "            param.requires_grad = False\n",
        "\n",
        "    def _init_weights(self):\n",
        "        for m in self.fc_head:\n",
        "            if isinstance(m, nn.Linear):\n",
        "                init.kaiming_normal_(m.weight)\n",
        "                if m.bias is not None:\n",
        "                    init.constant_(m.bias, 0)\n",
        "\n",
        "    def forward(self, x):\n",
        "        x = self.backbone(x)\n",
        "        x = self.fc_head(x)\n",
        "        return x\n",
        "\n",
        "model = BestFERResNet34(resnet34).to(device)\n",
        "print(\" Loaded BestFERResNet34\")\n"
      ],
      "metadata": {
        "colab": {
          "base_uri": "https://localhost:8080/"
        },
        "id": "xMFj-JKv8oyW",
        "outputId": "a614b59c-5fc7-4e3a-8b04-ff61ff4f417e"
      },
      "execution_count": 10,
      "outputs": [
        {
          "output_type": "stream",
          "name": "stderr",
          "text": [
            "/usr/local/lib/python3.11/dist-packages/torchvision/models/_utils.py:223: UserWarning: Arguments other than a weight enum or `None` for 'weights' are deprecated since 0.13 and may be removed in the future. The current behavior is equivalent to passing `weights=ResNet34_Weights.IMAGENET1K_V1`. You can also use `weights=ResNet34_Weights.DEFAULT` to get the most up-to-date weights.\n",
            "  warnings.warn(msg)\n",
            "Downloading: \"https://download.pytorch.org/models/resnet34-b627a593.pth\" to /root/.cache/torch/hub/checkpoints/resnet34-b627a593.pth\n",
            "100%|██████████| 83.3M/83.3M [00:00<00:00, 195MB/s]\n"
          ]
        },
        {
          "output_type": "stream",
          "name": "stdout",
          "text": [
            " Loaded BestFERResNet34\n"
          ]
        }
      ]
    },
    {
      "cell_type": "markdown",
      "source": [
        "s11"
      ],
      "metadata": {
        "id": "AJlDJMdLgB6b"
      }
    },
    {
      "cell_type": "markdown",
      "source": [
        "Replace ResNet18 with ResNet34 (stronger backbone)\n",
        "\n",
        "Manually Split Merged Data into Train and Val Sets\n",
        "\n",
        "We’ll split train_val_merged into 90% train and 10% val."
      ],
      "metadata": {
        "id": "PVa86MyD8tH4"
      }
    },
    {
      "cell_type": "code",
      "source": [
        "import os\n",
        "import shutil\n",
        "import random\n",
        "from sklearn.model_selection import train_test_split\n",
        "\n",
        "merged_dir = \"/content/FER-2013/FER-2013/train_val_merged\"\n",
        "train_dir = \"/content/FER-2013/FER-2013/train_split\"\n",
        "val_dir = \"/content/FER-2013/FER-2013/val_split\"\n",
        "\n",
        "os.makedirs(train_dir, exist_ok=True)\n",
        "os.makedirs(val_dir, exist_ok=True)\n",
        "\n",
        "for emotion in os.listdir(merged_dir):\n",
        "    emotion_path = os.path.join(merged_dir, emotion)\n",
        "    images = os.listdir(emotion_path)\n",
        "\n",
        "    train_images, val_images = train_test_split(images, test_size=0.1, random_state=42)\n",
        "\n",
        "    # Train\n",
        "    os.makedirs(os.path.join(train_dir, emotion), exist_ok=True)\n",
        "    for img in train_images:\n",
        "        shutil.copy(os.path.join(emotion_path, img), os.path.join(train_dir, emotion, img))\n",
        "\n",
        "    # Val\n",
        "    os.makedirs(os.path.join(val_dir, emotion), exist_ok=True)\n",
        "    for img in val_images:\n",
        "        shutil.copy(os.path.join(emotion_path, img), os.path.join(val_dir, emotion, img))\n",
        "\n",
        "print(\"Data split complete: 90% train, 10% val\")\n"
      ],
      "metadata": {
        "colab": {
          "base_uri": "https://localhost:8080/"
        },
        "id": "-Mk6WNpT8tfy",
        "outputId": "98cb6d31-23eb-46d6-8cf0-fa2b7c49a67d"
      },
      "execution_count": 11,
      "outputs": [
        {
          "output_type": "stream",
          "name": "stdout",
          "text": [
            "Data split complete: 90% train, 10% val\n"
          ]
        }
      ]
    },
    {
      "cell_type": "markdown",
      "source": [
        "s12"
      ],
      "metadata": {
        "id": "A8J4p_YbgEz7"
      }
    },
    {
      "cell_type": "markdown",
      "source": [
        "Preprocessing + Augmentation + Dataloader Setup (Best Version)"
      ],
      "metadata": {
        "id": "6Zalogjd8yzO"
      }
    },
    {
      "cell_type": "code",
      "source": [
        "from torchvision import transforms\n",
        "from torchvision.datasets import ImageFolder\n",
        "from torch.utils.data import DataLoader\n",
        "import torch\n",
        "\n",
        "# ImageNet normalization (for pretrained models)\n",
        "mean = [0.485, 0.456, 0.406]\n",
        "std = [0.229, 0.224, 0.225]\n",
        "\n",
        "# Training Transform: Strong augmentation\n",
        "train_transform = transforms.Compose([\n",
        "    transforms.Resize((48, 48)),                      # Resize to standard size\n",
        "    transforms.RandomCrop(44),                        # Slightly smaller crop\n",
        "    transforms.RandomHorizontalFlip(),                # Horizontal flip\n",
        "    transforms.ColorJitter(brightness=0.4, contrast=0.4), # Color jitter\n",
        "    transforms.RandomRotation(10),                    # Rotation\n",
        "    transforms.ToTensor(),                            # Convert to tensor\n",
        "    transforms.Normalize(mean, std)                   # Normalize\n",
        "])\n",
        "\n",
        "#  Test/Validation Transform: TenCrop + Normalize\n",
        "test_transform = transforms.Compose([\n",
        "    transforms.Resize(48),\n",
        "    transforms.TenCrop(44),  # 10 crops from the image\n",
        "    transforms.Lambda(lambda crops: torch.stack([\n",
        "        transforms.Normalize(mean, std)(\n",
        "            transforms.ToTensor()(crop)) for crop in crops\n",
        "    ]))\n",
        "])\n"
      ],
      "metadata": {
        "id": "2AGi1tDU8zLc"
      },
      "execution_count": 12,
      "outputs": []
    },
    {
      "cell_type": "markdown",
      "source": [
        "s13"
      ],
      "metadata": {
        "id": "9a_8v25UgGJv"
      }
    },
    {
      "cell_type": "code",
      "source": [
        "#  Dataset paths (ensure they exist)\n",
        "train_path = \"/content/FER-2013/FER-2013/train_split\"\n",
        "val_path = \"/content/FER-2013/FER-2013/val_split\"\n",
        "test_path = \"/content/FER-2013/FER-2013/test\"\n",
        "\n",
        "#  Load datasets with transformations\n",
        "train_dataset = ImageFolder(train_path, transform=train_transform)\n",
        "val_dataset = ImageFolder(val_path, transform=test_transform)\n",
        "test_dataset = ImageFolder(test_path, transform=test_transform)\n",
        "\n",
        "#  DataLoaders\n",
        "train_loader = DataLoader(train_dataset, batch_size=64, shuffle=True, num_workers=2)\n",
        "val_loader = DataLoader(val_dataset, batch_size=32, shuffle=False, num_workers=2)\n",
        "test_loader = DataLoader(test_dataset, batch_size=32, shuffle=False, num_workers=2)\n",
        "\n",
        "print(\" All dataloaders ready with strong augmentation and TenCrop.\")\n"
      ],
      "metadata": {
        "colab": {
          "base_uri": "https://localhost:8080/"
        },
        "id": "Dtwo0gc082i-",
        "outputId": "2dd02ddc-4347-40b3-d3df-c45aa47514a9"
      },
      "execution_count": 13,
      "outputs": [
        {
          "output_type": "stream",
          "name": "stdout",
          "text": [
            " All dataloaders ready with strong augmentation and TenCrop.\n"
          ]
        }
      ]
    },
    {
      "cell_type": "markdown",
      "source": [
        "s14"
      ],
      "metadata": {
        "id": "SGpz129kgHlz"
      }
    },
    {
      "cell_type": "code",
      "source": [
        "import torch.nn as nn\n",
        "import torchvision.models as models\n",
        "import torch\n",
        "\n",
        "#  Device setup\n",
        "device = torch.device(\"cuda\" if torch.cuda.is_available() else \"cpu\")\n",
        "\n",
        "#  Load pretrained ResNet18 backbone\n",
        "resnet18 = models.resnet18(pretrained=True)\n",
        "\n",
        "#  Freeze the backbone initially\n",
        "for param in resnet18.parameters():\n",
        "    param.requires_grad = False\n",
        "\n",
        "#  Define custom head (with BatchNorm + Dropout)\n",
        "class EmotionResNet18(nn.Module):\n",
        "    def __init__(self):\n",
        "        super(EmotionResNet18, self).__init__()\n",
        "        self.backbone = nn.Sequential(*list(resnet18.children())[:-1])  # remove original FC\n",
        "        self.classifier = nn.Sequential(\n",
        "            nn.Flatten(),\n",
        "            nn.Linear(512, 256),\n",
        "            nn.BatchNorm1d(256),\n",
        "            nn.ReLU(inplace=True),\n",
        "            nn.Dropout(0.5),\n",
        "            nn.Linear(256, 7)  # 7 classes in FER-2013\n",
        "        )\n",
        "        self._init_weights()\n",
        "\n",
        "    def _init_weights(self):\n",
        "        for m in self.classifier:\n",
        "            if isinstance(m, nn.Linear):\n",
        "                nn.init.kaiming_normal_(m.weight)\n",
        "                if m.bias is not None:\n",
        "                    nn.init.constant_(m.bias, 0)\n",
        "\n",
        "    def forward(self, x):\n",
        "        x = self.backbone(x)\n",
        "        x = self.classifier(x)\n",
        "        return x\n",
        "\n",
        "# Instantiate and move to device\n",
        "model = EmotionResNet18().to(device)\n",
        "\n",
        "print(\" Model loaded and ready with frozen backbone + custom head.\")\n"
      ],
      "metadata": {
        "colab": {
          "base_uri": "https://localhost:8080/"
        },
        "id": "4zabhZkZ84Ba",
        "outputId": "872a2528-2807-480a-9345-77585b5e1505"
      },
      "execution_count": 14,
      "outputs": [
        {
          "output_type": "stream",
          "name": "stdout",
          "text": [
            " Model loaded and ready with frozen backbone + custom head.\n"
          ]
        }
      ]
    },
    {
      "cell_type": "markdown",
      "source": [
        "s15"
      ],
      "metadata": {
        "id": "u0nlRxsegJ9C"
      }
    },
    {
      "cell_type": "code",
      "source": [
        "import matplotlib.pyplot as plt\n",
        "import numpy as np\n",
        "\n",
        "# For unnormalizing images\n",
        "mean = [0.485, 0.456, 0.406]\n",
        "std = [0.229, 0.224, 0.225]\n",
        "\n",
        "def imshow(img, title=None):\n",
        "    img = img.numpy().transpose((1, 2, 0))\n",
        "    img = std * img + mean  # unnormalize\n",
        "    img = np.clip(img, 0, 1)\n",
        "    plt.imshow(img)\n",
        "    if title:\n",
        "        plt.title(title)\n",
        "    plt.axis('off')\n",
        "\n",
        "#  Visualize a few training samples\n",
        "data_iter = iter(train_loader)\n",
        "images, labels = next(data_iter)\n",
        "\n",
        "plt.figure(figsize=(12, 6))\n",
        "for idx in range(8):\n",
        "    plt.subplot(2, 4, idx + 1)\n",
        "    imshow(images[idx].cpu(), title=f\"Label: {labels[idx].item()}\")\n",
        "plt.suptitle(\"Sample Preprocessed Training Images\")\n",
        "plt.tight_layout()\n",
        "plt.show()\n"
      ],
      "metadata": {
        "colab": {
          "base_uri": "https://localhost:8080/",
          "height": 610
        },
        "id": "GpJU-lxc85ca",
        "outputId": "0dd9e663-2f56-412e-d933-965c96e19fd9"
      },
      "execution_count": 15,
      "outputs": [
        {
          "output_type": "display_data",
          "data": {
            "text/plain": [
              "<Figure size 1200x600 with 8 Axes>"
            ],
            "image/png": "[encoded data removed]"
          },
          "metadata": {}
        }
      ]
    },
    {
      "cell_type": "markdown",
      "source": [
        "s16"
      ],
      "metadata": {
        "id": "NL_R9ZMfgLqG"
      }
    },
    {
      "cell_type": "code",
      "source": [
        "import torch.optim as optim\n",
        "from torch.optim.lr_scheduler import CosineAnnealingWarmRestarts\n",
        "import torch.nn.functional as F\n",
        "\n",
        "#  Label Smoothing Loss\n",
        "class LabelSmoothingLoss(nn.Module):\n",
        "    def __init__(self, smoothing=0.1):\n",
        "        super(LabelSmoothingLoss, self).__init__()\n",
        "        self.smoothing = smoothing\n",
        "        self.confidence = 1.0 - smoothing\n",
        "\n",
        "    def forward(self, pred, target):\n",
        "        log_probs = F.log_softmax(pred, dim=-1)\n",
        "        true_dist = torch.zeros_like(log_probs)\n",
        "        true_dist.scatter_(1, target.unsqueeze(1), self.confidence)\n",
        "        true_dist += self.smoothing / pred.size(1)\n",
        "        return torch.mean(torch.sum(-true_dist * log_probs, dim=-1))\n",
        "\n",
        "#  Instantiate Loss\n",
        "criterion = LabelSmoothingLoss(smoothing=0.1)\n",
        "\n",
        "#  Optimizer & Scheduler\n",
        "optimizer = optim.AdamW(model.parameters(), lr=1e-3, weight_decay=1e-4)\n",
        "scheduler = CosineAnnealingWarmRestarts(optimizer, T_0=10, T_mult=2)\n",
        "\n",
        "#  Mixed Precision Scaler\n",
        "scaler = torch.cuda.amp.GradScaler()\n",
        "\n",
        "print(\" Training setup complete (Label Smoothing + AdamW + Cosine Annealing + AMP)\")\n"
      ],
      "metadata": {
        "colab": {
          "base_uri": "https://localhost:8080/"
        },
        "id": "uFETVD25860A",
        "outputId": "9309c54b-0f62-415c-a4e5-162101498fdc"
      },
      "execution_count": 16,
      "outputs": [
        {
          "output_type": "stream",
          "name": "stdout",
          "text": [
            " Training setup complete (Label Smoothing + AdamW + Cosine Annealing + AMP)\n"
          ]
        },
        {
          "output_type": "stream",
          "name": "stderr",
          "text": [
            "/tmp/ipython-input-427753110.py:27: FutureWarning: `torch.cuda.amp.GradScaler(args...)` is deprecated. Please use `torch.amp.GradScaler('cuda', args...)` instead.\n",
            "  scaler = torch.cuda.amp.GradScaler()\n"
          ]
        }
      ]
    },
    {
      "cell_type": "code",
      "source": [
        "# Block 22: Merge Train + Validation Sets (to retrain from scratch)\n",
        "from torch.utils.data import ConcatDataset\n",
        "\n",
        "batch_size = 64  # Set your actual batch size here\n",
        "# Use only training data (with augmentations) to form full_train_dataset\n",
        "full_train_dataset = train_dataset  # keep only proper 3x44x44 tensors\n",
        "full_train_loader = DataLoader(full_train_dataset, batch_size=batch_size, shuffle=True)\n",
        "\n"
      ],
      "metadata": {
        "id": "dMCI0SmgwLAL"
      },
      "execution_count": 17,
      "outputs": []
    },
    {
      "cell_type": "markdown",
      "source": [
        "s17"
      ],
      "metadata": {
        "id": "Fr8szbsZgNIQ"
      }
    },
    {
      "cell_type": "code",
      "source": [
        "import copy\n",
        "\n",
        "num_epochs = 40\n",
        "best_acc = 0.0\n",
        "patience = 7\n",
        "trigger = 0\n",
        "\n",
        "best_model_wts = copy.deepcopy(model.state_dict())\n",
        "\n",
        "for epoch in range(num_epochs):\n",
        "    model.train()\n",
        "    running_loss = 0.0\n",
        "    correct = 0\n",
        "    total = 0\n",
        "\n",
        "    # Training\n",
        "    for images, labels in train_loader:\n",
        "        images, labels = images.to(device), labels.to(device)\n",
        "\n",
        "        optimizer.zero_grad()\n",
        "        with torch.amp.autocast(device_type='cuda'):  # AMP\n",
        "            outputs = model(images)\n",
        "            loss = criterion(outputs, labels)\n",
        "\n",
        "        scaler.scale(loss).backward()\n",
        "        scaler.step(optimizer)\n",
        "        scaler.update()\n",
        "\n",
        "        running_loss += loss.item() * images.size(0)\n",
        "        preds = outputs.argmax(dim=1)\n",
        "        correct += (preds == labels).sum().item()\n",
        "        total += labels.size(0)\n",
        "\n",
        "    scheduler.step()\n",
        "    train_acc = correct / total\n",
        "    avg_loss = running_loss / total\n",
        "    print(f\" Epoch {epoch+1}/{num_epochs} | Train Loss: {avg_loss:.4f} | Train Acc: {train_acc:.4f}\")\n",
        "\n",
        "    # Evaluation with TenCrop\n",
        "    model.eval()\n",
        "    correct = 0\n",
        "    total = 0\n",
        "\n",
        "    with torch.no_grad():\n",
        "        for images, labels in val_loader:\n",
        "            bs, ncrops, c, h, w = images.size()\n",
        "            images = images.view(-1, c, h, w).to(device)\n",
        "            labels = labels.to(device)\n",
        "\n",
        "            with torch.amp.autocast(device_type='cuda'):\n",
        "                outputs = model(images)\n",
        "\n",
        "            outputs = outputs.view(bs, ncrops, -1).mean(1)\n",
        "            preds = outputs.argmax(1)\n",
        "            correct += (preds == labels).sum().item()\n",
        "            total += labels.size(0)\n",
        "\n",
        "    val_acc = correct / total\n",
        "    print(f\" Validation Accuracy: {val_acc:.4f}\")\n",
        "\n",
        "    # Early Stopping\n",
        "    if val_acc > best_acc:\n",
        "        best_acc = val_acc\n",
        "        best_model_wts = copy.deepcopy(model.state_dict())\n",
        "        torch.save(best_model_wts, \"best_fer_model_stage1.pth\")\n",
        "        print(\" Best model saved!\")\n",
        "        trigger = 0\n",
        "    else:\n",
        "        trigger += 1\n",
        "        print(f\" No improvement. Patience counter: {trigger}/{patience}\")\n",
        "        if trigger >= patience:\n",
        "            print(\" Early stopping triggered.\")\n",
        "            break\n"
      ],
      "metadata": {
        "colab": {
          "base_uri": "https://localhost:8080/"
        },
        "id": "tGjLEWPf88bX",
        "outputId": "f3d16e32-2595-4256-d24a-e21b8822acfc"
      },
      "execution_count": 18,
      "outputs": [
        {
          "output_type": "stream",
          "name": "stdout",
          "text": [
            " Epoch 1/40 | Train Loss: 2.0337 | Train Acc: 0.2384\n",
            " Validation Accuracy: 0.3452\n",
            " Best model saved!\n",
            " Epoch 2/40 | Train Loss: 1.8214 | Train Acc: 0.2814\n",
            " Validation Accuracy: 0.3556\n",
            " Best model saved!\n",
            " Epoch 3/40 | Train Loss: 1.7811 | Train Acc: 0.3031\n",
            " Validation Accuracy: 0.3466\n",
            " No improvement. Patience counter: 1/7\n",
            " Epoch 4/40 | Train Loss: 1.7723 | Train Acc: 0.3067\n",
            " Validation Accuracy: 0.3779\n",
            " Best model saved!\n",
            " Epoch 5/40 | Train Loss: 1.7628 | Train Acc: 0.3113\n",
            " Validation Accuracy: 0.3807\n",
            " Best model saved!\n",
            " Epoch 6/40 | Train Loss: 1.7562 | Train Acc: 0.3165\n",
            " Validation Accuracy: 0.3845\n",
            " Best model saved!\n",
            " Epoch 7/40 | Train Loss: 1.7528 | Train Acc: 0.3176\n",
            " Validation Accuracy: 0.3727\n",
            " No improvement. Patience counter: 1/7\n",
            " Epoch 8/40 | Train Loss: 1.7491 | Train Acc: 0.3176\n",
            " Validation Accuracy: 0.3824\n",
            " No improvement. Patience counter: 2/7\n",
            " Epoch 9/40 | Train Loss: 1.7473 | Train Acc: 0.3206\n",
            " Validation Accuracy: 0.3706\n",
            " No improvement. Patience counter: 3/7\n",
            " Epoch 10/40 | Train Loss: 1.7453 | Train Acc: 0.3258\n",
            " Validation Accuracy: 0.3810\n",
            " No improvement. Patience counter: 4/7\n",
            " Epoch 11/40 | Train Loss: 1.7572 | Train Acc: 0.3155\n",
            " Validation Accuracy: 0.3848\n",
            " Best model saved!\n",
            " Epoch 12/40 | Train Loss: 1.7526 | Train Acc: 0.3197\n",
            " Validation Accuracy: 0.3848\n",
            " No improvement. Patience counter: 1/7\n",
            " Epoch 13/40 | Train Loss: 1.7537 | Train Acc: 0.3189\n",
            " Validation Accuracy: 0.3768\n",
            " No improvement. Patience counter: 2/7\n",
            " Epoch 14/40 | Train Loss: 1.7471 | Train Acc: 0.3237\n",
            " Validation Accuracy: 0.3626\n",
            " No improvement. Patience counter: 3/7\n",
            " Epoch 15/40 | Train Loss: 1.7456 | Train Acc: 0.3252\n",
            " Validation Accuracy: 0.3814\n",
            " No improvement. Patience counter: 4/7\n",
            " Epoch 16/40 | Train Loss: 1.7445 | Train Acc: 0.3248\n",
            " Validation Accuracy: 0.3841\n",
            " No improvement. Patience counter: 5/7\n",
            " Epoch 17/40 | Train Loss: 1.7417 | Train Acc: 0.3298\n",
            " Validation Accuracy: 0.3727\n",
            " No improvement. Patience counter: 6/7\n",
            " Epoch 18/40 | Train Loss: 1.7403 | Train Acc: 0.3278\n",
            " Validation Accuracy: 0.3873\n",
            " Best model saved!\n",
            " Epoch 19/40 | Train Loss: 1.7358 | Train Acc: 0.3303\n",
            " Validation Accuracy: 0.3991\n",
            " Best model saved!\n",
            " Epoch 20/40 | Train Loss: 1.7354 | Train Acc: 0.3305\n",
            " Validation Accuracy: 0.3740\n",
            " No improvement. Patience counter: 1/7\n",
            " Epoch 21/40 | Train Loss: 1.7337 | Train Acc: 0.3305\n",
            " Validation Accuracy: 0.3904\n",
            " No improvement. Patience counter: 2/7\n",
            " Epoch 22/40 | Train Loss: 1.7310 | Train Acc: 0.3335\n",
            " Validation Accuracy: 0.3953\n",
            " No improvement. Patience counter: 3/7\n",
            " Epoch 23/40 | Train Loss: 1.7299 | Train Acc: 0.3326\n",
            " Validation Accuracy: 0.3890\n",
            " No improvement. Patience counter: 4/7\n",
            " Epoch 24/40 | Train Loss: 1.7284 | Train Acc: 0.3344\n",
            " Validation Accuracy: 0.3907\n",
            " No improvement. Patience counter: 5/7\n",
            " Epoch 25/40 | Train Loss: 1.7339 | Train Acc: 0.3316\n",
            " Validation Accuracy: 0.3970\n",
            " No improvement. Patience counter: 6/7\n",
            " Epoch 26/40 | Train Loss: 1.7274 | Train Acc: 0.3378\n",
            " Validation Accuracy: 0.3967\n",
            " No improvement. Patience counter: 7/7\n",
            " Early stopping triggered.\n"
          ]
        }
      ]
    },
    {
      "cell_type": "markdown",
      "source": [
        "s18"
      ],
      "metadata": {
        "id": "MiCMIrzSgP8r"
      }
    },
    {
      "cell_type": "code",
      "source": [
        "#  Unfreeze backbone\n",
        "for param in model.backbone.parameters():\n",
        "    param.requires_grad = True\n",
        "\n",
        "print(\"Backbone unfrozen. Starting fine-tuning phase...\")\n",
        "\n",
        "# Reset early stopping variables\n",
        "trigger = 0\n",
        "patience = 10\n",
        "num_epochs = 50\n",
        "best_ft_acc = best_acc  # continue tracking from previous best\n",
        "\n",
        "for epoch in range(num_epochs):\n",
        "    model.train()\n",
        "    running_loss = 0.0\n",
        "    correct = 0\n",
        "    total = 0\n",
        "\n",
        "    for images, labels in full_train_loader:\n",
        "        images, labels = images.to(device), labels.to(device)\n",
        "\n",
        "        optimizer.zero_grad()\n",
        "        with torch.amp.autocast(device_type='cuda'):\n",
        "            outputs = model(images)\n",
        "            loss = criterion(outputs, labels)\n",
        "\n",
        "        scaler.scale(loss).backward()\n",
        "        scaler.step(optimizer)\n",
        "        scaler.update()\n",
        "\n",
        "        running_loss += loss.item() * images.size(0)\n",
        "        preds = outputs.argmax(dim=1)\n",
        "        correct += (preds == labels).sum().item()\n",
        "        total += labels.size(0)\n",
        "\n",
        "    scheduler.step()\n",
        "    train_acc = correct / total\n",
        "    avg_loss = running_loss / total\n",
        "    print(f\" [FT] Epoch {epoch+1}/{num_epochs} | Train Loss: {avg_loss:.4f} | Train Acc: {train_acc:.4f}\")\n",
        "\n",
        "    # Evaluation\n",
        "    model.eval()\n",
        "    correct = 0\n",
        "    total = 0\n",
        "\n",
        "    with torch.no_grad():\n",
        "        for images, labels in val_loader:\n",
        "            bs, ncrops, c, h, w = images.size()\n",
        "            images = images.view(-1, c, h, w).to(device)\n",
        "            labels = labels.to(device)\n",
        "\n",
        "            with torch.amp.autocast(device_type='cuda'):\n",
        "                outputs = model(images)\n",
        "\n",
        "            outputs = outputs.view(bs, ncrops, -1).mean(1)\n",
        "            preds = outputs.argmax(1)\n",
        "            correct += (preds == labels).sum().item()\n",
        "            total += labels.size(0)\n",
        "\n",
        "    val_acc = correct / total\n",
        "    print(f\" [FT] Validation Accuracy: {val_acc:.4f}\")\n",
        "\n",
        "    # Early Stopping & Save\n",
        "    if val_acc > best_ft_acc:\n",
        "        best_ft_acc = val_acc\n",
        "        torch.save(model.state_dict(), \"best_fer_model_finetuned.pth\")\n",
        "        print(\" Best fine-tuned model saved!\")\n",
        "        trigger = 0\n",
        "    else:\n",
        "        trigger += 1\n",
        "        print(f\" No improvement. Patience counter: {trigger}/{patience}\")\n",
        "        if trigger >= patience:\n",
        "            print(\" Early stopping triggered (fine-tune).\")\n",
        "            break\n"
      ],
      "metadata": {
        "id": "Hl-npoem8-Jg",
        "colab": {
          "base_uri": "https://localhost:8080/"
        },
        "outputId": "656b9354-fff6-4d2f-9215-71285c8943ec"
      },
      "execution_count": 25,
      "outputs": [
        {
          "output_type": "stream",
          "name": "stdout",
          "text": [
            "Backbone unfrozen. Starting fine-tuning phase...\n",
            " [FT] Epoch 1/50 | Train Loss: 0.8762 | Train Acc: 0.8024\n",
            " [FT] Validation Accuracy: 0.6775\n",
            " Best fine-tuned model saved!\n",
            " [FT] Epoch 2/50 | Train Loss: 0.8561 | Train Acc: 0.8141\n",
            " [FT] Validation Accuracy: 0.6778\n",
            " Best fine-tuned model saved!\n",
            " [FT] Epoch 3/50 | Train Loss: 0.8537 | Train Acc: 0.8153\n",
            " [FT] Validation Accuracy: 0.6809\n",
            " Best fine-tuned model saved!\n",
            " [FT] Epoch 4/50 | Train Loss: 0.8481 | Train Acc: 0.8168\n",
            " [FT] Validation Accuracy: 0.6802\n",
            " No improvement. Patience counter: 1/10\n",
            " [FT] Epoch 5/50 | Train Loss: 0.8446 | Train Acc: 0.8207\n",
            " [FT] Validation Accuracy: 0.6771\n",
            " No improvement. Patience counter: 2/10\n",
            " [FT] Epoch 6/50 | Train Loss: 0.8394 | Train Acc: 0.8225\n",
            " [FT] Validation Accuracy: 0.6747\n",
            " No improvement. Patience counter: 3/10\n",
            " [FT] Epoch 7/50 | Train Loss: 1.0281 | Train Acc: 0.7285\n",
            " [FT] Validation Accuracy: 0.6458\n",
            " No improvement. Patience counter: 4/10\n",
            " [FT] Epoch 8/50 | Train Loss: 1.0359 | Train Acc: 0.7222\n",
            " [FT] Validation Accuracy: 0.6580\n",
            " No improvement. Patience counter: 5/10\n",
            " [FT] Epoch 9/50 | Train Loss: 1.0267 | Train Acc: 0.7296\n",
            " [FT] Validation Accuracy: 0.6489\n",
            " No improvement. Patience counter: 6/10\n",
            " [FT] Epoch 10/50 | Train Loss: 1.0227 | Train Acc: 0.7297\n",
            " [FT] Validation Accuracy: 0.6587\n",
            " No improvement. Patience counter: 7/10\n",
            " [FT] Epoch 11/50 | Train Loss: 1.0140 | Train Acc: 0.7335\n",
            " [FT] Validation Accuracy: 0.6486\n",
            " No improvement. Patience counter: 8/10\n",
            " [FT] Epoch 12/50 | Train Loss: 1.0115 | Train Acc: 0.7377\n",
            " [FT] Validation Accuracy: 0.6510\n",
            " No improvement. Patience counter: 9/10\n",
            " [FT] Epoch 13/50 | Train Loss: 0.9962 | Train Acc: 0.7449\n",
            " [FT] Validation Accuracy: 0.6465\n",
            " No improvement. Patience counter: 10/10\n",
            " Early stopping triggered (fine-tune).\n"
          ]
        }
      ]
    },
    {
      "cell_type": "markdown",
      "source": [
        "s19"
      ],
      "metadata": {
        "id": "fgCqqGwkgRs3"
      }
    },
    {
      "cell_type": "code",
      "source": [
        "import torch\n",
        "import torch.nn as nn\n",
        "import torchvision.models as models\n",
        "\n",
        "class EmotionResNet34(nn.Module):\n",
        "    def __init__(self, num_classes=7, dropout=0.5):\n",
        "        super(EmotionResNet34, self).__init__()\n",
        "\n",
        "        # Load pretrained ResNet34 backbone\n",
        "        self.backbone = models.resnet34(weights=models.ResNet34_Weights.DEFAULT)\n",
        "        in_features = self.backbone.fc.in_features\n",
        "\n",
        "        # Remove the original fully connected head\n",
        "        self.backbone.fc = nn.Identity()\n",
        "\n",
        "        # Custom classification head\n",
        "        self.classifier = nn.Sequential(\n",
        "            nn.BatchNorm1d(in_features),\n",
        "            nn.Dropout(dropout),\n",
        "            nn.Linear(in_features, 256),\n",
        "            nn.ReLU(inplace=True),\n",
        "            nn.BatchNorm1d(256),\n",
        "            nn.Dropout(dropout),\n",
        "            nn.Linear(256, num_classes)\n",
        "        )\n",
        "\n",
        "        self._initialize_weights()\n",
        "\n",
        "    def forward(self, x):\n",
        "        features = self.backbone(x)       # Extracted features from ResNet34\n",
        "        output = self.classifier(features)\n",
        "        return output\n",
        "\n",
        "    def _initialize_weights(self):\n",
        "        for m in self.classifier:\n",
        "            if isinstance(m, nn.Linear):\n",
        "                nn.init.kaiming_normal_(m.weight)\n",
        "                nn.init.constant_(m.bias, 0)"
      ],
      "metadata": {
        "id": "AE9P-Dsu9AFe"
      },
      "execution_count": 26,
      "outputs": []
    },
    {
      "cell_type": "markdown",
      "source": [
        "s20"
      ],
      "metadata": {
        "id": "M39_HBGWgUCy"
      }
    },
    {
      "cell_type": "markdown",
      "source": [
        "Test-Time Augmentation (TTA) Evaluation"
      ],
      "metadata": {
        "id": "kxGRijY6XfD5"
      }
    },
    {
      "cell_type": "code",
      "source": [
        "# Load best model\n",
        "model.load_state_dict(torch.load(\"best_fer_model_finetuned.pth\"))\n",
        "model.eval()\n",
        "\n",
        "correct = 0\n",
        "total = 0\n",
        "\n",
        "with torch.no_grad():\n",
        "    for images, labels in test_loader:\n",
        "        bs, ncrops, c, h, w = images.size()\n",
        "        images = images.view(-1, c, h, w).to(device)\n",
        "        labels = labels.to(device)\n",
        "\n",
        "        with torch.amp.autocast(device_type='cuda'):\n",
        "            outputs = model(images)\n",
        "        outputs = outputs.view(bs, ncrops, -1).mean(1)\n",
        "        preds = outputs.argmax(1)\n",
        "\n",
        "        correct += (preds == labels).sum().item()\n",
        "        total += labels.size(0)\n",
        "\n",
        "test_acc = correct / total\n",
        "print(f\"Final Test Accuracy with TTA: {test_acc:.4f}\")"
      ],
      "metadata": {
        "id": "IYaCrhpoXfha",
        "colab": {
          "base_uri": "https://localhost:8080/"
        },
        "outputId": "612a589b-3f99-4ff1-f4d7-e9a1650e910e"
      },
      "execution_count": 27,
      "outputs": [
        {
          "output_type": "stream",
          "name": "stdout",
          "text": [
            "Final Test Accuracy with TTA: 0.6882\n"
          ]
        }
      ]
    },
    {
      "cell_type": "markdown",
      "source": [
        "**Achieved  68.82% Final Test Accuracy with TTA on FER-2013 — that's higher than the baseline paper (~66%) and a very strong result on this challenging dataset.**\n",
        "\n",
        "\n",
        "successfully built a:\n",
        "\n",
        " 1. Modern, robust facial expression recognition pipeline\n",
        "\n",
        " 2. ResNet34 + label smoothing + AMP + cosine LR + CLAHE + TenCrop + TTA"
      ],
      "metadata": {
        "id": "0TPOuaK7Yak8"
      }
    },
    {
      "cell_type": "markdown",
      "source": [
        "Enhanced TTA + Softmax Averaging"
      ],
      "metadata": {
        "id": "FwWkko1rnaG_"
      }
    },
    {
      "cell_type": "code",
      "source": [
        "import torch.nn.functional as F\n",
        "\n",
        "# Load best model\n",
        "model.load_state_dict(torch.load(\"best_fer_model_finetuned.pth\"))\n",
        "model.eval()\n",
        "\n",
        "correct = 0\n",
        "total = 0\n",
        "\n",
        "all_preds = []\n",
        "all_labels = []\n",
        "\n",
        "with torch.no_grad():\n",
        "    for images, labels in test_loader:\n",
        "        bs, ncrops, c, h, w = images.size()\n",
        "        images = images.view(-1, c, h, w).to(device)\n",
        "        labels = labels.to(device)\n",
        "\n",
        "        with torch.amp.autocast(device_type='cuda'):\n",
        "            outputs = model(images)\n",
        "\n",
        "        # Average predictions from 10 crops\n",
        "        outputs = outputs.view(bs, ncrops, -1).mean(1)\n",
        "\n",
        "        # Use softmax for stable probability outputs\n",
        "        probs = F.softmax(outputs, dim=1)\n",
        "        preds = probs.argmax(1)\n",
        "\n",
        "        correct += (preds == labels).sum().item()\n",
        "        total += labels.size(0)\n",
        "\n",
        "test_acc = correct / total\n",
        "print(f\"Final Test Accuracy with Enhanced TTA: {test_acc:.4f}\")\n"
      ],
      "metadata": {
        "colab": {
          "base_uri": "https://localhost:8080/"
        },
        "id": "uk5gy8ejm0V_",
        "outputId": "14e29656-53d0-40f9-9483-8404ee944cac"
      },
      "execution_count": 28,
      "outputs": [
        {
          "output_type": "stream",
          "name": "stdout",
          "text": [
            "Final Test Accuracy with Enhanced TTA: 0.6882\n"
          ]
        }
      ]
    },
    {
      "cell_type": "markdown",
      "source": [
        "s21"
      ],
      "metadata": {
        "id": "vm0275FygW93"
      }
    },
    {
      "cell_type": "markdown",
      "source": [
        "Confusion Matrix & Classification Report"
      ],
      "metadata": {
        "id": "OeLlljeDXrNA"
      }
    },
    {
      "cell_type": "code",
      "source": [
        "from sklearn.metrics import confusion_matrix, classification_report\n",
        "import seaborn as sns\n",
        "import matplotlib.pyplot as plt\n",
        "\n",
        "all_preds = []\n",
        "all_labels = []\n",
        "\n",
        "model.eval()\n",
        "with torch.no_grad():\n",
        "    for images, labels in test_loader:\n",
        "        bs, ncrops, c, h, w = images.size()\n",
        "        images = images.view(-1, c, h, w).to(device)\n",
        "        labels = labels.to(device)\n",
        "\n",
        "        with torch.amp.autocast(device_type='cuda'):\n",
        "            outputs = model(images)\n",
        "\n",
        "        outputs = outputs.view(bs, ncrops, -1).mean(1)\n",
        "        preds = outputs.argmax(1)\n",
        "\n",
        "        all_preds.extend(preds.cpu().numpy())\n",
        "        all_labels.extend(labels.cpu().numpy())\n",
        "\n",
        "# Report\n",
        "print(classification_report(all_labels, all_preds, target_names=[\n",
        "    \"Angry\", \"Disgust\", \"Fear\", \"Happy\", \"Sad\", \"Surprise\", \"Neutral\"\n",
        "]))\n",
        "\n",
        "# Confusion Matrix\n",
        "cm = confusion_matrix(all_labels, all_preds)\n",
        "plt.figure(figsize=(8, 6))\n",
        "sns.heatmap(cm, annot=True, fmt=\"d\", cmap=\"Blues\", xticklabels=[\n",
        "    \"Angry\", \"Disgust\", \"Fear\", \"Happy\", \"Sad\", \"Surprise\", \"Neutral\"\n",
        "], yticklabels=[\n",
        "    \"Angry\", \"Disgust\", \"Fear\", \"Happy\", \"Sad\", \"Surprise\", \"Neutral\"\n",
        "])\n",
        "plt.title(\"Confusion Matrix\")\n",
        "plt.ylabel(\"True Label\")\n",
        "plt.xlabel(\"Predicted Label\")\n",
        "plt.show()\n"
      ],
      "metadata": {
        "id": "11TLB5_OXrsV",
        "colab": {
          "base_uri": "https://localhost:8080/",
          "height": 807
        },
        "outputId": "ac26e96c-0c51-4e1f-9807-aa2385626356"
      },
      "execution_count": 29,
      "outputs": [
        {
          "output_type": "stream",
          "name": "stdout",
          "text": [
            "              precision    recall  f1-score   support\n",
            "\n",
            "       Angry       0.59      0.62      0.60       958\n",
            "     Disgust       0.74      0.55      0.63       111\n",
            "        Fear       0.56      0.51      0.54      1024\n",
            "       Happy       0.87      0.88      0.87      1774\n",
            "         Sad       0.65      0.66      0.65      1233\n",
            "    Surprise       0.56      0.57      0.57      1247\n",
            "     Neutral       0.81      0.81      0.81       831\n",
            "\n",
            "    accuracy                           0.69      7178\n",
            "   macro avg       0.68      0.66      0.67      7178\n",
            "weighted avg       0.69      0.69      0.69      7178\n",
            "\n"
          ]
        },
        {
          "output_type": "display_data",
          "data": {
            "text/plain": [
              "<Figure size 800x600 with 2 Axes>"
            ],
            "image/png": "[encoded data removed]"
          },
          "metadata": {}
        }
      ]
    },
    {
      "cell_type": "code",
      "source": [
        "import torch.nn as nn\n",
        "import torchvision.models as models\n",
        "\n",
        "class EmotionResNet34(nn.Module):\n",
        "    def __init__(self):\n",
        "        super(EmotionResNet34, self).__init__()\n",
        "        base_model = models.resnet34(pretrained=False)\n",
        "\n",
        "        self.backbone = nn.Sequential(*list(base_model.children())[:-2])  # until last conv block\n",
        "        self.pool = nn.AdaptiveAvgPool2d((1, 1))\n",
        "\n",
        "        self.classifier = nn.Sequential(\n",
        "            nn.Flatten(),\n",
        "            nn.Linear(512, 256),\n",
        "            nn.ReLU(),\n",
        "            nn.BatchNorm1d(256),\n",
        "            nn.Dropout(0.5),\n",
        "            nn.Linear(256, 128),\n",
        "            nn.ReLU(),\n",
        "            nn.BatchNorm1d(128),\n",
        "            nn.Dropout(0.5),\n",
        "            nn.Linear(128, 7)  # FER-2013 has 7 emotion classes\n",
        "        )\n",
        "\n",
        "    def forward(self, x):\n",
        "        x = self.backbone(x)\n",
        "        x = self.pool(x)\n",
        "        x = self.classifier(x)\n",
        "        return x"
      ],
      "metadata": {
        "id": "UkL5e0D_UXHu"
      },
      "execution_count": 30,
      "outputs": []
    },
    {
      "cell_type": "code",
      "source": [
        "# Load models\n",
        "model18 = EmotionResNet18().to(device)\n",
        "model34 = EmotionResNet34().to(device)\n",
        "\n",
        "# Load best weights\n",
        "model18.load_state_dict(torch.load(\"best_fer_model_stage1.pth\", map_location=device))\n",
        "\n",
        "model18.eval()\n",
        "model34.eval()\n"
      ],
      "metadata": {
        "colab": {
          "base_uri": "https://localhost:8080/"
        },
        "id": "aDxRyqGAZOxy",
        "outputId": "7931e9a3-54f7-4f74-c7d3-3effeee6303d"
      },
      "execution_count": 31,
      "outputs": [
        {
          "output_type": "stream",
          "name": "stderr",
          "text": [
            "/usr/local/lib/python3.11/dist-packages/torchvision/models/_utils.py:208: UserWarning: The parameter 'pretrained' is deprecated since 0.13 and may be removed in the future, please use 'weights' instead.\n",
            "  warnings.warn(\n",
            "/usr/local/lib/python3.11/dist-packages/torchvision/models/_utils.py:223: UserWarning: Arguments other than a weight enum or `None` for 'weights' are deprecated since 0.13 and may be removed in the future. The current behavior is equivalent to passing `weights=None`.\n",
            "  warnings.warn(msg)\n"
          ]
        },
        {
          "output_type": "execute_result",
          "data": {
            "text/plain": [
              "EmotionResNet34(\n",
              "  (backbone): Sequential(\n",
              "    (0): Conv2d(3, 64, kernel_size=(7, 7), stride=(2, 2), padding=(3, 3), bias=False)\n",
              "    (1): BatchNorm2d(64, eps=1e-05, momentum=0.1, affine=True, track_running_stats=True)\n",
              "    (2): ReLU(inplace=True)\n",
              "    (3): MaxPool2d(kernel_size=3, stride=2, padding=1, dilation=1, ceil_mode=False)\n",
              "    (4): Sequential(\n",
              "      (0): BasicBlock(\n",
              "        (conv1): Conv2d(64, 64, kernel_size=(3, 3), stride=(1, 1), padding=(1, 1), bias=False)\n",
              "        (bn1): BatchNorm2d(64, eps=1e-05, momentum=0.1, affine=True, track_running_stats=True)\n",
              "        (relu): ReLU(inplace=True)\n",
              "        (conv2): Conv2d(64, 64, kernel_size=(3, 3), stride=(1, 1), padding=(1, 1), bias=False)\n",
              "        (bn2): BatchNorm2d(64, eps=1e-05, momentum=0.1, affine=True, track_running_stats=True)\n",
              "      )\n",
              "      (1): BasicBlock(\n",
              "        (conv1): Conv2d(64, 64, kernel_size=(3, 3), stride=(1, 1), padding=(1, 1), bias=False)\n",
              "        (bn1): BatchNorm2d(64, eps=1e-05, momentum=0.1, affine=True, track_running_stats=True)\n",
              "        (relu): ReLU(inplace=True)\n",
              "        (conv2): Conv2d(64, 64, kernel_size=(3, 3), stride=(1, 1), padding=(1, 1), bias=False)\n",
              "        (bn2): BatchNorm2d(64, eps=1e-05, momentum=0.1, affine=True, track_running_stats=True)\n",
              "      )\n",
              "      (2): BasicBlock(\n",
              "        (conv1): Conv2d(64, 64, kernel_size=(3, 3), stride=(1, 1), padding=(1, 1), bias=False)\n",
              "        (bn1): BatchNorm2d(64, eps=1e-05, momentum=0.1, affine=True, track_running_stats=True)\n",
              "        (relu): ReLU(inplace=True)\n",
              "        (conv2): Conv2d(64, 64, kernel_size=(3, 3), stride=(1, 1), padding=(1, 1), bias=False)\n",
              "        (bn2): BatchNorm2d(64, eps=1e-05, momentum=0.1, affine=True, track_running_stats=True)\n",
              "      )\n",
              "    )\n",
              "    (5): Sequential(\n",
              "      (0): BasicBlock(\n",
              "        (conv1): Conv2d(64, 128, kernel_size=(3, 3), stride=(2, 2), padding=(1, 1), bias=False)\n",
              "        (bn1): BatchNorm2d(128, eps=1e-05, momentum=0.1, affine=True, track_running_stats=True)\n",
              "        (relu): ReLU(inplace=True)\n",
              "        (conv2): Conv2d(128, 128, kernel_size=(3, 3), stride=(1, 1), padding=(1, 1), bias=False)\n",
              "        (bn2): BatchNorm2d(128, eps=1e-05, momentum=0.1, affine=True, track_running_stats=True)\n",
              "        (downsample): Sequential(\n",
              "          (0): Conv2d(64, 128, kernel_size=(1, 1), stride=(2, 2), bias=False)\n",
              "          (1): BatchNorm2d(128, eps=1e-05, momentum=0.1, affine=True, track_running_stats=True)\n",
              "        )\n",
              "      )\n",
              "      (1): BasicBlock(\n",
              "        (conv1): Conv2d(128, 128, kernel_size=(3, 3), stride=(1, 1), padding=(1, 1), bias=False)\n",
              "        (bn1): BatchNorm2d(128, eps=1e-05, momentum=0.1, affine=True, track_running_stats=True)\n",
              "        (relu): ReLU(inplace=True)\n",
              "        (conv2): Conv2d(128, 128, kernel_size=(3, 3), stride=(1, 1), padding=(1, 1), bias=False)\n",
              "        (bn2): BatchNorm2d(128, eps=1e-05, momentum=0.1, affine=True, track_running_stats=True)\n",
              "      )\n",
              "      (2): BasicBlock(\n",
              "        (conv1): Conv2d(128, 128, kernel_size=(3, 3), stride=(1, 1), padding=(1, 1), bias=False)\n",
              "        (bn1): BatchNorm2d(128, eps=1e-05, momentum=0.1, affine=True, track_running_stats=True)\n",
              "        (relu): ReLU(inplace=True)\n",
              "        (conv2): Conv2d(128, 128, kernel_size=(3, 3), stride=(1, 1), padding=(1, 1), bias=False)\n",
              "        (bn2): BatchNorm2d(128, eps=1e-05, momentum=0.1, affine=True, track_running_stats=True)\n",
              "      )\n",
              "      (3): BasicBlock(\n",
              "        (conv1): Conv2d(128, 128, kernel_size=(3, 3), stride=(1, 1), padding=(1, 1), bias=False)\n",
              "        (bn1): BatchNorm2d(128, eps=1e-05, momentum=0.1, affine=True, track_running_stats=True)\n",
              "        (relu): ReLU(inplace=True)\n",
              "        (conv2): Conv2d(128, 128, kernel_size=(3, 3), stride=(1, 1), padding=(1, 1), bias=False)\n",
              "        (bn2): BatchNorm2d(128, eps=1e-05, momentum=0.1, affine=True, track_running_stats=True)\n",
              "      )\n",
              "    )\n",
              "    (6): Sequential(\n",
              "      (0): BasicBlock(\n",
              "        (conv1): Conv2d(128, 256, kernel_size=(3, 3), stride=(2, 2), padding=(1, 1), bias=False)\n",
              "        (bn1): BatchNorm2d(256, eps=1e-05, momentum=0.1, affine=True, track_running_stats=True)\n",
              "        (relu): ReLU(inplace=True)\n",
              "        (conv2): Conv2d(256, 256, kernel_size=(3, 3), stride=(1, 1), padding=(1, 1), bias=False)\n",
              "        (bn2): BatchNorm2d(256, eps=1e-05, momentum=0.1, affine=True, track_running_stats=True)\n",
              "        (downsample): Sequential(\n",
              "          (0): Conv2d(128, 256, kernel_size=(1, 1), stride=(2, 2), bias=False)\n",
              "          (1): BatchNorm2d(256, eps=1e-05, momentum=0.1, affine=True, track_running_stats=True)\n",
              "        )\n",
              "      )\n",
              "      (1): BasicBlock(\n",
              "        (conv1): Conv2d(256, 256, kernel_size=(3, 3), stride=(1, 1), padding=(1, 1), bias=False)\n",
              "        (bn1): BatchNorm2d(256, eps=1e-05, momentum=0.1, affine=True, track_running_stats=True)\n",
              "        (relu): ReLU(inplace=True)\n",
              "        (conv2): Conv2d(256, 256, kernel_size=(3, 3), stride=(1, 1), padding=(1, 1), bias=False)\n",
              "        (bn2): BatchNorm2d(256, eps=1e-05, momentum=0.1, affine=True, track_running_stats=True)\n",
              "      )\n",
              "      (2): BasicBlock(\n",
              "        (conv1): Conv2d(256, 256, kernel_size=(3, 3), stride=(1, 1), padding=(1, 1), bias=False)\n",
              "        (bn1): BatchNorm2d(256, eps=1e-05, momentum=0.1, affine=True, track_running_stats=True)\n",
              "        (relu): ReLU(inplace=True)\n",
              "        (conv2): Conv2d(256, 256, kernel_size=(3, 3), stride=(1, 1), padding=(1, 1), bias=False)\n",
              "        (bn2): BatchNorm2d(256, eps=1e-05, momentum=0.1, affine=True, track_running_stats=True)\n",
              "      )\n",
              "      (3): BasicBlock(\n",
              "        (conv1): Conv2d(256, 256, kernel_size=(3, 3), stride=(1, 1), padding=(1, 1), bias=False)\n",
              "        (bn1): BatchNorm2d(256, eps=1e-05, momentum=0.1, affine=True, track_running_stats=True)\n",
              "        (relu): ReLU(inplace=True)\n",
              "        (conv2): Conv2d(256, 256, kernel_size=(3, 3), stride=(1, 1), padding=(1, 1), bias=False)\n",
              "        (bn2): BatchNorm2d(256, eps=1e-05, momentum=0.1, affine=True, track_running_stats=True)\n",
              "      )\n",
              "      (4): BasicBlock(\n",
              "        (conv1): Conv2d(256, 256, kernel_size=(3, 3), stride=(1, 1), padding=(1, 1), bias=False)\n",
              "        (bn1): BatchNorm2d(256, eps=1e-05, momentum=0.1, affine=True, track_running_stats=True)\n",
              "        (relu): ReLU(inplace=True)\n",
              "        (conv2): Conv2d(256, 256, kernel_size=(3, 3), stride=(1, 1), padding=(1, 1), bias=False)\n",
              "        (bn2): BatchNorm2d(256, eps=1e-05, momentum=0.1, affine=True, track_running_stats=True)\n",
              "      )\n",
              "      (5): BasicBlock(\n",
              "        (conv1): Conv2d(256, 256, kernel_size=(3, 3), stride=(1, 1), padding=(1, 1), bias=False)\n",
              "        (bn1): BatchNorm2d(256, eps=1e-05, momentum=0.1, affine=True, track_running_stats=True)\n",
              "        (relu): ReLU(inplace=True)\n",
              "        (conv2): Conv2d(256, 256, kernel_size=(3, 3), stride=(1, 1), padding=(1, 1), bias=False)\n",
              "        (bn2): BatchNorm2d(256, eps=1e-05, momentum=0.1, affine=True, track_running_stats=True)\n",
              "      )\n",
              "    )\n",
              "    (7): Sequential(\n",
              "      (0): BasicBlock(\n",
              "        (conv1): Conv2d(256, 512, kernel_size=(3, 3), stride=(2, 2), padding=(1, 1), bias=False)\n",
              "        (bn1): BatchNorm2d(512, eps=1e-05, momentum=0.1, affine=True, track_running_stats=True)\n",
              "        (relu): ReLU(inplace=True)\n",
              "        (conv2): Conv2d(512, 512, kernel_size=(3, 3), stride=(1, 1), padding=(1, 1), bias=False)\n",
              "        (bn2): BatchNorm2d(512, eps=1e-05, momentum=0.1, affine=True, track_running_stats=True)\n",
              "        (downsample): Sequential(\n",
              "          (0): Conv2d(256, 512, kernel_size=(1, 1), stride=(2, 2), bias=False)\n",
              "          (1): BatchNorm2d(512, eps=1e-05, momentum=0.1, affine=True, track_running_stats=True)\n",
              "        )\n",
              "      )\n",
              "      (1): BasicBlock(\n",
              "        (conv1): Conv2d(512, 512, kernel_size=(3, 3), stride=(1, 1), padding=(1, 1), bias=False)\n",
              "        (bn1): BatchNorm2d(512, eps=1e-05, momentum=0.1, affine=True, track_running_stats=True)\n",
              "        (relu): ReLU(inplace=True)\n",
              "        (conv2): Conv2d(512, 512, kernel_size=(3, 3), stride=(1, 1), padding=(1, 1), bias=False)\n",
              "        (bn2): BatchNorm2d(512, eps=1e-05, momentum=0.1, affine=True, track_running_stats=True)\n",
              "      )\n",
              "      (2): BasicBlock(\n",
              "        (conv1): Conv2d(512, 512, kernel_size=(3, 3), stride=(1, 1), padding=(1, 1), bias=False)\n",
              "        (bn1): BatchNorm2d(512, eps=1e-05, momentum=0.1, affine=True, track_running_stats=True)\n",
              "        (relu): ReLU(inplace=True)\n",
              "        (conv2): Conv2d(512, 512, kernel_size=(3, 3), stride=(1, 1), padding=(1, 1), bias=False)\n",
              "        (bn2): BatchNorm2d(512, eps=1e-05, momentum=0.1, affine=True, track_running_stats=True)\n",
              "      )\n",
              "    )\n",
              "  )\n",
              "  (pool): AdaptiveAvgPool2d(output_size=(1, 1))\n",
              "  (classifier): Sequential(\n",
              "    (0): Flatten(start_dim=1, end_dim=-1)\n",
              "    (1): Linear(in_features=512, out_features=256, bias=True)\n",
              "    (2): ReLU()\n",
              "    (3): BatchNorm1d(256, eps=1e-05, momentum=0.1, affine=True, track_running_stats=True)\n",
              "    (4): Dropout(p=0.5, inplace=False)\n",
              "    (5): Linear(in_features=256, out_features=128, bias=True)\n",
              "    (6): ReLU()\n",
              "    (7): BatchNorm1d(128, eps=1e-05, momentum=0.1, affine=True, track_running_stats=True)\n",
              "    (8): Dropout(p=0.5, inplace=False)\n",
              "    (9): Linear(in_features=128, out_features=7, bias=True)\n",
              "  )\n",
              ")"
            ]
          },
          "metadata": {},
          "execution_count": 31
        }
      ]
    },
    {
      "cell_type": "code",
      "source": [
        "import torch.nn.functional as F\n",
        "import torchvision.transforms.functional as TF\n",
        "\n",
        "correct = 0\n",
        "total = 0\n",
        "\n",
        "model18.eval()\n",
        "model34.eval()\n",
        "\n",
        "with torch.no_grad():\n",
        "    for images, labels in test_loader:\n",
        "        bs, ncrops, c, h, w = images.size()\n",
        "        images = images.view(-1, c, h, w).to(device)\n",
        "        labels = labels.to(device)\n",
        "\n",
        "        with torch.amp.autocast(device_type='cuda'):\n",
        "            outputs18 = model18(images)\n",
        "            outputs34 = model34(images)\n",
        "\n",
        "        outputs18 = outputs18.view(bs, ncrops, -1).mean(1)\n",
        "        outputs34 = outputs34.view(bs, ncrops, -1).mean(1)\n",
        "\n",
        "        probs18 = F.softmax(outputs18, dim=1)\n",
        "        probs34 = F.softmax(outputs34, dim=1)\n",
        "\n",
        "        ensemble_probs = (probs18 + probs34) / 2\n",
        "        preds = ensemble_probs.argmax(1)\n",
        "\n",
        "        correct += (preds == labels).sum().item()\n",
        "        total += labels.size(0)\n",
        "\n",
        "print(f\"Final Test Accuracy with ResNet18 + ResNet34 Ensemble TTA: {correct/total:.4f}\")"
      ],
      "metadata": {
        "colab": {
          "base_uri": "https://localhost:8080/"
        },
        "id": "YQbz9jD6tqJk",
        "outputId": "08f85558-7d29-465e-ca5e-1c4dcc2907ec"
      },
      "execution_count": 32,
      "outputs": [
        {
          "output_type": "stream",
          "name": "stdout",
          "text": [
            "Final Test Accuracy with ResNet18 + ResNet34 Ensemble TTA: 0.3711\n"
          ]
        }
      ]
    }
  ],
  "metadata": {
    "colab": {
      "provenance": [],
      "gpuType": "T4",
      "include_colab_link": true
    },
    "kernelspec": {
      "display_name": "Python 3",
      "name": "python3"
    },
    "accelerator": "GPU"
  },
  "nbformat": 4,
  "nbformat_minor": 0
}